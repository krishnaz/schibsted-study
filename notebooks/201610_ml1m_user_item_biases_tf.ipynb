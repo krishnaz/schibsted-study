{
 "cells": [
  {
   "cell_type": "markdown",
   "metadata": {
    "collapsed": true
   },
   "source": [
    "# Loading data"
   ]
  },
  {
   "cell_type": "code",
   "execution_count": null,
   "metadata": {
    "collapsed": false
   },
   "outputs": [],
   "source": [
    "! wget http://files.grouplens.org/datasets/movielens/ml-1m.zip\n",
    "! unzip ml-1m.zip -d ."
   ]
  },
  {
   "cell_type": "code",
   "execution_count": 1,
   "metadata": {
    "collapsed": true
   },
   "outputs": [],
   "source": [
    "import pandas as pd\n",
    "import numpy as np\n",
    "import tensorflow\n",
    "import tflearn"
   ]
  },
  {
   "cell_type": "code",
   "execution_count": 2,
   "metadata": {
    "collapsed": false
   },
   "outputs": [],
   "source": [
    "ratings = (pd.read_csv('./ml-1m/ratings.dat', engine='python', sep='::', names=['user', 'item', 'rating', 'timestamp'])\n",
    "    .assign(timestamp=lambda df:pd.to_datetime(df.timestamp * 1000000000))\n",
    "          )\n",
    "\n",
    "movies = (pd.read_csv('./ml-1m/movies.dat', engine='python', sep='::', names=['item', 'title', 'genres'])\n",
    "          .assign(genres=lambda df:df.genres.str.split('|').values)\n",
    "          .set_index('item', drop=False))\n",
    "\n",
    "# See http://files.grouplens.org/datasets/movielens/ml-1m-README.txt for more details\n",
    "users = pd.read_csv('./ml-1m/users.dat', engine='python', sep='::', \n",
    "                    names=['user', 'gender', 'age', 'occupation', 'zipcode'])\\\n",
    "    .set_index('user', drop=False)"
   ]
  },
  {
   "cell_type": "markdown",
   "metadata": {},
   "source": [
    "## Train/test split\n",
    "\n",
    " * Ideally time based split\n",
    " * For the sake of simplicity, let's just sample ratings uniformly (breaking the time machine rule)"
   ]
  },
  {
   "cell_type": "code",
   "execution_count": 3,
   "metadata": {
    "collapsed": false
   },
   "outputs": [
    {
     "name": "stdout",
     "output_type": "stream",
     "text": [
      "(900209, 4)\n",
      "(100000, 4)\n"
     ]
    },
    {
     "data": {
      "text/html": [
       "<div>\n",
       "<table border=\"1\" class=\"dataframe\">\n",
       "  <thead>\n",
       "    <tr style=\"text-align: right;\">\n",
       "      <th></th>\n",
       "      <th>user</th>\n",
       "      <th>item</th>\n",
       "      <th>rating</th>\n",
       "      <th>timestamp</th>\n",
       "    </tr>\n",
       "  </thead>\n",
       "  <tbody>\n",
       "    <tr>\n",
       "      <th>324271</th>\n",
       "      <td>1922</td>\n",
       "      <td>2094</td>\n",
       "      <td>4</td>\n",
       "      <td>2000-11-20 04:34:27</td>\n",
       "    </tr>\n",
       "    <tr>\n",
       "      <th>818637</th>\n",
       "      <td>4918</td>\n",
       "      <td>2808</td>\n",
       "      <td>1</td>\n",
       "      <td>2000-07-08 19:29:05</td>\n",
       "    </tr>\n",
       "    <tr>\n",
       "      <th>148677</th>\n",
       "      <td>957</td>\n",
       "      <td>1660</td>\n",
       "      <td>4</td>\n",
       "      <td>2000-11-25 05:28:13</td>\n",
       "    </tr>\n",
       "    <tr>\n",
       "      <th>778790</th>\n",
       "      <td>4653</td>\n",
       "      <td>914</td>\n",
       "      <td>5</td>\n",
       "      <td>2000-11-29 21:22:43</td>\n",
       "    </tr>\n",
       "    <tr>\n",
       "      <th>525489</th>\n",
       "      <td>3245</td>\n",
       "      <td>3324</td>\n",
       "      <td>1</td>\n",
       "      <td>2000-09-07 06:33:31</td>\n",
       "    </tr>\n",
       "  </tbody>\n",
       "</table>\n",
       "</div>"
      ],
      "text/plain": [
       "        user  item  rating           timestamp\n",
       "324271  1922  2094       4 2000-11-20 04:34:27\n",
       "818637  4918  2808       1 2000-07-08 19:29:05\n",
       "148677   957  1660       4 2000-11-25 05:28:13\n",
       "778790  4653   914       5 2000-11-29 21:22:43\n",
       "525489  3245  3324       1 2000-09-07 06:33:31"
      ]
     },
     "execution_count": 3,
     "metadata": {},
     "output_type": "execute_result"
    }
   ],
   "source": [
    "test = ratings.sample(n=100000, random_state=0)\n",
    "train_ratings_mask = ~ratings.index.isin(test.index)\n",
    "train = ratings.loc[train_ratings_mask]\n",
    "\n",
    "test_user_items = test[['user', 'item']]\n",
    "\n",
    "print(train.shape)\n",
    "print(test.shape)\n",
    "\n",
    "test.head()"
   ]
  },
  {
   "cell_type": "code",
   "execution_count": 4,
   "metadata": {
    "collapsed": true
   },
   "outputs": [],
   "source": [
    "def rmse(predicted_ratings, ground_truth_ratings=test):\n",
    "    # predicted rating will be nan if no prediction => returning nan as a result if not all test ratings provided\n",
    "    joined_ratings = pd.merge(\n",
    "        ground_truth_ratings,\n",
    "        predicted_ratings, \n",
    "        on=['user', 'item'], how='left', suffixes=['_ground_truth', '_predicted'])\n",
    "\n",
    "    squared_errors = np.power(joined_ratings.rating_ground_truth - joined_ratings.rating_predicted, 2)\n",
    "    \n",
    "    return np.sqrt(np.average(squared_errors))"
   ]
  },
  {
   "cell_type": "markdown",
   "metadata": {},
   "source": [
    "## Bias model in TensorFlow\n",
    "\n",
    "Inspired by https://github.com/mesuvash/TFMF/blob/master/TFMF.ipynb and https://github.com/tensorflow/tensorflow/blob/r0.11/tensorflow/examples/tutorials/mnist/mnist.py."
   ]
  },
  {
   "cell_type": "code",
   "execution_count": 5,
   "metadata": {
    "collapsed": false
   },
   "outputs": [
    {
     "name": "stdout",
     "output_type": "stream",
     "text": [
      "Step 0: batch/test loss = 3.75/3.54\n",
      "Step 10: batch/test loss = 1.86/1.72\n",
      "Step 20: batch/test loss = 1.20/1.20\n",
      "Step 30: batch/test loss = 1.06/1.05\n",
      "Step 40: batch/test loss = 0.96/0.97\n",
      "Step 50: batch/test loss = 0.93/0.93\n",
      "Step 60: batch/test loss = 0.92/0.92\n",
      "Step 70: batch/test loss = 0.90/0.91\n",
      "Step 80: batch/test loss = 0.90/0.91\n",
      "Step 90: batch/test loss = 0.90/0.91\n"
     ]
    }
   ],
   "source": [
    "import tensorflow as tf\n",
    "import datetime as dt\n",
    "\n",
    "N_ITEMS = ratings.item.max() + 1\n",
    "N_USERS = ratings.user.max() + 1\n",
    "BATCH_SIZE = 512 * 512\n",
    "N_ITER = 100\n",
    "LOG_DIR = '/tmp/tflearn_logs'\n",
    "\n",
    "\n",
    "def inference(user_ids, item_ids):\n",
    "    with tf.name_scope('user_biases'):\n",
    "        user_biases =  tf.Variable(tf.truncated_normal(shape=[N_USERS, 1], stddev=0.01, mean=0), name='user_bias')\n",
    "        tf.histogram_summary('user_biases', user_biases)\n",
    "    with tf.name_scope('item_biases'):\n",
    "        item_biases =  tf.Variable(tf.truncated_normal(shape=[N_ITEMS, 1], stddev=0.01, mean=0), name='item_bias')\n",
    "        tf.histogram_summary('item_biases', item_biases)\n",
    "\n",
    "    bias_prediction = tf.add(\n",
    "        tf.squeeze(tf.nn.embedding_lookup(params=item_biases, ids=item_ids)),\n",
    "        tf.squeeze(tf.nn.embedding_lookup(params=user_biases, ids=user_ids))\n",
    "        )\n",
    "    return bias_prediction\n",
    "    \n",
    "def compute_loss(predictions, targets):\n",
    "    loss = tf.sqrt(tf.reduce_mean(tf.square(tf.sub(predictions, targets))), name='rmse')\n",
    "    return loss\n",
    "\n",
    "def training(loss, learning_rate=0.01):\n",
    "    train_step = tf.train.AdamOptimizer(learning_rate).minimize(loss)\n",
    "    return train_step\n",
    "\n",
    "def placeholder_inputs(batch_size=None):\n",
    "    item_ids_placeholder = tf.placeholder(tf.int32, shape=[batch_size], name='item_ids')\n",
    "    user_ids_placeholder = tf.placeholder(tf.int32, shape=[batch_size], name='user_ids')\n",
    "    ratings_placeholder = tf.placeholder(tf.float32, shape=[batch_size], name='ratings')\n",
    "    return user_ids_placeholder, item_ids_placeholder, ratings_placeholder\n",
    "\n",
    "with tf.Graph().as_default():\n",
    "    user_ids_placeholder, item_ids_placeholder, ratings_placeholder = placeholder_inputs()\n",
    "    \n",
    "    predictions = inference(user_ids_placeholder, item_ids_placeholder)\n",
    "    \n",
    "    loss = compute_loss(predictions, ratings_placeholder)\n",
    "    tf.scalar_summary('batch_rmse', loss)\n",
    "    summary = tf.merge_all_summaries()\n",
    "    test_summary = tf.scalar_summary('test_rmse', loss)\n",
    "\n",
    "    train_step = training(loss)\n",
    "\n",
    "    def perform_step(step, train, test):\n",
    "        sample_train_ratings = train.sample(BATCH_SIZE)\n",
    "        _, loss_value, summary_value = sess.run(\n",
    "            fetches=[train_step, loss, summary], \n",
    "            feed_dict={\n",
    "                user_ids_placeholder: sample_train_ratings.user.values,\n",
    "                item_ids_placeholder: sample_train_ratings.item.values,\n",
    "                ratings_placeholder: sample_train_ratings.rating.values\n",
    "            })\n",
    "        summary_writer.add_summary(summary_value, global_step=step)\n",
    "\n",
    "        if step % 10 == 0:\n",
    "            test_loss_value, test_summary_value = sess.run(\n",
    "                fetches=[loss, test_summary],\n",
    "                feed_dict={\n",
    "                    user_ids_placeholder: test.user.values,\n",
    "                    item_ids_placeholder: test.item.values,\n",
    "                    ratings_placeholder: test.rating})\n",
    "            print('Step %d: batch/test loss = %.2f/%.2f' % (step, loss_value, test_loss_value))\n",
    "            summary_writer.add_summary(test_summary_value, global_step=step)\n",
    "\n",
    "        summary_writer.flush()\n",
    "        \n",
    "    with tf.Session() as sess:\n",
    "        summary_writer = tf.train.SummaryWriter(LOG_DIR + '/{:%Y%m%d%H%M%S}'.format(dt.datetime.now()), sess.graph)\n",
    "\n",
    "        sess.run(tf.initialize_all_variables())\n",
    "        \n",
    "        for step in range(N_ITER):\n",
    "            perform_step(step, train, test)\n",
    "            \n",
    "        test_prediction_values = predictions.eval(feed_dict={\n",
    "                    user_ids_placeholder: test.user.values,\n",
    "                    item_ids_placeholder: test.item.values})"
   ]
  },
  {
   "cell_type": "code",
   "execution_count": 7,
   "metadata": {
    "collapsed": true
   },
   "outputs": [],
   "source": [
    "from matplotlib import pyplot as plt\n",
    "import seaborn as sns\n",
    "%matplotlib inline\n",
    "\n",
    "def plot_predicted_distribution(predicted_ratings, ground_truth_ratings=test):\n",
    "    bins = np.linspace(-.5, 7.5, 9)\n",
    "    plt.hist(predicted_ratings.rating, \n",
    "             bins=bins, normed=True, histtype='step', lw=2, label='predicted')\n",
    "    plt.hist(ground_truth_ratings.rating, \n",
    "             bins=bins, normed=True, histtype='step', lw=2, color='grey', label='ground truth')\n",
    "    plt.ylabel('rating proportion')\n",
    "    plt.xlabel('rating value')\n",
    "    plt.xlim([0, 6]); plt.ylim([0, 1.05])\n",
    "    plt.xticks(range(1, 6))\n",
    "    plt.legend(loc=2)"
   ]
  },
  {
   "cell_type": "code",
   "execution_count": 8,
   "metadata": {
    "collapsed": false
   },
   "outputs": [
    {
     "name": "stdout",
     "output_type": "stream",
     "text": [
      "0.909764249702\n"
     ]
    },
    {
     "data": {
      "text/html": [
       "<div>\n",
       "<table border=\"1\" class=\"dataframe\">\n",
       "  <thead>\n",
       "    <tr style=\"text-align: right;\">\n",
       "      <th></th>\n",
       "      <th>item</th>\n",
       "      <th>rating</th>\n",
       "      <th>user</th>\n",
       "    </tr>\n",
       "  </thead>\n",
       "  <tbody>\n",
       "    <tr>\n",
       "      <th>324271</th>\n",
       "      <td>2094</td>\n",
       "      <td>2.973603</td>\n",
       "      <td>1922</td>\n",
       "    </tr>\n",
       "    <tr>\n",
       "      <th>818637</th>\n",
       "      <td>2808</td>\n",
       "      <td>2.237526</td>\n",
       "      <td>4918</td>\n",
       "    </tr>\n",
       "    <tr>\n",
       "      <th>148677</th>\n",
       "      <td>1660</td>\n",
       "      <td>3.978423</td>\n",
       "      <td>957</td>\n",
       "    </tr>\n",
       "    <tr>\n",
       "      <th>778790</th>\n",
       "      <td>914</td>\n",
       "      <td>3.797417</td>\n",
       "      <td>4653</td>\n",
       "    </tr>\n",
       "    <tr>\n",
       "      <th>525489</th>\n",
       "      <td>3324</td>\n",
       "      <td>2.226793</td>\n",
       "      <td>3245</td>\n",
       "    </tr>\n",
       "  </tbody>\n",
       "</table>\n",
       "</div>"
      ],
      "text/plain": [
       "        item    rating  user\n",
       "324271  2094  2.973603  1922\n",
       "818637  2808  2.237526  4918\n",
       "148677  1660  3.978423   957\n",
       "778790   914  3.797417  4653\n",
       "525489  3324  2.226793  3245"
      ]
     },
     "execution_count": 8,
     "metadata": {},
     "output_type": "execute_result"
    },
    {
     "data": {
      "image/png": "[encoded data removed]",
      "text/plain": [
       "<matplotlib.figure.Figure at 0x124008e48>"
      ]
     },
     "metadata": {},
     "output_type": "display_data"
    }
   ],
   "source": [
    "predicted_ratings = pd.DataFrame.from_dict(\n",
    "    {'user': test_user_items.user,\n",
    "     'item': test_user_items.item,\n",
    "     'rating': test_prediction_values\n",
    "    })\n",
    "\n",
    "print(rmse(predicted_ratings))\n",
    "\n",
    "plot_predicted_distribution(predicted_ratings)\n",
    "predicted_ratings.head()"
   ]
  },
  {
   "cell_type": "code",
   "execution_count": null,
   "metadata": {
    "collapsed": true
   },
   "outputs": [],
   "source": []
  }
 ],
 "metadata": {
  "anaconda-cloud": {},
  "kernelspec": {
   "display_name": "Python [default]",
   "language": "python",
   "name": "python3"
  },
  "language_info": {
   "codemirror_mode": {
    "name": "ipython",
    "version": 3
   },
   "file_extension": ".py",
   "mimetype": "text/x-python",
   "name": "python",
   "nbconvert_exporter": "python",
   "pygments_lexer": "ipython3",
   "version": "3.5.2"
  }
 },
 "nbformat": 4,
 "nbformat_minor": 0
}
