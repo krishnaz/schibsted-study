{
 "cells": [
  {
   "cell_type": "markdown",
   "metadata": {
    "collapsed": true
   },
   "source": [
    "# Loading data"
   ]
  },
  {
   "cell_type": "code",
   "execution_count": null,
   "metadata": {
    "collapsed": false
   },
   "outputs": [],
   "source": [
    "! wget http://files.grouplens.org/datasets/movielens/ml-1m.zip\n",
    "! unzip ml-1m.zip -d ."
   ]
  },
  {
   "cell_type": "code",
   "execution_count": 3,
   "metadata": {
    "collapsed": true
   },
   "outputs": [],
   "source": [
    "import pandas as pd\n",
    "import numpy as np"
   ]
  },
  {
   "cell_type": "code",
   "execution_count": 6,
   "metadata": {
    "collapsed": false
   },
   "outputs": [],
   "source": [
    "ratings = (pd.read_csv('./ml-1m/ratings.dat', engine='python', sep='::', names=['user', 'item', 'rating', 'timestamp'])\n",
    "    .assign(timestamp=lambda df:pd.to_datetime(df.timestamp * 1000000000))\n",
    "          )\n",
    "\n",
    "movies = (pd.read_csv('./ml-1m/movies.dat', engine='python', sep='::', names=['item', 'title', 'genres'])\n",
    "          .assign(genres=lambda df:df.genres.str.split('|').values)\n",
    "          .set_index('item', drop=False))\n",
    "\n",
    "# See http://files.grouplens.org/datasets/movielens/ml-1m-README.txt for more details\n",
    "users = pd.read_csv('./ml-1m/users.dat', engine='python', sep='::', \n",
    "                    names=['user', 'gender', 'age', 'occupation', 'zipcode'])\\\n",
    "    .set_index('user', drop=False)"
   ]
  },
  {
   "cell_type": "markdown",
   "metadata": {},
   "source": [
    "## Train/test split\n",
    "\n",
    " * Ideally time based split\n",
    " * For the sake of simplicity, let's just sample ratings uniformly (breaking the time machine rule)"
   ]
  },
  {
   "cell_type": "code",
   "execution_count": 3,
   "metadata": {
    "collapsed": false
   },
   "outputs": [
    {
     "name": "stdout",
     "output_type": "stream",
     "text": [
      "(900209, 4)\n",
      "(100000, 4)\n"
     ]
    },
    {
     "data": {
      "text/html": [
       "<div>\n",
       "<table border=\"1\" class=\"dataframe\">\n",
       "  <thead>\n",
       "    <tr style=\"text-align: right;\">\n",
       "      <th></th>\n",
       "      <th>user</th>\n",
       "      <th>item</th>\n",
       "      <th>rating</th>\n",
       "      <th>timestamp</th>\n",
       "    </tr>\n",
       "  </thead>\n",
       "  <tbody>\n",
       "    <tr>\n",
       "      <th>324271</th>\n",
       "      <td>1922</td>\n",
       "      <td>2094</td>\n",
       "      <td>4</td>\n",
       "      <td>2000-11-20 04:34:27</td>\n",
       "    </tr>\n",
       "    <tr>\n",
       "      <th>818637</th>\n",
       "      <td>4918</td>\n",
       "      <td>2808</td>\n",
       "      <td>1</td>\n",
       "      <td>2000-07-08 19:29:05</td>\n",
       "    </tr>\n",
       "    <tr>\n",
       "      <th>148677</th>\n",
       "      <td>957</td>\n",
       "      <td>1660</td>\n",
       "      <td>4</td>\n",
       "      <td>2000-11-25 05:28:13</td>\n",
       "    </tr>\n",
       "    <tr>\n",
       "      <th>778790</th>\n",
       "      <td>4653</td>\n",
       "      <td>914</td>\n",
       "      <td>5</td>\n",
       "      <td>2000-11-29 21:22:43</td>\n",
       "    </tr>\n",
       "    <tr>\n",
       "      <th>525489</th>\n",
       "      <td>3245</td>\n",
       "      <td>3324</td>\n",
       "      <td>1</td>\n",
       "      <td>2000-09-07 06:33:31</td>\n",
       "    </tr>\n",
       "  </tbody>\n",
       "</table>\n",
       "</div>"
      ],
      "text/plain": [
       "        user  item  rating           timestamp\n",
       "324271  1922  2094       4 2000-11-20 04:34:27\n",
       "818637  4918  2808       1 2000-07-08 19:29:05\n",
       "148677   957  1660       4 2000-11-25 05:28:13\n",
       "778790  4653   914       5 2000-11-29 21:22:43\n",
       "525489  3245  3324       1 2000-09-07 06:33:31"
      ]
     },
     "execution_count": 3,
     "metadata": {},
     "output_type": "execute_result"
    }
   ],
   "source": [
    "test = ratings.sample(n=100000, random_state=0)\n",
    "train_ratings_mask = ~ratings.index.isin(test.index)\n",
    "train = ratings.loc[train_ratings_mask]\n",
    "\n",
    "test_user_items = test[['user', 'item']]\n",
    "\n",
    "print(train.shape)\n",
    "print(test.shape)\n",
    "\n",
    "test.head()"
   ]
  },
  {
   "cell_type": "markdown",
   "metadata": {},
   "source": [
    "## Evaluation function"
   ]
  },
  {
   "cell_type": "code",
   "execution_count": 4,
   "metadata": {
    "collapsed": false
   },
   "outputs": [],
   "source": [
    "def rmse(predicted_ratings, ground_truth_ratings=test):\n",
    "\n",
    "    # predicted rating will be nan if no prediction => returning nan as a result if not all test ratings provided\n",
    "    joined_ratings = pd.merge(\n",
    "        ground_truth_ratings,\n",
    "        predicted_ratings, \n",
    "        on=['user', 'item'], how='left', suffixes=['_ground_truth', '_predicted'])\n",
    "\n",
    "    squared_errors = np.power(joined_ratings.rating_ground_truth - joined_ratings.rating_predicted, 2)\n",
    "    \n",
    "    return np.sqrt(np.average(squared_errors))"
   ]
  },
  {
   "cell_type": "markdown",
   "metadata": {},
   "source": [
    "## Matrix factorisation as a neural net\n",
    "\n",
    " * See https://github.com/bradleypallen/keras-movielens-cf\n",
    " * https://www.quora.com/What-are-some-of-the-better-implementations-of-SVD++\n",
    "\n",
    "## Factorisation machines\n",
    " * https://github.com/scikit-learn-contrib/polylearn/\n",
    " * https://github.com/geffy/tffm/\n",
    " * https://github.com/jfloff/pywFM\n",
    " \n",
    "## ML-1m benchmarks\n",
    "\n",
    "http://www.librec.net/example.html"
   ]
  },
  {
   "cell_type": "code",
   "execution_count": 24,
   "metadata": {
    "collapsed": false
   },
   "outputs": [
    {
     "data": {
      "text/plain": [
       "<6041x3953 sparse matrix of type '<class 'numpy.float64'>'\n",
       "\twith 900209 stored elements in COOrdinate format>"
      ]
     },
     "execution_count": 24,
     "metadata": {},
     "output_type": "execute_result"
    }
   ],
   "source": [
    "from scipy import sparse\n",
    "\n",
    "def to_coo(row_indexes, col_indexes, values, shape=None, dtype=np.float64):\n",
    "    return sparse.coo_matrix((values, (row_indexes, col_indexes)), shape=shape, dtype=dtype)\n",
    "\n",
    "average_train_rating = train.rating.mean()\n",
    "train_matrix = to_coo(\n",
    "    row_indexes=train.user, \n",
    "    col_indexes=train.item, \n",
    "    values=train.rating - average_train_rating)\n",
    "\n",
    "train_matrix"
   ]
  },
  {
   "cell_type": "code",
   "execution_count": 33,
   "metadata": {
    "collapsed": false
   },
   "outputs": [
    {
     "name": "stdout",
     "output_type": "stream",
     "text": [
      "(6041, 50)\n",
      "(3953, 50)\n"
     ]
    }
   ],
   "source": [
    "from sklearn.decomposition import TruncatedSVD\n",
    "\n",
    "m = TruncatedSVD(n_components=50)\n",
    "U = m.fit_transform(train_matrix)\n",
    "V = m.components_.T\n",
    "\n",
    "print(U.shape)\n",
    "print(V.shape)\n"
   ]
  },
  {
   "cell_type": "code",
   "execution_count": 34,
   "metadata": {
    "collapsed": false
   },
   "outputs": [
    {
     "name": "stdout",
     "output_type": "stream",
     "text": [
      "0.990869577163\n"
     ]
    },
    {
     "data": {
      "text/html": [
       "<div>\n",
       "<table border=\"1\" class=\"dataframe\">\n",
       "  <thead>\n",
       "    <tr style=\"text-align: right;\">\n",
       "      <th></th>\n",
       "      <th>item</th>\n",
       "      <th>rating</th>\n",
       "      <th>user</th>\n",
       "    </tr>\n",
       "  </thead>\n",
       "  <tbody>\n",
       "    <tr>\n",
       "      <th>324271</th>\n",
       "      <td>2094</td>\n",
       "      <td>3.276128</td>\n",
       "      <td>1922</td>\n",
       "    </tr>\n",
       "    <tr>\n",
       "      <th>818637</th>\n",
       "      <td>2808</td>\n",
       "      <td>3.141770</td>\n",
       "      <td>4918</td>\n",
       "    </tr>\n",
       "    <tr>\n",
       "      <th>148677</th>\n",
       "      <td>1660</td>\n",
       "      <td>3.661736</td>\n",
       "      <td>957</td>\n",
       "    </tr>\n",
       "    <tr>\n",
       "      <th>778790</th>\n",
       "      <td>914</td>\n",
       "      <td>3.843276</td>\n",
       "      <td>4653</td>\n",
       "    </tr>\n",
       "    <tr>\n",
       "      <th>525489</th>\n",
       "      <td>3324</td>\n",
       "      <td>3.354389</td>\n",
       "      <td>3245</td>\n",
       "    </tr>\n",
       "  </tbody>\n",
       "</table>\n",
       "</div>"
      ],
      "text/plain": [
       "        item    rating  user\n",
       "324271  2094  3.276128  1922\n",
       "818637  2808  3.141770  4918\n",
       "148677  1660  3.661736   957\n",
       "778790   914  3.843276  4653\n",
       "525489  3324  3.354389  3245"
      ]
     },
     "execution_count": 34,
     "metadata": {},
     "output_type": "execute_result"
    }
   ],
   "source": [
    "all_predicted_ratings = average_train_rating + np.dot(U, V.T)\n",
    "all_predicted_ratings.shape\n",
    "\n",
    "predicted_ratings = pd.DataFrame.from_dict(\n",
    "    {'user': test_user_items.user,\n",
    "     'item': test_user_items.item,\n",
    "     'rating': all_predicted_ratings[test_user_items.user, test_user_items.item]\n",
    "    })\n",
    "\n",
    "print(rmse(predicted_ratings))\n",
    "predicted_ratings.head()"
   ]
  },
  {
   "cell_type": "code",
   "execution_count": 36,
   "metadata": {
    "collapsed": false
   },
   "outputs": [
    {
     "data": {
      "image/png": "[encoded data removed]",
      "text/plain": [
       "<matplotlib.figure.Figure at 0x1143409b0>"
      ]
     },
     "metadata": {},
     "output_type": "display_data"
    }
   ],
   "source": [
    "from matplotlib import pyplot as plt\n",
    "import seaborn as sns\n",
    "%matplotlib inline\n",
    "\n",
    "plt.hist(predicted_ratings.rating, bins=np.linspace(0, 7, 8), histtype='step', lw=2, label='predicted');\n",
    "plt.hist(test.rating, bins=np.linspace(0, 7, 8), histtype='step', lw=2, label='ground truth');\n",
    "plt.legend();"
   ]
  },
  {
   "cell_type": "code",
   "execution_count": 49,
   "metadata": {
    "collapsed": false
   },
   "outputs": [],
   "source": [
    "from keras.layers import Embedding, Reshape, Merge\n",
    "from keras.models import Sequential\n",
    "from keras.optimizers import Adamax, RMSprop\n",
    "from keras.callbacks import Callback, EarlyStopping, ModelCheckpoint\n",
    "\n",
    "n_factors = 20\n",
    "n_users = ratings.user.max() + 1\n",
    "n_items = ratings.item.max() + 1\n"
   ]
  },
  {
   "cell_type": "code",
   "execution_count": 50,
   "metadata": {
    "collapsed": false
   },
   "outputs": [],
   "source": [
    "from keras.regularizers import l2\n",
    "\n",
    "class BiasModel(object):\n",
    "    def __init__(self, n_users=n_users, n_items=n_items, l2_reg=0.00001):\n",
    "        \n",
    "        self.model = Sequential()\n",
    "\n",
    "        self.user_biases = Sequential()\n",
    "        self.user_biases.add(Embedding(n_users, 1, input_length=1, W_regularizer=l2(l2_reg)))\n",
    "        self.user_biases.add(Reshape((1,)))\n",
    "\n",
    "        self.item_biases = Sequential()\n",
    "        self.item_biases.add(Embedding(n_items, 1, input_length=1, W_regularizer=l2(l2_reg)))\n",
    "        self.item_biases.add(Reshape((1,)))\n",
    "\n",
    "        self.model.add(Merge(name='biases', layers=[self.user_biases, self.item_biases], mode='sum'))\n",
    "        "
   ]
  },
  {
   "cell_type": "code",
   "execution_count": 51,
   "metadata": {
    "collapsed": false
   },
   "outputs": [
    {
     "name": "stdout",
     "output_type": "stream",
     "text": [
      "Train on 810188 samples, validate on 90021 samples\n",
      "Epoch 1/30\n",
      "14s - loss: 9.5287 - val_loss: 8.4866\n",
      "Epoch 2/30\n",
      "14s - loss: 4.3038 - val_loss: 5.7765\n",
      "Epoch 3/30\n",
      "14s - loss: 2.5998 - val_loss: 4.6080\n",
      "Epoch 4/30\n",
      "16s - loss: 1.9990 - val_loss: 4.0164\n",
      "Epoch 5/30\n",
      "16s - loss: 1.7103 - val_loss: 3.6711\n",
      "Epoch 6/30\n",
      "16s - loss: 1.5411 - val_loss: 3.4467\n",
      "Epoch 7/30\n",
      "16s - loss: 1.4307 - val_loss: 3.2892\n",
      "Epoch 8/30\n",
      "16s - loss: 1.3544 - val_loss: 3.1719\n",
      "Epoch 9/30\n",
      "16s - loss: 1.2996 - val_loss: 3.0822\n",
      "Epoch 10/30\n",
      "16s - loss: 1.2590 - val_loss: 3.0100\n",
      "Epoch 11/30\n",
      "16s - loss: 1.2283 - val_loss: 2.9535\n",
      "Epoch 12/30\n",
      "17s - loss: 1.2045 - val_loss: 2.9062\n",
      "Epoch 13/30\n",
      "17s - loss: 1.1858 - val_loss: 2.8661\n",
      "Epoch 14/30\n",
      "16s - loss: 1.1709 - val_loss: 2.8331\n",
      "Epoch 15/30\n",
      "16s - loss: 1.1590 - val_loss: 2.8033\n",
      "Epoch 16/30\n",
      "16s - loss: 1.1493 - val_loss: 2.7775\n",
      "Epoch 17/30\n",
      "17s - loss: 1.1413 - val_loss: 2.7562\n",
      "Epoch 18/30\n",
      "17s - loss: 1.1346 - val_loss: 2.7369\n",
      "Epoch 19/30\n",
      "17s - loss: 1.1293 - val_loss: 2.7189\n",
      "Epoch 20/30\n",
      "16s - loss: 1.1245 - val_loss: 2.7029\n",
      "Epoch 21/30\n",
      "16s - loss: 1.1205 - val_loss: 2.6878\n",
      "Epoch 22/30\n",
      "17s - loss: 1.1173 - val_loss: 2.6755\n",
      "Epoch 23/30\n",
      "17s - loss: 1.1144 - val_loss: 2.6639\n",
      "Epoch 24/30\n",
      "17s - loss: 1.1119 - val_loss: 2.6514\n",
      "Epoch 25/30\n",
      "17s - loss: 1.1097 - val_loss: 2.6418\n",
      "Epoch 26/30\n",
      "17s - loss: 1.1079 - val_loss: 2.6317\n",
      "Epoch 27/30\n",
      "17s - loss: 1.1064 - val_loss: 2.6223\n",
      "Epoch 28/30\n",
      "17s - loss: 1.1049 - val_loss: 2.6140\n",
      "Epoch 29/30\n",
      "17s - loss: 1.1036 - val_loss: 2.6061\n",
      "Epoch 30/30\n",
      "17s - loss: 1.1024 - val_loss: 2.5989\n"
     ]
    }
   ],
   "source": [
    "bias_model = BiasModel()\n",
    "\n",
    "bias_model.model.compile(loss='mse', optimizer='adamax')\n",
    "\n",
    "callbacks = [EarlyStopping('val_loss', patience=2)]\n",
    "history = bias_model.model.fit([train.user.values, train.item.values], train.rating, \n",
    "                         nb_epoch=30, validation_split=.1, verbose=2, callbacks=callbacks)\n"
   ]
  },
  {
   "cell_type": "code",
   "execution_count": 62,
   "metadata": {
    "collapsed": true
   },
   "outputs": [],
   "source": [
    "def plot_predicted_distribution(predicted_ratings, ground_truth_ratings=test):\n",
    "    bins = np.linspace(-.5, 7.5, 9)\n",
    "    plt.hist(predicted_ratings.rating, \n",
    "             bins=bins, normed=True, histtype='step', lw=2, label='predicted')\n",
    "    plt.hist(ground_truth_ratings.rating, \n",
    "             bins=bins, normed=True, histtype='step', lw=2, color='grey', label='ground truth')\n",
    "    plt.ylabel('rating proportion')\n",
    "    plt.xlabel('rating value')\n",
    "    plt.xlim([0, 6]); plt.ylim([0, 1.05])\n",
    "    plt.xticks(range(1, 6))\n",
    "    plt.legend(loc=2)"
   ]
  },
  {
   "cell_type": "code",
   "execution_count": 63,
   "metadata": {
    "collapsed": false
   },
   "outputs": [
    {
     "name": "stdout",
     "output_type": "stream",
     "text": [
      "1.05550813973\n"
     ]
    },
    {
     "data": {
      "text/html": [
       "<div>\n",
       "<table border=\"1\" class=\"dataframe\">\n",
       "  <thead>\n",
       "    <tr style=\"text-align: right;\">\n",
       "      <th></th>\n",
       "      <th>item</th>\n",
       "      <th>rating</th>\n",
       "      <th>user</th>\n",
       "    </tr>\n",
       "  </thead>\n",
       "  <tbody>\n",
       "    <tr>\n",
       "      <th>324271</th>\n",
       "      <td>2094</td>\n",
       "      <td>2.957024</td>\n",
       "      <td>1922</td>\n",
       "    </tr>\n",
       "    <tr>\n",
       "      <th>818637</th>\n",
       "      <td>2808</td>\n",
       "      <td>2.112133</td>\n",
       "      <td>4918</td>\n",
       "    </tr>\n",
       "    <tr>\n",
       "      <th>148677</th>\n",
       "      <td>1660</td>\n",
       "      <td>3.755618</td>\n",
       "      <td>957</td>\n",
       "    </tr>\n",
       "    <tr>\n",
       "      <th>778790</th>\n",
       "      <td>914</td>\n",
       "      <td>3.889288</td>\n",
       "      <td>4653</td>\n",
       "    </tr>\n",
       "    <tr>\n",
       "      <th>525489</th>\n",
       "      <td>3324</td>\n",
       "      <td>2.064582</td>\n",
       "      <td>3245</td>\n",
       "    </tr>\n",
       "  </tbody>\n",
       "</table>\n",
       "</div>"
      ],
      "text/plain": [
       "        item    rating  user\n",
       "324271  2094  2.957024  1922\n",
       "818637  2808  2.112133  4918\n",
       "148677  1660  3.755618   957\n",
       "778790   914  3.889288  4653\n",
       "525489  3324  2.064582  3245"
      ]
     },
     "execution_count": 63,
     "metadata": {},
     "output_type": "execute_result"
    },
    {
     "data": {
      "image/png": "[encoded data removed]",
      "text/plain": [
       "<matplotlib.figure.Figure at 0x11c618390>"
      ]
     },
     "metadata": {},
     "output_type": "display_data"
    }
   ],
   "source": [
    "predicted_ratings = pd.DataFrame.from_dict(\n",
    "    {'user': test_user_items.user,\n",
    "     'item': test_user_items.item,\n",
    "     'rating': bias_model.model.predict([test_user_items.user, test_user_items.item]).ravel()\n",
    "    })\n",
    "\n",
    "print(rmse(predicted_ratings))\n",
    "\n",
    "plot_predicted_distribution(predicted_ratings)\n",
    "predicted_ratings.head()\n"
   ]
  },
  {
   "cell_type": "code",
   "execution_count": null,
   "metadata": {
    "collapsed": false
   },
   "outputs": [],
   "source": [
    "n_factors = 20\n",
    "\n",
    "\n",
    "def create_dot_model(n_users=n_users, n_items=n_items, n_factors=n_factors, l2_reg=0.001):\n",
    "    user_factors = Sequential()\n",
    "    user_factors.add(Embedding(n_users, n_factors, input_length=1, W_regularizer=l2(l2_reg)))\n",
    "    user_factors.add(Reshape((n_factors,)))\n",
    "\n",
    "    item_factors = Sequential()\n",
    "    item_factors.add(Embedding(n_items, n_factors, input_length=1, W_regularizer=l2(l2_reg)))\n",
    "    item_factors.add(Reshape((n_factors,)))\n",
    "\n",
    "    dot_model = Sequential()\n",
    "    dot_model.add(Merge([user_factors, item_factors], mode='dot'))\n",
    "    \n",
    "    return dot_model\n",
    "\n",
    "bias_and_product_model = Sequential()\n",
    "bias_and_product_model.add(Merge(\n",
    "        layers=create_bias_model().get_layer('biases').layers + [create_dot_model()], \n",
    "        mode='sum'))\n",
    "\n",
    "bias_and_product_model.compile(loss='mse', optimizer='Adamax')\n"
   ]
  },
  {
   "cell_type": "code",
   "execution_count": null,
   "metadata": {
    "collapsed": false
   },
   "outputs": [
    {
     "name": "stdout",
     "output_type": "stream",
     "text": [
      "Train on 810188 samples, validate on 90021 samples\n",
      "Epoch 1/30\n"
     ]
    }
   ],
   "source": [
    "callbacks = [EarlyStopping('val_loss', patience=2)]\n",
    "history = bias_and_product_model.fit([train.user.values, train.item.values] * 2, train.rating, \n",
    "                         nb_epoch=30, validation_split=.1, verbose=2, callbacks=callbacks)\n"
   ]
  },
  {
   "cell_type": "code",
   "execution_count": 77,
   "metadata": {
    "collapsed": false
   },
   "outputs": [
    {
     "data": {
      "text/plain": [
       "[array([[-0.01940012],\n",
       "        [ 1.6262821 ],\n",
       "        [ 1.24789929],\n",
       "        ..., \n",
       "        [-0.00703112],\n",
       "        [ 0.0029576 ],\n",
       "        [-0.02840925]], dtype=float32)]"
      ]
     },
     "execution_count": 77,
     "metadata": {},
     "output_type": "execute_result"
    }
   ],
   "source": [
    "user_biases.get_weights()\n"
   ]
  },
  {
   "cell_type": "code",
   "execution_count": 53,
   "metadata": {
    "collapsed": false
   },
   "outputs": [
    {
     "name": "stdout",
     "output_type": "stream",
     "text": [
      "Train on 810188 samples, validate on 90021 samples\n",
      "Epoch 1/30\n",
      "114s - loss: 11.3335 - val_loss: 14.2454\n",
      "Epoch 2/30\n",
      "125s - loss: 3.4636 - val_loss: 14.2305\n",
      "Epoch 3/30\n",
      "124s - loss: 1.7406 - val_loss: 14.2307\n",
      "Epoch 4/30\n",
      "122s - loss: 1.2695 - val_loss: 14.2310\n",
      "Epoch 5/30\n",
      "119s - loss: 1.0766 - val_loss: 14.2310\n"
     ]
    }
   ],
   "source": [
    "from keras.callbacks import Callback, EarlyStopping, ModelCheckpoint\n",
    "\n",
    "callbacks = [EarlyStopping('val_loss', patience=2)]\n",
    "history = model.fit([train.user.values, train.item.values], train.rating, nb_epoch=30, validation_split=.1, verbose=2, callbacks=callbacks)"
   ]
  }
 ],
 "metadata": {
  "anaconda-cloud": {},
  "kernelspec": {
   "display_name": "Python [default]",
   "language": "python",
   "name": "python3"
  },
  "language_info": {
   "codemirror_mode": {
    "name": "ipython",
    "version": 3
   },
   "file_extension": ".py",
   "mimetype": "text/x-python",
   "name": "python",
   "nbconvert_exporter": "python",
   "pygments_lexer": "ipython3",
   "version": "3.5.2"
  }
 },
 "nbformat": 4,
 "nbformat_minor": 0
}
