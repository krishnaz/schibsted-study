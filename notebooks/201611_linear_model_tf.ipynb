{
 "cells": [
  {
   "cell_type": "code",
   "execution_count": 1,
   "metadata": {
    "collapsed": false
   },
   "outputs": [],
   "source": [
    "import tensorflow as tf\n",
    "import numpy as np\n",
    "import matplotlib.pyplot as plt\n",
    "\n",
    "%matplotlib inline\n",
    "sess = tf.InteractiveSession()"
   ]
  },
  {
   "cell_type": "markdown",
   "metadata": {},
   "source": [
    "# Linear model for regression\n",
    "\n",
    "For $n$ samples $(x_i, y_i)_{i=1,\\ldots, n}$ :\n",
    "$$ y_i = w_1 x_i + w_0 $$ "
   ]
  },
  {
   "cell_type": "code",
   "execution_count": 2,
   "metadata": {
    "collapsed": false
   },
   "outputs": [
    {
     "data": {
      "text/plain": [
       "<tf.Tensor 'features:0' shape=(10, 1) dtype=float64>"
      ]
     },
     "execution_count": 2,
     "metadata": {},
     "output_type": "execute_result"
    }
   ],
   "source": [
    "n_samples = 10\n",
    "sample_xs = tf.constant(\n",
    "    value=np.random.uniform(low=0, high=1, size=(n_samples, 1)), \n",
    "    name='features')\n",
    "sample_xs"
   ]
  },
  {
   "cell_type": "code",
   "execution_count": 3,
   "metadata": {
    "collapsed": false
   },
   "outputs": [
    {
     "data": {
      "text/plain": [
       "array([[ 0.94969008],\n",
       "       [ 0.57846953],\n",
       "       [ 0.32921631],\n",
       "       [ 0.5443468 ],\n",
       "       [ 0.67770543],\n",
       "       [ 0.43186244],\n",
       "       [ 0.72000732],\n",
       "       [ 0.48242283],\n",
       "       [ 0.91933701],\n",
       "       [ 0.44213133]])"
      ]
     },
     "execution_count": 3,
     "metadata": {},
     "output_type": "execute_result"
    }
   ],
   "source": [
    "sample_xs.eval()"
   ]
  },
  {
   "cell_type": "code",
   "execution_count": 4,
   "metadata": {
    "collapsed": false
   },
   "outputs": [
    {
     "data": {
      "text/plain": [
       "<tf.Tensor 'add_1:0' shape=(10, 1) dtype=float64>"
      ]
     },
     "execution_count": 4,
     "metadata": {},
     "output_type": "execute_result"
    }
   ],
   "source": [
    "sample_noises = tf.constant(\n",
    "    value=np.random.normal(loc=0, scale=.5, size=n_samples),\n",
    "    shape=(n_samples, 1)\n",
    ")\n",
    "\n",
    "d = 2\n",
    "oracle_w = np.array([1., -2.]).reshape((d, 1))\n",
    "\n",
    "sample_ys = oracle_w[0] + oracle_w[1] * sample_xs + sample_noises\n",
    "sample_ys"
   ]
  },
  {
   "cell_type": "code",
   "execution_count": 5,
   "metadata": {
    "collapsed": false
   },
   "outputs": [
    {
     "data": {
      "text/plain": [
       "array([[-1.12815696],\n",
       "       [-0.14840324],\n",
       "       [ 0.3616649 ],\n",
       "       [-0.70211137],\n",
       "       [-0.88470248],\n",
       "       [-0.00585898],\n",
       "       [ 0.55005853],\n",
       "       [-0.08840744],\n",
       "       [-0.46108432],\n",
       "       [ 0.54603037]])"
      ]
     },
     "execution_count": 5,
     "metadata": {},
     "output_type": "execute_result"
    }
   ],
   "source": [
    "sample_ys.eval()"
   ]
  },
  {
   "cell_type": "markdown",
   "metadata": {},
   "source": [
    "## Vectorized reformulation\n",
    "\n",
    "[Prof Ng](https://www.youtube.com/watch?v=v4kKgCiF1fo) to the rescue for a refresher about matrix-matrix multiplication :)\n",
    "$$ \\underbrace{\\mathbf{y}}_{n \\times 1} = \\underbrace{\\mathbf{X}}_{n \\times d} \\cdot \\underbrace{\\mathbf{w}}_{d \\times 1} $$"
   ]
  },
  {
   "cell_type": "code",
   "execution_count": 6,
   "metadata": {
    "collapsed": false
   },
   "outputs": [
    {
     "data": {
      "text/plain": [
       "<tf.Tensor 'X:0' shape=(10, 2) dtype=float64>"
      ]
     },
     "execution_count": 6,
     "metadata": {},
     "output_type": "execute_result"
    }
   ],
   "source": [
    "x0 = np.repeat(1.0, n_samples).reshape((n_samples, 1))\n",
    "x1 = sample_xs.eval()\n",
    "\n",
    "X = tf.constant(np.hstack([x0, x1]), name='X')\n",
    "X"
   ]
  },
  {
   "cell_type": "code",
   "execution_count": 7,
   "metadata": {
    "collapsed": false
   },
   "outputs": [
    {
     "data": {
      "text/plain": [
       "<tf.Tensor 'y:0' shape=(10, 1) dtype=float64>"
      ]
     },
     "execution_count": 7,
     "metadata": {},
     "output_type": "execute_result"
    }
   ],
   "source": [
    "y = tf.add(tf.matmul(X, oracle_w), sample_noises, name='y')\n",
    "y"
   ]
  },
  {
   "cell_type": "code",
   "execution_count": 8,
   "metadata": {
    "collapsed": false
   },
   "outputs": [
    {
     "data": {
      "text/plain": [
       "array([[-1.12815696],\n",
       "       [-0.14840324],\n",
       "       [ 0.3616649 ],\n",
       "       [-0.70211137],\n",
       "       [-0.88470248],\n",
       "       [-0.00585898],\n",
       "       [ 0.55005853],\n",
       "       [-0.08840744],\n",
       "       [-0.46108432],\n",
       "       [ 0.54603037]])"
      ]
     },
     "execution_count": 8,
     "metadata": {},
     "output_type": "execute_result"
    }
   ],
   "source": [
    "y.eval()"
   ]
  },
  {
   "cell_type": "markdown",
   "metadata": {},
   "source": [
    "## Visualisation"
   ]
  },
  {
   "cell_type": "code",
   "execution_count": 9,
   "metadata": {
    "collapsed": false
   },
   "outputs": [
    {
     "data": {
      "image/png": "[encoded data removed]",
      "text/plain": [
       "<matplotlib.figure.Figure at 0x1156bcfd0>"
      ]
     },
     "metadata": {},
     "output_type": "display_data"
    }
   ],
   "source": [
    "def fitted_line(w, x_lim, **plot_args):\n",
    "    x_0, x_1 = x_lim\n",
    "    y_0, y_1 = w[0] + w[1] * np.array(x_lim)\n",
    "    plt.plot(x_lim, [y_0, y_1], **plot_args)\n",
    "    \n",
    "plt.plot(sample_xs.eval(), sample_ys.eval(), 'ko')\n",
    "fitted_line(oracle_w, plt.xlim(), label='$w_{oracle}$')\n",
    "plt.legend(); plt.xlabel('x'); plt.ylabel('y');"
   ]
  }
 ],
 "metadata": {
  "anaconda-cloud": {},
  "kernelspec": {
   "display_name": "Python [conda root]",
   "language": "python",
   "name": "conda-root-py"
  },
  "language_info": {
   "codemirror_mode": {
    "name": "ipython",
    "version": 3
   },
   "file_extension": ".py",
   "mimetype": "text/x-python",
   "name": "python",
   "nbconvert_exporter": "python",
   "pygments_lexer": "ipython3",
   "version": "3.5.2"
  }
 },
 "nbformat": 4,
 "nbformat_minor": 1
}
