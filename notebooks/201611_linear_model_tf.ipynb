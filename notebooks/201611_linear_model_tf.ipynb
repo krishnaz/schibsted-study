{
 "cells": [
  {
   "cell_type": "code",
   "execution_count": 1,
   "metadata": {
    "collapsed": false
   },
   "outputs": [],
   "source": [
    "import tensorflow as tf\n",
    "import numpy as np\n",
    "import matplotlib.pyplot as plt\n",
    "%matplotlib inline\n",
    "sess = tf.InteractiveSession()"
   ]
  },
  {
   "cell_type": "markdown",
   "metadata": {},
   "source": [
    "# Linear model for regression\n",
    "\n",
    "For $n$ samples $(x_i, y_i)_{i=1,\\ldots, n}$ :\n",
    "$$ y_i = w_1 x_i + w_0 $$ "
   ]
  },
  {
   "cell_type": "code",
   "execution_count": 2,
   "metadata": {
    "collapsed": false
   },
   "outputs": [
    {
     "data": {
      "text/plain": [
       "<tf.Tensor 'features:0' shape=(100, 1) dtype=float64>"
      ]
     },
     "execution_count": 2,
     "metadata": {},
     "output_type": "execute_result"
    }
   ],
   "source": [
    "n_samples = 100\n",
    "sample_xs = tf.constant(\n",
    "    value=np.random.uniform(low=0, high=1, size=(n_samples, 1)), \n",
    "    name='features')\n",
    "sample_xs"
   ]
  },
  {
   "cell_type": "code",
   "execution_count": 3,
   "metadata": {
    "collapsed": false
   },
   "outputs": [
    {
     "data": {
      "text/plain": [
       "<tf.Tensor 'add_1:0' shape=(100, 1) dtype=float64>"
      ]
     },
     "execution_count": 3,
     "metadata": {},
     "output_type": "execute_result"
    }
   ],
   "source": [
    "sample_noises = tf.constant(\n",
    "    value=np.random.normal(loc=0, scale=.5, size=n_samples),\n",
    "    shape=(n_samples, 1)\n",
    ")\n",
    "\n",
    "d = 2\n",
    "oracle_w = np.array([1., -2.]).reshape((d, 1))\n",
    "\n",
    "sample_ys = oracle_w[0] + oracle_w[1] * sample_xs + sample_noises\n",
    "sample_ys"
   ]
  },
  {
   "cell_type": "markdown",
   "metadata": {},
   "source": [
    "## Vectorized reformulation\n",
    "\n",
    "[Prof Ng](https://www.youtube.com/watch?v=v4kKgCiF1fo) to the rescue for a refresher about matrix-matrix multiplication :)\n",
    "$$ \\underbrace{\\mathbf{y}}_{n \\times 1} = \\underbrace{\\mathbf{X}}_{n \\times d} \\cdot \\underbrace{\\mathbf{w}}_{d \\times 1} $$"
   ]
  },
  {
   "cell_type": "code",
   "execution_count": 4,
   "metadata": {
    "collapsed": false
   },
   "outputs": [
    {
     "data": {
      "text/plain": [
       "<tf.Tensor 'X:0' shape=(100, 2) dtype=float64>"
      ]
     },
     "execution_count": 4,
     "metadata": {},
     "output_type": "execute_result"
    }
   ],
   "source": [
    "x0 = np.repeat(1.0, n_samples).reshape((n_samples, 1))\n",
    "x1 = sample_xs.eval()\n",
    "\n",
    "X = tf.constant(np.hstack([x0, x1]), name='X')\n",
    "X"
   ]
  },
  {
   "cell_type": "code",
   "execution_count": 5,
   "metadata": {
    "collapsed": false
   },
   "outputs": [
    {
     "data": {
      "text/plain": [
       "<tf.Tensor 'y:0' shape=(100, 1) dtype=float64>"
      ]
     },
     "execution_count": 5,
     "metadata": {},
     "output_type": "execute_result"
    }
   ],
   "source": [
    "y = tf.add(tf.matmul(X, oracle_w), sample_noises, name='y')\n",
    "y"
   ]
  },
  {
   "cell_type": "markdown",
   "metadata": {},
   "source": [
    "## Visualisation"
   ]
  },
  {
   "cell_type": "code",
   "execution_count": 6,
   "metadata": {
    "collapsed": false
   },
   "outputs": [
    {
     "data": {
      "image/png": "[encoded data removed]",
      "text/plain": [
       "<matplotlib.figure.Figure at 0x11607bf98>"
      ]
     },
     "metadata": {},
     "output_type": "display_data"
    }
   ],
   "source": [
    "def fitted_line(w, x_lim, **plot_args):\n",
    "    x_0, x_1 = x_lim\n",
    "    y_0, y_1 = w[0] + w[1] * np.array(x_lim)\n",
    "    plt.plot(x_lim, [y_0, y_1], **plot_args)\n",
    "    \n",
    "plt.plot(sample_xs.eval(), sample_ys.eval(), 'ko')\n",
    "fitted_line(oracle_w, plt.xlim(), label='$w_{oracle}$')\n",
    "plt.legend(); plt.xlabel('x'); plt.ylabel('y');"
   ]
  },
  {
   "cell_type": "markdown",
   "metadata": {},
   "source": [
    "# Exercise\n",
    "\n",
    "Write a procedure to return $\\hat{\\mathbf{w}}$ an estimator of $\\mathbf{w}$ from our model, and plot the fitted model on the graph.\n",
    "Many ways to achieve the results:\n",
    "\n",
    " * use a very high level wrapper from `sklearn` (look at LinearRegression or SgdRegressor)\n",
    " * use the numpy or tensorflow matrix inversion to solve analytically the OLS equation $ \\hat{\\mathbf{w}} = (\\mathbf{X}^{T} \\mathbf{X})^{-1} \\mathbf{X}^{T} \\mathbf{y}$\n",
    " * write a stochastic gradient procedure using tensorflow (https://github.com/aymericdamien/TensorFlow-Examples has a nice example)\n",
    " * For the brave, derive analytically the gradients and write you own SG or SGD "
   ]
  },
  {
   "cell_type": "code",
   "execution_count": 79,
   "metadata": {
    "collapsed": true
   },
   "outputs": [],
   "source": [
    "# Parameters\n",
    "learning_rate = 0.5\n",
    "training_epochs = 100\n",
    "display_step = 25"
   ]
  },
  {
   "cell_type": "code",
   "execution_count": 88,
   "metadata": {
    "collapsed": false
   },
   "outputs": [],
   "source": [
    "# tf Graph Input\n",
    "train_X = x1\n",
    "train_Y = sample_ys.eval()\n",
    "X = tf.placeholder(\"float\")\n",
    "Y = tf.placeholder(\"float\")\n",
    "\n",
    "# Set model weights\n",
    "W = tf.Variable(np.random.randn(), name=\"weight\")\n",
    "b = tf.Variable(np.random.randn(), name=\"bias\")\n",
    "sess.run(W.initializer)\n",
    "sess.run(b.initializer)"
   ]
  },
  {
   "cell_type": "code",
   "execution_count": 89,
   "metadata": {
    "collapsed": false
   },
   "outputs": [],
   "source": [
    "# Construct a linear model\n",
    "pred = tf.add(tf.mul(X, W), b)\n",
    "\n",
    "# Mean squared error\n",
    "cost = tf.reduce_sum(tf.pow(pred-Y, 2))/(2*n_samples)\n",
    "\n",
    "# Gradient descent\n",
    "optimizer = tf.train.GradientDescentOptimizer(learning_rate).minimize(cost)\n",
    "\n",
    "# Initializing the variables\n",
    "init = tf.initialize_all_variables()"
   ]
  },
  {
   "cell_type": "code",
   "execution_count": 90,
   "metadata": {
    "collapsed": false
   },
   "outputs": [
    {
     "name": "stdout",
     "output_type": "stream",
     "text": [
      "Epoch:    0, cost=0.1884 W=-0.71 b=0.32\n",
      "Epoch:   25, cost=0.1348 W=-1.41 b=0.71\n",
      "Epoch:   50, cost=0.1240 W=-1.72 b=0.89\n",
      "Epoch:   75, cost=0.1219 W=-1.86 b=0.96\n"
     ]
    }
   ],
   "source": [
    "for epoch in range(training_epochs):\n",
    "    # feeding the full training set for every epoch\n",
    "    # (as opposed to the example code which very inefficiently was feeding sample by sample)\n",
    "    sess.run(optimizer, feed_dict={X: train_X, Y: train_Y})\n",
    "\n",
    "    if (epoch) % display_step == 0:\n",
    "        c = sess.run(cost, feed_dict={X: train_X, Y: train_Y})\n",
    "        print(\"Epoch: {:4d}, cost={:.4f} W={:.2f} b={:.2f}\".format(epoch, c, sess.run(W), sess.run(b)))"
   ]
  },
  {
   "cell_type": "code",
   "execution_count": 91,
   "metadata": {
    "collapsed": false
   },
   "outputs": [],
   "source": [
    "w_fitted = [sess.run(b), sess.run(W)]"
   ]
  },
  {
   "cell_type": "code",
   "execution_count": 92,
   "metadata": {
    "collapsed": false
   },
   "outputs": [
    {
     "data": {
      "image/png": "[encoded data removed]",
      "text/plain": [
       "<matplotlib.figure.Figure at 0x11a86b080>"
      ]
     },
     "metadata": {},
     "output_type": "display_data"
    }
   ],
   "source": [
    "plt.plot(sample_xs.eval(), sample_ys.eval(), 'ko')\n",
    "fitted_line(oracle_w, plt.xlim(), label='$w_{oracle}$', color='grey')\n",
    "fitted_line(w_fitted, plt.xlim(), label='$\\hat{w}$')\n",
    "plt.legend(); plt.xlabel('x'); plt.ylabel('y');"
   ]
  }
 ],
 "metadata": {
  "anaconda-cloud": {},
  "kernelspec": {
   "display_name": "Python [conda root]",
   "language": "python",
   "name": "conda-root-py"
  },
  "language_info": {
   "codemirror_mode": {
    "name": "ipython",
    "version": 3
   },
   "file_extension": ".py",
   "mimetype": "text/x-python",
   "name": "python",
   "nbconvert_exporter": "python",
   "pygments_lexer": "ipython3",
   "version": "3.5.2"
  }
 },
 "nbformat": 4,
 "nbformat_minor": 1
}
