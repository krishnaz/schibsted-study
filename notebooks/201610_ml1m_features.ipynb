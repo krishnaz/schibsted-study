{
 "cells": [
  {
   "cell_type": "markdown",
   "metadata": {
    "collapsed": true
   },
   "source": [
    "# Loading data"
   ]
  },
  {
   "cell_type": "code",
   "execution_count": null,
   "metadata": {
    "collapsed": false
   },
   "outputs": [],
   "source": [
    "! wget http://files.grouplens.org/datasets/movielens/ml-1m.zip\n",
    "! unzip ml-1m.zip -d ."
   ]
  },
  {
   "cell_type": "code",
   "execution_count": 1,
   "metadata": {
    "collapsed": true
   },
   "outputs": [],
   "source": [
    "import pandas as pd\n",
    "import numpy as np\n",
    "\n",
    "from matplotlib import pyplot as plt\n",
    "import seaborn as sns\n",
    "%matplotlib inline"
   ]
  },
  {
   "cell_type": "code",
   "execution_count": 2,
   "metadata": {
    "collapsed": false
   },
   "outputs": [],
   "source": [
    "ratings = (pd.read_csv('./ml-1m/ratings.dat', engine='python', sep='::', names=['user', 'item', 'rating', 'timestamp'])\n",
    "    .assign(timestamp=lambda df:pd.to_datetime(df.timestamp * 1000000000))\n",
    "          )\n",
    "\n",
    "movies = (pd.read_csv('./ml-1m/movies.dat', engine='python', sep='::', names=['item', 'title', 'genres'])\n",
    "          .assign(genres=lambda df:df.genres.str.split('|').values)\n",
    "          .set_index('item', drop=False))\n",
    "\n",
    "# See http://files.grouplens.org/datasets/movielens/ml-1m-README.txt for more details\n",
    "users = pd.read_csv('./ml-1m/users.dat', engine='python', sep='::', \n",
    "                    names=['user', 'gender', 'age', 'occupation', 'zipcode'])\\\n",
    "    .set_index('user', drop=False)"
   ]
  },
  {
   "cell_type": "markdown",
   "metadata": {},
   "source": [
    "## User-item ratings to features"
   ]
  },
  {
   "cell_type": "code",
   "execution_count": 3,
   "metadata": {
    "collapsed": false
   },
   "outputs": [
    {
     "name": "stdout",
     "output_type": "stream",
     "text": [
      "(24160, 2)\n"
     ]
    },
    {
     "data": {
      "text/html": [
       "<div>\n",
       "<table border=\"1\" class=\"dataframe\">\n",
       "  <thead>\n",
       "    <tr style=\"text-align: right;\">\n",
       "      <th></th>\n",
       "      <th>user</th>\n",
       "      <th>feature</th>\n",
       "    </tr>\n",
       "  </thead>\n",
       "  <tbody>\n",
       "    <tr>\n",
       "      <th>0</th>\n",
       "      <td>1</td>\n",
       "      <td>user=1</td>\n",
       "    </tr>\n",
       "    <tr>\n",
       "      <th>1</th>\n",
       "      <td>1</td>\n",
       "      <td>gender=F</td>\n",
       "    </tr>\n",
       "    <tr>\n",
       "      <th>2</th>\n",
       "      <td>1</td>\n",
       "      <td>occupation=10</td>\n",
       "    </tr>\n",
       "    <tr>\n",
       "      <th>3</th>\n",
       "      <td>1</td>\n",
       "      <td>zipcode=48067</td>\n",
       "    </tr>\n",
       "    <tr>\n",
       "      <th>4</th>\n",
       "      <td>2</td>\n",
       "      <td>user=2</td>\n",
       "    </tr>\n",
       "    <tr>\n",
       "      <th>5</th>\n",
       "      <td>2</td>\n",
       "      <td>gender=M</td>\n",
       "    </tr>\n",
       "    <tr>\n",
       "      <th>6</th>\n",
       "      <td>2</td>\n",
       "      <td>occupation=16</td>\n",
       "    </tr>\n",
       "    <tr>\n",
       "      <th>7</th>\n",
       "      <td>2</td>\n",
       "      <td>zipcode=70072</td>\n",
       "    </tr>\n",
       "    <tr>\n",
       "      <th>8</th>\n",
       "      <td>3</td>\n",
       "      <td>user=3</td>\n",
       "    </tr>\n",
       "    <tr>\n",
       "      <th>9</th>\n",
       "      <td>3</td>\n",
       "      <td>gender=M</td>\n",
       "    </tr>\n",
       "  </tbody>\n",
       "</table>\n",
       "</div>"
      ],
      "text/plain": [
       "   user        feature\n",
       "0     1         user=1\n",
       "1     1       gender=F\n",
       "2     1  occupation=10\n",
       "3     1  zipcode=48067\n",
       "4     2         user=2\n",
       "5     2       gender=M\n",
       "6     2  occupation=16\n",
       "7     2  zipcode=70072\n",
       "8     3         user=3\n",
       "9     3       gender=M"
      ]
     },
     "execution_count": 3,
     "metadata": {},
     "output_type": "execute_result"
    }
   ],
   "source": [
    "from sklearn import preprocessing\n",
    "# flatmap equivalent\n",
    "from itertools import chain\n",
    "\n",
    "def columns_to_key_feature_pairs(row, key_column, feature_columns):\n",
    "    return [(row[key_column], '{}={}'.format(column, row[column])) for column in feature_columns]\n",
    "\n",
    "def array_column_to_key_feature_pairs(row, key_column, array_column):\n",
    "    return [(row[key_column], u'{}={}'.format(array_column, value)) for value in row[array_column]]\n",
    "\n",
    "feature_columns=['user', 'gender', 'occupation', 'zipcode']\n",
    "\n",
    "user_features = pd.DataFrame.from_records(\n",
    "    data=chain.from_iterable(\n",
    "        columns_to_key_feature_pairs(row, key_column='user', feature_columns=feature_columns)\n",
    "        for _, row in users.iterrows()),\n",
    "    columns=['user', 'feature'])\n",
    "\n",
    "print(user_features.shape)\n",
    "user_features.head(10)"
   ]
  },
  {
   "cell_type": "code",
   "execution_count": 4,
   "metadata": {
    "collapsed": false
   },
   "outputs": [
    {
     "name": "stdout",
     "output_type": "stream",
     "text": [
      "(10291, 2)\n"
     ]
    },
    {
     "data": {
      "text/html": [
       "<div>\n",
       "<table border=\"1\" class=\"dataframe\">\n",
       "  <thead>\n",
       "    <tr style=\"text-align: right;\">\n",
       "      <th></th>\n",
       "      <th>item</th>\n",
       "      <th>feature</th>\n",
       "    </tr>\n",
       "  </thead>\n",
       "  <tbody>\n",
       "    <tr>\n",
       "      <th>0</th>\n",
       "      <td>1</td>\n",
       "      <td>item=1</td>\n",
       "    </tr>\n",
       "    <tr>\n",
       "      <th>1</th>\n",
       "      <td>1</td>\n",
       "      <td>genres=Animation</td>\n",
       "    </tr>\n",
       "    <tr>\n",
       "      <th>2</th>\n",
       "      <td>1</td>\n",
       "      <td>genres=Children's</td>\n",
       "    </tr>\n",
       "    <tr>\n",
       "      <th>3</th>\n",
       "      <td>1</td>\n",
       "      <td>genres=Comedy</td>\n",
       "    </tr>\n",
       "    <tr>\n",
       "      <th>4</th>\n",
       "      <td>2</td>\n",
       "      <td>item=2</td>\n",
       "    </tr>\n",
       "  </tbody>\n",
       "</table>\n",
       "</div>"
      ],
      "text/plain": [
       "   item            feature\n",
       "0     1             item=1\n",
       "1     1   genres=Animation\n",
       "2     1  genres=Children's\n",
       "3     1      genres=Comedy\n",
       "4     2             item=2"
      ]
     },
     "execution_count": 4,
     "metadata": {},
     "output_type": "execute_result"
    }
   ],
   "source": [
    "item_features = pd.DataFrame.from_records(\n",
    "    data=chain.from_iterable(\n",
    "        columns_to_key_feature_pairs(row, key_column='item', feature_columns=['item']) +\\\n",
    "            array_column_to_key_feature_pairs(row, key_column='item', array_column='genres')\n",
    "        for _, row in movies.iterrows()), columns=['item', 'feature'])\n",
    "\n",
    "print(item_features.shape)\n",
    "item_features.head()"
   ]
  },
  {
   "cell_type": "code",
   "execution_count": 5,
   "metadata": {
    "collapsed": false
   },
   "outputs": [
    {
     "name": "stdout",
     "output_type": "stream",
     "text": [
      "(7102860, 3)\n"
     ]
    },
    {
     "data": {
      "text/html": [
       "<div>\n",
       "<table border=\"1\" class=\"dataframe\">\n",
       "  <thead>\n",
       "    <tr style=\"text-align: right;\">\n",
       "      <th></th>\n",
       "      <th>rating</th>\n",
       "      <th>sample_id</th>\n",
       "      <th>feature</th>\n",
       "    </tr>\n",
       "  </thead>\n",
       "  <tbody>\n",
       "    <tr>\n",
       "      <th>0</th>\n",
       "      <td>5</td>\n",
       "      <td>0</td>\n",
       "      <td>user=1</td>\n",
       "    </tr>\n",
       "    <tr>\n",
       "      <th>1</th>\n",
       "      <td>5</td>\n",
       "      <td>0</td>\n",
       "      <td>gender=F</td>\n",
       "    </tr>\n",
       "    <tr>\n",
       "      <th>2</th>\n",
       "      <td>5</td>\n",
       "      <td>0</td>\n",
       "      <td>occupation=10</td>\n",
       "    </tr>\n",
       "    <tr>\n",
       "      <th>3</th>\n",
       "      <td>5</td>\n",
       "      <td>0</td>\n",
       "      <td>zipcode=48067</td>\n",
       "    </tr>\n",
       "    <tr>\n",
       "      <th>1</th>\n",
       "      <td>5</td>\n",
       "      <td>0</td>\n",
       "      <td>genres=Drama</td>\n",
       "    </tr>\n",
       "    <tr>\n",
       "      <th>0</th>\n",
       "      <td>5</td>\n",
       "      <td>0</td>\n",
       "      <td>item=1193</td>\n",
       "    </tr>\n",
       "    <tr>\n",
       "      <th>3452</th>\n",
       "      <td>3</td>\n",
       "      <td>1</td>\n",
       "      <td>genres=Children's</td>\n",
       "    </tr>\n",
       "    <tr>\n",
       "      <th>3453</th>\n",
       "      <td>3</td>\n",
       "      <td>1</td>\n",
       "      <td>genres=Musical</td>\n",
       "    </tr>\n",
       "    <tr>\n",
       "      <th>3451</th>\n",
       "      <td>3</td>\n",
       "      <td>1</td>\n",
       "      <td>genres=Animation</td>\n",
       "    </tr>\n",
       "    <tr>\n",
       "      <th>3450</th>\n",
       "      <td>3</td>\n",
       "      <td>1</td>\n",
       "      <td>item=661</td>\n",
       "    </tr>\n",
       "  </tbody>\n",
       "</table>\n",
       "</div>"
      ],
      "text/plain": [
       "      rating  sample_id            feature\n",
       "0          5          0             user=1\n",
       "1          5          0           gender=F\n",
       "2          5          0      occupation=10\n",
       "3          5          0      zipcode=48067\n",
       "1          5          0       genres=Drama\n",
       "0          5          0          item=1193\n",
       "3452       3          1  genres=Children's\n",
       "3453       3          1     genres=Musical\n",
       "3451       3          1   genres=Animation\n",
       "3450       3          1           item=661"
      ]
     },
     "execution_count": 5,
     "metadata": {},
     "output_type": "execute_result"
    }
   ],
   "source": [
    "keyed_ratings = (ratings[['user', 'item', 'rating']]\n",
    "    .assign(sample_id=lambda df: np.arange(df.shape[0])))\n",
    "\n",
    "ratings_and_features = (\n",
    "    pd.concat([\n",
    "        pd.merge(keyed_ratings, user_features, on='user', how='inner'),\n",
    "        pd.merge(keyed_ratings, item_features, on='item', how='inner')],\n",
    "        axis=0)\n",
    "    .sort_values('sample_id')\n",
    "    .drop(['user', 'item'], axis=1))\n",
    "\n",
    "print(ratings_and_features.shape)\n",
    "ratings_and_features.head(10)"
   ]
  },
  {
   "cell_type": "code",
   "execution_count": 6,
   "metadata": {
    "collapsed": false
   },
   "outputs": [
    {
     "data": {
      "text/plain": [
       "sample_id\n",
       "0    [user=1, gender=F, occupation=10, zipcode=4806...\n",
       "1    [genres=Children's, genres=Musical, genres=Ani...\n",
       "2    [occupation=10, zipcode=48067, item=914, user=...\n",
       "3    [item=3408, zipcode=48067, occupation=10, gend...\n",
       "4    [item=2355, genres=Animation, genres=Comedy, g...\n",
       "Name: feature, dtype: object"
      ]
     },
     "execution_count": 6,
     "metadata": {},
     "output_type": "execute_result"
    }
   ],
   "source": [
    "# A training sample i will be made of the (y_i = rating_i, X_i= sparse features) (encoded as integers, see later) \n",
    "ratings_and_features.head(100).groupby('sample_id').feature.apply(list).head()"
   ]
  },
  {
   "cell_type": "markdown",
   "metadata": {},
   "source": [
    "## Engineering interaction features\n",
    "\n",
    "To help the `LinearRegression` (although http://contrib.scikit-learn.org/polylearn/ or http://www.libfm.org/ are capable of modelling sparse interactions natively. "
   ]
  },
  {
   "cell_type": "code",
   "execution_count": 7,
   "metadata": {
    "collapsed": false
   },
   "outputs": [
    {
     "name": "stdout",
     "output_type": "stream",
     "text": [
      "(2101815, 3)\n"
     ]
    },
    {
     "data": {
      "text/html": [
       "<div>\n",
       "<table border=\"1\" class=\"dataframe\">\n",
       "  <thead>\n",
       "    <tr style=\"text-align: right;\">\n",
       "      <th></th>\n",
       "      <th>sample_id</th>\n",
       "      <th>rating</th>\n",
       "      <th>feature</th>\n",
       "    </tr>\n",
       "  </thead>\n",
       "  <tbody>\n",
       "    <tr>\n",
       "      <th>0</th>\n",
       "      <td>0</td>\n",
       "      <td>5</td>\n",
       "      <td>gender=F&amp;genres=Drama</td>\n",
       "    </tr>\n",
       "    <tr>\n",
       "      <th>1</th>\n",
       "      <td>1</td>\n",
       "      <td>3</td>\n",
       "      <td>gender=F&amp;genres=Children's</td>\n",
       "    </tr>\n",
       "    <tr>\n",
       "      <th>2</th>\n",
       "      <td>1</td>\n",
       "      <td>3</td>\n",
       "      <td>gender=F&amp;genres=Musical</td>\n",
       "    </tr>\n",
       "    <tr>\n",
       "      <th>3</th>\n",
       "      <td>1</td>\n",
       "      <td>3</td>\n",
       "      <td>gender=F&amp;genres=Animation</td>\n",
       "    </tr>\n",
       "    <tr>\n",
       "      <th>4</th>\n",
       "      <td>2</td>\n",
       "      <td>3</td>\n",
       "      <td>gender=F&amp;genres=Musical</td>\n",
       "    </tr>\n",
       "  </tbody>\n",
       "</table>\n",
       "</div>"
      ],
      "text/plain": [
       "   sample_id  rating                     feature\n",
       "0          0       5       gender=F&genres=Drama\n",
       "1          1       3  gender=F&genres=Children's\n",
       "2          1       3     gender=F&genres=Musical\n",
       "3          1       3   gender=F&genres=Animation\n",
       "4          2       3     gender=F&genres=Musical"
      ]
     },
     "execution_count": 7,
     "metadata": {},
     "output_type": "execute_result"
    }
   ],
   "source": [
    "left_features_mask = ratings_and_features.feature.str.startswith('gender')\n",
    "right_features_mask = ratings_and_features.feature.str.startswith('genres')\n",
    "\n",
    "def build_interaction_features(df):\n",
    "    return df.feature_x.str.cat(df.feature_y, sep='&')\n",
    "\n",
    "interaction_features = (\n",
    "    pd.merge(\n",
    "        left=ratings_and_features[left_features_mask].drop('rating', 1),\n",
    "        right=ratings_and_features[right_features_mask],\n",
    "        on='sample_id')\n",
    "    .assign(feature=build_interaction_features)\n",
    "    .drop(['feature_x', 'feature_y'], axis=1))\n",
    "\n",
    "print(interaction_features.shape)\n",
    "interaction_features.head()"
   ]
  },
  {
   "cell_type": "code",
   "execution_count": 8,
   "metadata": {
    "collapsed": false
   },
   "outputs": [
    {
     "name": "stdout",
     "output_type": "stream",
     "text": [
      "(9204675, 4)\n"
     ]
    },
    {
     "data": {
      "text/html": [
       "<div>\n",
       "<table border=\"1\" class=\"dataframe\">\n",
       "  <thead>\n",
       "    <tr style=\"text-align: right;\">\n",
       "      <th></th>\n",
       "      <th>feature</th>\n",
       "      <th>rating</th>\n",
       "      <th>sample_id</th>\n",
       "      <th>encoded_feature</th>\n",
       "    </tr>\n",
       "  </thead>\n",
       "  <tbody>\n",
       "    <tr>\n",
       "      <th>0</th>\n",
       "      <td>user=1</td>\n",
       "      <td>5</td>\n",
       "      <td>0</td>\n",
       "      <td>3783</td>\n",
       "    </tr>\n",
       "    <tr>\n",
       "      <th>0</th>\n",
       "      <td>item=1193</td>\n",
       "      <td>5</td>\n",
       "      <td>0</td>\n",
       "      <td>245</td>\n",
       "    </tr>\n",
       "    <tr>\n",
       "      <th>1</th>\n",
       "      <td>genres=Drama</td>\n",
       "      <td>5</td>\n",
       "      <td>0</td>\n",
       "      <td>45</td>\n",
       "    </tr>\n",
       "    <tr>\n",
       "      <th>0</th>\n",
       "      <td>gender=F&amp;genres=Drama</td>\n",
       "      <td>5</td>\n",
       "      <td>0</td>\n",
       "      <td>8</td>\n",
       "    </tr>\n",
       "    <tr>\n",
       "      <th>2</th>\n",
       "      <td>occupation=10</td>\n",
       "      <td>5</td>\n",
       "      <td>0</td>\n",
       "      <td>3764</td>\n",
       "    </tr>\n",
       "    <tr>\n",
       "      <th>1</th>\n",
       "      <td>gender=F</td>\n",
       "      <td>5</td>\n",
       "      <td>0</td>\n",
       "      <td>0</td>\n",
       "    </tr>\n",
       "    <tr>\n",
       "      <th>3</th>\n",
       "      <td>zipcode=48067</td>\n",
       "      <td>5</td>\n",
       "      <td>0</td>\n",
       "      <td>11411</td>\n",
       "    </tr>\n",
       "    <tr>\n",
       "      <th>1</th>\n",
       "      <td>gender=F&amp;genres=Children's</td>\n",
       "      <td>3</td>\n",
       "      <td>1</td>\n",
       "      <td>4</td>\n",
       "    </tr>\n",
       "    <tr>\n",
       "      <th>3</th>\n",
       "      <td>gender=F&amp;genres=Animation</td>\n",
       "      <td>3</td>\n",
       "      <td>1</td>\n",
       "      <td>3</td>\n",
       "    </tr>\n",
       "    <tr>\n",
       "      <th>7</th>\n",
       "      <td>zipcode=48067</td>\n",
       "      <td>3</td>\n",
       "      <td>1</td>\n",
       "      <td>11411</td>\n",
       "    </tr>\n",
       "  </tbody>\n",
       "</table>\n",
       "</div>"
      ],
      "text/plain": [
       "                      feature  rating  sample_id  encoded_feature\n",
       "0                      user=1       5          0             3783\n",
       "0                   item=1193       5          0              245\n",
       "1                genres=Drama       5          0               45\n",
       "0       gender=F&genres=Drama       5          0                8\n",
       "2               occupation=10       5          0             3764\n",
       "1                    gender=F       5          0                0\n",
       "3               zipcode=48067       5          0            11411\n",
       "1  gender=F&genres=Children's       3          1                4\n",
       "3   gender=F&genres=Animation       3          1                3\n",
       "7               zipcode=48067       3          1            11411"
      ]
     },
     "execution_count": 8,
     "metadata": {},
     "output_type": "execute_result"
    }
   ],
   "source": [
    "featurized_ratings = (pd.concat([ratings_and_features, interaction_features], axis=0)\n",
    "    .assign(feature=lambda df: df.feature.astype('category'))\n",
    "    .assign(encoded_feature=lambda df: df.feature.values.codes)\n",
    "    .sort_values('sample_id'))\n",
    "\n",
    "print(featurized_ratings.shape)\n",
    "featurized_ratings.head(10)"
   ]
  },
  {
   "cell_type": "code",
   "execution_count": 9,
   "metadata": {
    "collapsed": false
   },
   "outputs": [
    {
     "name": "stdout",
     "output_type": "stream",
     "text": [
      "(13262, 2)\n"
     ]
    },
    {
     "data": {
      "text/html": [
       "<div>\n",
       "<table border=\"1\" class=\"dataframe\">\n",
       "  <thead>\n",
       "    <tr style=\"text-align: right;\">\n",
       "      <th></th>\n",
       "      <th>encoded_feature</th>\n",
       "      <th>name</th>\n",
       "    </tr>\n",
       "    <tr>\n",
       "      <th>encoded_feature</th>\n",
       "      <th></th>\n",
       "      <th></th>\n",
       "    </tr>\n",
       "  </thead>\n",
       "  <tbody>\n",
       "    <tr>\n",
       "      <th>0</th>\n",
       "      <td>0</td>\n",
       "      <td>gender=F</td>\n",
       "    </tr>\n",
       "    <tr>\n",
       "      <th>1</th>\n",
       "      <td>1</td>\n",
       "      <td>gender=F&amp;genres=Action</td>\n",
       "    </tr>\n",
       "    <tr>\n",
       "      <th>2</th>\n",
       "      <td>2</td>\n",
       "      <td>gender=F&amp;genres=Adventure</td>\n",
       "    </tr>\n",
       "    <tr>\n",
       "      <th>3</th>\n",
       "      <td>3</td>\n",
       "      <td>gender=F&amp;genres=Animation</td>\n",
       "    </tr>\n",
       "    <tr>\n",
       "      <th>4</th>\n",
       "      <td>4</td>\n",
       "      <td>gender=F&amp;genres=Children's</td>\n",
       "    </tr>\n",
       "  </tbody>\n",
       "</table>\n",
       "</div>"
      ],
      "text/plain": [
       "                 encoded_feature                        name\n",
       "encoded_feature                                             \n",
       "0                              0                    gender=F\n",
       "1                              1      gender=F&genres=Action\n",
       "2                              2   gender=F&genres=Adventure\n",
       "3                              3   gender=F&genres=Animation\n",
       "4                              4  gender=F&genres=Children's"
      ]
     },
     "execution_count": 9,
     "metadata": {},
     "output_type": "execute_result"
    }
   ],
   "source": [
    "features_decoder = pd.DataFrame.from_dict({\n",
    "    'name': featurized_ratings.feature.values.categories,\n",
    "    'encoded_feature': np.arange(len(featurized_ratings.feature.values.categories))}).set_index('encoded_feature', drop=False)\n",
    "\n",
    "print(features_decoder.shape)\n",
    "features_decoder.head()"
   ]
  },
  {
   "cell_type": "markdown",
   "metadata": {},
   "source": [
    "## Train/test split\n",
    "\n",
    " * Ideally time based split\n",
    " * For the sake of simplicity, let's just sample ratings uniformly (breaking the time machine rule)"
   ]
  },
  {
   "cell_type": "code",
   "execution_count": 10,
   "metadata": {
    "collapsed": false
   },
   "outputs": [
    {
     "name": "stdout",
     "output_type": "stream",
     "text": [
      "(900209, 4)\n",
      "(100000, 4)\n"
     ]
    },
    {
     "data": {
      "text/html": [
       "<div>\n",
       "<table border=\"1\" class=\"dataframe\">\n",
       "  <thead>\n",
       "    <tr style=\"text-align: right;\">\n",
       "      <th></th>\n",
       "      <th>user</th>\n",
       "      <th>item</th>\n",
       "      <th>rating</th>\n",
       "      <th>timestamp</th>\n",
       "    </tr>\n",
       "  </thead>\n",
       "  <tbody>\n",
       "    <tr>\n",
       "      <th>14</th>\n",
       "      <td>1</td>\n",
       "      <td>1035</td>\n",
       "      <td>5</td>\n",
       "      <td>2000-12-31 22:29:13</td>\n",
       "    </tr>\n",
       "    <tr>\n",
       "      <th>19</th>\n",
       "      <td>1</td>\n",
       "      <td>2797</td>\n",
       "      <td>4</td>\n",
       "      <td>2000-12-31 22:33:59</td>\n",
       "    </tr>\n",
       "    <tr>\n",
       "      <th>31</th>\n",
       "      <td>1</td>\n",
       "      <td>3186</td>\n",
       "      <td>4</td>\n",
       "      <td>2000-12-31 22:00:19</td>\n",
       "    </tr>\n",
       "    <tr>\n",
       "      <th>36</th>\n",
       "      <td>1</td>\n",
       "      <td>1836</td>\n",
       "      <td>5</td>\n",
       "      <td>2000-12-31 22:02:52</td>\n",
       "    </tr>\n",
       "    <tr>\n",
       "      <th>47</th>\n",
       "      <td>1</td>\n",
       "      <td>1207</td>\n",
       "      <td>4</td>\n",
       "      <td>2000-12-31 22:11:59</td>\n",
       "    </tr>\n",
       "  </tbody>\n",
       "</table>\n",
       "</div>"
      ],
      "text/plain": [
       "    user  item  rating           timestamp\n",
       "14     1  1035       5 2000-12-31 22:29:13\n",
       "19     1  2797       4 2000-12-31 22:33:59\n",
       "31     1  3186       4 2000-12-31 22:00:19\n",
       "36     1  1836       5 2000-12-31 22:02:52\n",
       "47     1  1207       4 2000-12-31 22:11:59"
      ]
     },
     "execution_count": 10,
     "metadata": {},
     "output_type": "execute_result"
    }
   ],
   "source": [
    "test = ratings.sample(n=100000, random_state=0).sort_index()\n",
    "test_sample_ids = test.index.values\n",
    "train_ratings_mask = ~ratings.index.isin(test_sample_ids)\n",
    "train = ratings.loc[train_ratings_mask]\n",
    "train_sample_ids = train.index.values\n",
    "\n",
    "test_user_items = test[['user', 'item']]\n",
    "\n",
    "print(train.shape)\n",
    "print(test.shape)\n",
    "\n",
    "test.head()"
   ]
  },
  {
   "cell_type": "markdown",
   "metadata": {},
   "source": [
    "## Evaluation function"
   ]
  },
  {
   "cell_type": "code",
   "execution_count": 11,
   "metadata": {
    "collapsed": false
   },
   "outputs": [],
   "source": [
    "def rmse(predicted_ratings, ground_truth_ratings=test):\n",
    "\n",
    "    # predicted rating will be nan if no prediction => returning nan as a result if not all test ratings provided\n",
    "    joined_ratings = pd.merge(\n",
    "        ground_truth_ratings,\n",
    "        predicted_ratings, \n",
    "        on=['user', 'item'], how='left', suffixes=['_ground_truth', '_predicted'])\n",
    "\n",
    "    squared_errors = np.power(joined_ratings.rating_ground_truth - joined_ratings.rating_predicted, 2)\n",
    "    \n",
    "    return np.sqrt(np.average(squared_errors))"
   ]
  },
  {
   "cell_type": "markdown",
   "metadata": {},
   "source": [
    "## Linear model based on featurized user-item ratings\n",
    "\n",
    "Building a simple linear model using gender, genres + gender&genres interactions"
   ]
  },
  {
   "cell_type": "code",
   "execution_count": 12,
   "metadata": {
    "collapsed": false
   },
   "outputs": [
    {
     "name": "stdout",
     "output_type": "stream",
     "text": [
      "(5203839, 4)\n"
     ]
    },
    {
     "data": {
      "text/html": [
       "<div>\n",
       "<table border=\"1\" class=\"dataframe\">\n",
       "  <thead>\n",
       "    <tr style=\"text-align: right;\">\n",
       "      <th></th>\n",
       "      <th>feature</th>\n",
       "      <th>rating</th>\n",
       "      <th>sample_id</th>\n",
       "      <th>encoded_feature</th>\n",
       "    </tr>\n",
       "  </thead>\n",
       "  <tbody>\n",
       "    <tr>\n",
       "      <th>0</th>\n",
       "      <td>genres=Drama</td>\n",
       "      <td>5</td>\n",
       "      <td>0</td>\n",
       "      <td>45</td>\n",
       "    </tr>\n",
       "    <tr>\n",
       "      <th>452682</th>\n",
       "      <td>gender=F</td>\n",
       "      <td>5</td>\n",
       "      <td>0</td>\n",
       "      <td>0</td>\n",
       "    </tr>\n",
       "    <tr>\n",
       "      <th>354529</th>\n",
       "      <td>gender=F&amp;genres=Drama</td>\n",
       "      <td>5</td>\n",
       "      <td>0</td>\n",
       "      <td>8</td>\n",
       "    </tr>\n",
       "    <tr>\n",
       "      <th>787698</th>\n",
       "      <td>genres=Animation</td>\n",
       "      <td>3</td>\n",
       "      <td>1</td>\n",
       "      <td>40</td>\n",
       "    </tr>\n",
       "    <tr>\n",
       "      <th>452683</th>\n",
       "      <td>gender=F</td>\n",
       "      <td>3</td>\n",
       "      <td>1</td>\n",
       "      <td>0</td>\n",
       "    </tr>\n",
       "  </tbody>\n",
       "</table>\n",
       "</div>"
      ],
      "text/plain": [
       "                      feature  rating  sample_id  encoded_feature\n",
       "0                genres=Drama       5          0               45\n",
       "452682               gender=F       5          0                0\n",
       "354529  gender=F&genres=Drama       5          0                8\n",
       "787698       genres=Animation       3          1               40\n",
       "452683               gender=F       3          1                0"
      ]
     },
     "execution_count": 12,
     "metadata": {},
     "output_type": "execute_result"
    }
   ],
   "source": [
    "features_subset = features_decoder[features_decoder.name.str.contains('gender') | features_decoder.name.str.contains('genres')]\n",
    "\n",
    "ratings_subset_features = (pd.merge(\n",
    "        left=featurized_ratings,\n",
    "        right=features_subset[['encoded_feature']], on='encoded_feature', how='inner')\n",
    "    .sort_values('sample_id'))\n",
    "\n",
    "print(ratings_subset_features.shape)\n",
    "ratings_subset_features.head()"
   ]
  },
  {
   "cell_type": "code",
   "execution_count": 13,
   "metadata": {
    "collapsed": false
   },
   "outputs": [
    {
     "name": "stdout",
     "output_type": "stream",
     "text": [
      "<900209x56 sparse matrix of type '<class 'numpy.float64'>'\n",
      "\twith 4684057 stored elements in COOrdinate format>\n"
     ]
    },
    {
     "data": {
      "text/plain": [
       "<100000x56 sparse matrix of type '<class 'numpy.float64'>'\n",
       "\twith 519782 stored elements in COOrdinate format>"
      ]
     },
     "execution_count": 13,
     "metadata": {},
     "output_type": "execute_result"
    }
   ],
   "source": [
    "from scipy import sparse\n",
    "\n",
    "def to_coo(row_indexes, col_indexes, values, shape=None, dtype=np.float64):\n",
    "    return sparse.coo_matrix((values, (row_indexes, col_indexes)), shape=shape, dtype=dtype)\n",
    "\n",
    "def to_features_matrix(ratings_features):\n",
    "    condensed_sample_ids = ratings_features.sample_id.astype('category').values.codes\n",
    "    features_matrix = to_coo(\n",
    "        row_indexes=condensed_sample_ids,\n",
    "        col_indexes=ratings_features.encoded_feature.values,\n",
    "        values=np.ones_like(condensed_sample_ids))\n",
    "    return features_matrix\n",
    "\n",
    "in_train_mask = ratings_subset_features.sample_id.isin(train_sample_ids).values\n",
    "\n",
    "train_features_matrix = to_features_matrix(ratings_subset_features.loc[in_train_mask])\n",
    "test_features_matrix = to_features_matrix(ratings_subset_features.loc[~in_train_mask])\n",
    "\n",
    "print(train_features_matrix.__repr__())\n",
    "test_features_matrix"
   ]
  },
  {
   "cell_type": "code",
   "execution_count": 14,
   "metadata": {
    "collapsed": false
   },
   "outputs": [
    {
     "data": {
      "text/plain": [
       "LinearRegression(copy_X=True, fit_intercept=True, n_jobs=1, normalize=False)"
      ]
     },
     "execution_count": 14,
     "metadata": {},
     "output_type": "execute_result"
    }
   ],
   "source": [
    "from sklearn.linear_model import SGDRegressor, LinearRegression\n",
    "\n",
    "#m = SGDRegressor(fit_intercept=True, n_iter=10, alpha=.0001, penalty='l2', verbose=True)\n",
    "m = LinearRegression(fit_intercept=True)\n",
    "m.fit(X=train_features_matrix, y=train.rating)"
   ]
  },
  {
   "cell_type": "code",
   "execution_count": 15,
   "metadata": {
    "collapsed": true
   },
   "outputs": [],
   "source": [
    "def plot_predicted_distribution(predicted_ratings, ground_truth_ratings=test):\n",
    "    bins = np.linspace(-.5, 7.5, 9)\n",
    "    plt.hist(predicted_ratings.rating, \n",
    "             bins=bins, normed=True, histtype='step', lw=2, label='predicted')\n",
    "    plt.hist(ground_truth_ratings.rating, \n",
    "             bins=bins, normed=True, histtype='step', lw=2, color='grey', label='ground truth')\n",
    "    plt.ylabel('rating proportion')\n",
    "    plt.xlabel('rating value')\n",
    "    plt.xlim([0, 6]); plt.ylim([0, 1.05])\n",
    "    plt.xticks(range(1, 6))\n",
    "    plt.legend(loc=2)"
   ]
  },
  {
   "cell_type": "code",
   "execution_count": 16,
   "metadata": {
    "collapsed": false
   },
   "outputs": [
    {
     "data": {
      "text/plain": [
       "1.0929341986279444"
      ]
     },
     "execution_count": 16,
     "metadata": {},
     "output_type": "execute_result"
    },
    {
     "data": {
      "image/png": "[encoded data removed]",
      "text/plain": [
       "<matplotlib.figure.Figure at 0x113fb8fd0>"
      ]
     },
     "metadata": {},
     "output_type": "display_data"
    }
   ],
   "source": [
    "sampled_predicted_ratings = pd.Series(\n",
    "    index=test_sample_ids,\n",
    "    data=m.predict(X=test_features_matrix)).to_frame('rating')\n",
    "\n",
    "user_item_predicted_ratings = sampled_predicted_ratings.join(test_user_items)\n",
    "\n",
    "plot_predicted_distribution(user_item_predicted_ratings)\n",
    "\n",
    "rmse(user_item_predicted_ratings)"
   ]
  },
  {
   "cell_type": "markdown",
   "metadata": {},
   "source": [
    "## Model inspection\n",
    "\n",
    "Although the model has a poor rmse, it's capturing meaningful trends from the data."
   ]
  },
  {
   "cell_type": "code",
   "execution_count": 17,
   "metadata": {
    "collapsed": false
   },
   "outputs": [
    {
     "data": {
      "text/plain": [
       "3.5818259981848661"
      ]
     },
     "execution_count": 17,
     "metadata": {},
     "output_type": "execute_result"
    }
   ],
   "source": [
    "m.intercept_"
   ]
  },
  {
   "cell_type": "code",
   "execution_count": 18,
   "metadata": {
    "collapsed": false
   },
   "outputs": [
    {
     "data": {
      "text/html": [
       "<div>\n",
       "<table border=\"1\" class=\"dataframe\">\n",
       "  <thead>\n",
       "    <tr style=\"text-align: right;\">\n",
       "      <th></th>\n",
       "      <th>encoded_feature</th>\n",
       "      <th>feature</th>\n",
       "      <th>rating_bias</th>\n",
       "    </tr>\n",
       "  </thead>\n",
       "  <tbody>\n",
       "    <tr>\n",
       "      <th>7</th>\n",
       "      <td>47</td>\n",
       "      <td>genres=Film-Noir</td>\n",
       "      <td>0.285103</td>\n",
       "    </tr>\n",
       "    <tr>\n",
       "      <th>5</th>\n",
       "      <td>44</td>\n",
       "      <td>genres=Documentary</td>\n",
       "      <td>0.272388</td>\n",
       "    </tr>\n",
       "    <tr>\n",
       "      <th>4</th>\n",
       "      <td>40</td>\n",
       "      <td>genres=Animation</td>\n",
       "      <td>0.213433</td>\n",
       "    </tr>\n",
       "    <tr>\n",
       "      <th>1</th>\n",
       "      <td>22</td>\n",
       "      <td>gender=M&amp;genres=Animation</td>\n",
       "      <td>0.191459</td>\n",
       "    </tr>\n",
       "    <tr>\n",
       "      <th>9</th>\n",
       "      <td>54</td>\n",
       "      <td>genres=War</td>\n",
       "      <td>0.187840</td>\n",
       "    </tr>\n",
       "    <tr>\n",
       "      <th>3</th>\n",
       "      <td>29</td>\n",
       "      <td>gender=M&amp;genres=Film-Noir</td>\n",
       "      <td>0.178453</td>\n",
       "    </tr>\n",
       "    <tr>\n",
       "      <th>2</th>\n",
       "      <td>26</td>\n",
       "      <td>gender=M&amp;genres=Documentary</td>\n",
       "      <td>0.158173</td>\n",
       "    </tr>\n",
       "    <tr>\n",
       "      <th>6</th>\n",
       "      <td>45</td>\n",
       "      <td>genres=Drama</td>\n",
       "      <td>0.148318</td>\n",
       "    </tr>\n",
       "    <tr>\n",
       "      <th>0</th>\n",
       "      <td>12</td>\n",
       "      <td>gender=F&amp;genres=Musical</td>\n",
       "      <td>0.125588</td>\n",
       "    </tr>\n",
       "    <tr>\n",
       "      <th>8</th>\n",
       "      <td>49</td>\n",
       "      <td>genres=Musical</td>\n",
       "      <td>0.123122</td>\n",
       "    </tr>\n",
       "  </tbody>\n",
       "</table>\n",
       "</div>"
      ],
      "text/plain": [
       "   encoded_feature                      feature  rating_bias\n",
       "7               47             genres=Film-Noir     0.285103\n",
       "5               44           genres=Documentary     0.272388\n",
       "4               40             genres=Animation     0.213433\n",
       "1               22    gender=M&genres=Animation     0.191459\n",
       "9               54                   genres=War     0.187840\n",
       "3               29    gender=M&genres=Film-Noir     0.178453\n",
       "2               26  gender=M&genres=Documentary     0.158173\n",
       "6               45                 genres=Drama     0.148318\n",
       "0               12      gender=F&genres=Musical     0.125588\n",
       "8               49               genres=Musical     0.123122"
      ]
     },
     "execution_count": 18,
     "metadata": {},
     "output_type": "execute_result"
    }
   ],
   "source": [
    "from scipy.stats import rankdata\n",
    "\n",
    "top_coefficient_ranks = rankdata(-m.coef_, method='max')\n",
    "top_coefficients_encoded = np.where(top_coefficient_ranks <= 10)[0]\n",
    "\n",
    "pd.DataFrame.from_dict(\n",
    "    {'encoded_feature': top_coefficients_encoded,\n",
    "     'feature': features_decoder.loc[top_coefficients_encoded].name.values,\n",
    "     'rating_bias':m.coef_[top_coefficients_encoded]}).sort_values('rating_bias', ascending=False)"
   ]
  },
  {
   "cell_type": "code",
   "execution_count": 19,
   "metadata": {
    "collapsed": false
   },
   "outputs": [
    {
     "data": {
      "text/html": [
       "<div>\n",
       "<table border=\"1\" class=\"dataframe\">\n",
       "  <thead>\n",
       "    <tr style=\"text-align: right;\">\n",
       "      <th></th>\n",
       "      <th>encoded_feature</th>\n",
       "      <th>feature</th>\n",
       "      <th>rating_bias</th>\n",
       "    </tr>\n",
       "  </thead>\n",
       "  <tbody>\n",
       "    <tr>\n",
       "      <th>9</th>\n",
       "      <td>48</td>\n",
       "      <td>genres=Horror</td>\n",
       "      <td>-0.205708</td>\n",
       "    </tr>\n",
       "    <tr>\n",
       "      <th>5</th>\n",
       "      <td>23</td>\n",
       "      <td>gender=M&amp;genres=Children's</td>\n",
       "      <td>-0.195847</td>\n",
       "    </tr>\n",
       "    <tr>\n",
       "      <th>8</th>\n",
       "      <td>41</td>\n",
       "      <td>genres=Children's</td>\n",
       "      <td>-0.189144</td>\n",
       "    </tr>\n",
       "    <tr>\n",
       "      <th>1</th>\n",
       "      <td>11</td>\n",
       "      <td>gender=F&amp;genres=Horror</td>\n",
       "      <td>-0.133317</td>\n",
       "    </tr>\n",
       "    <tr>\n",
       "      <th>4</th>\n",
       "      <td>19</td>\n",
       "      <td>gender=M</td>\n",
       "      <td>-0.092852</td>\n",
       "    </tr>\n",
       "    <tr>\n",
       "      <th>7</th>\n",
       "      <td>38</td>\n",
       "      <td>genres=Action</td>\n",
       "      <td>-0.072528</td>\n",
       "    </tr>\n",
       "    <tr>\n",
       "      <th>6</th>\n",
       "      <td>30</td>\n",
       "      <td>gender=M&amp;genres=Horror</td>\n",
       "      <td>-0.072391</td>\n",
       "    </tr>\n",
       "    <tr>\n",
       "      <th>3</th>\n",
       "      <td>18</td>\n",
       "      <td>gender=F&amp;genres=Western</td>\n",
       "      <td>-0.058713</td>\n",
       "    </tr>\n",
       "    <tr>\n",
       "      <th>0</th>\n",
       "      <td>1</td>\n",
       "      <td>gender=F&amp;genres=Action</td>\n",
       "      <td>-0.045851</td>\n",
       "    </tr>\n",
       "    <tr>\n",
       "      <th>2</th>\n",
       "      <td>15</td>\n",
       "      <td>gender=F&amp;genres=Sci-Fi</td>\n",
       "      <td>-0.038426</td>\n",
       "    </tr>\n",
       "  </tbody>\n",
       "</table>\n",
       "</div>"
      ],
      "text/plain": [
       "   encoded_feature                     feature  rating_bias\n",
       "9               48               genres=Horror    -0.205708\n",
       "5               23  gender=M&genres=Children's    -0.195847\n",
       "8               41           genres=Children's    -0.189144\n",
       "1               11      gender=F&genres=Horror    -0.133317\n",
       "4               19                    gender=M    -0.092852\n",
       "7               38               genres=Action    -0.072528\n",
       "6               30      gender=M&genres=Horror    -0.072391\n",
       "3               18     gender=F&genres=Western    -0.058713\n",
       "0                1      gender=F&genres=Action    -0.045851\n",
       "2               15      gender=F&genres=Sci-Fi    -0.038426"
      ]
     },
     "execution_count": 19,
     "metadata": {},
     "output_type": "execute_result"
    }
   ],
   "source": [
    "bottom_coefficient_ranks = rankdata(m.coef_, method='max')\n",
    "bottom_coefficients_encoded = np.where(bottom_coefficient_ranks <= 10)[0]\n",
    "\n",
    "pd.DataFrame.from_dict(\n",
    "    {'encoded_feature': bottom_coefficients_encoded,\n",
    "     'feature': features_decoder.loc[bottom_coefficients_encoded].name.values,\n",
    "     'rating_bias':m.coef_[bottom_coefficients_encoded]}).sort_values('rating_bias', ascending=True)"
   ]
  }
 ],
 "metadata": {
  "anaconda-cloud": {},
  "kernelspec": {
   "display_name": "Python [default]",
   "language": "python",
   "name": "python3"
  },
  "language_info": {
   "codemirror_mode": {
    "name": "ipython",
    "version": 3
   },
   "file_extension": ".py",
   "mimetype": "text/x-python",
   "name": "python",
   "nbconvert_exporter": "python",
   "pygments_lexer": "ipython3",
   "version": "3.5.2"
  }
 },
 "nbformat": 4,
 "nbformat_minor": 0
}
