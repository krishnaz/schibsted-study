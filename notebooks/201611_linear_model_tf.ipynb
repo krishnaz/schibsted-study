{
 "cells": [
  {
   "cell_type": "code",
   "execution_count": 89,
   "metadata": {
    "collapsed": false
   },
   "outputs": [],
   "source": [
    "import tensorflow as tf\n",
    "import numpy as np\n",
    "import matplotlib.pyplot as plt\n",
    "%matplotlib inline\n",
    "sess = tf.InteractiveSession()"
   ]
  },
  {
   "cell_type": "markdown",
   "metadata": {},
   "source": [
    "# Linear model for regression\n",
    "\n",
    "For $n$ samples $(x_i, y_i)_{i=1,\\ldots, n}$ :\n",
    "$$ y_i = w_1 x_i + w_0 $$ "
   ]
  },
  {
   "cell_type": "code",
   "execution_count": 135,
   "metadata": {
    "collapsed": false
   },
   "outputs": [
    {
     "data": {
      "text/plain": [
       "<tf.Tensor 'features_4:0' shape=(100, 1) dtype=float64>"
      ]
     },
     "execution_count": 135,
     "metadata": {},
     "output_type": "execute_result"
    }
   ],
   "source": [
    "n_samples = 100\n",
    "sample_xs = tf.constant(\n",
    "    value=np.random.uniform(low=0, high=1, size=(n_samples, 1)), \n",
    "    name='features')\n",
    "sample_xs"
   ]
  },
  {
   "cell_type": "code",
   "execution_count": 136,
   "metadata": {
    "collapsed": false
   },
   "outputs": [
    {
     "data": {
      "text/plain": [
       "array([[ 0.07222816],\n",
       "       [ 0.71631291],\n",
       "       [ 0.34911967],\n",
       "       [ 0.90780175],\n",
       "       [ 0.82704326],\n",
       "       [ 0.72326623],\n",
       "       [ 0.03081856],\n",
       "       [ 0.91892638],\n",
       "       [ 0.11516725],\n",
       "       [ 0.42016109],\n",
       "       [ 0.86744866],\n",
       "       [ 0.45653862],\n",
       "       [ 0.15303493],\n",
       "       [ 0.12769468],\n",
       "       [ 0.5008333 ],\n",
       "       [ 0.91191432],\n",
       "       [ 0.93349542],\n",
       "       [ 0.35697315],\n",
       "       [ 0.18834406],\n",
       "       [ 0.50651574],\n",
       "       [ 0.30195773],\n",
       "       [ 0.85149711],\n",
       "       [ 0.20996521],\n",
       "       [ 0.59740228],\n",
       "       [ 0.68605813],\n",
       "       [ 0.95276226],\n",
       "       [ 0.7679581 ],\n",
       "       [ 0.54698254],\n",
       "       [ 0.93978846],\n",
       "       [ 0.96219217],\n",
       "       [ 0.24774321],\n",
       "       [ 0.87083347],\n",
       "       [ 0.97369217],\n",
       "       [ 0.12624776],\n",
       "       [ 0.49108814],\n",
       "       [ 0.63071179],\n",
       "       [ 0.88318509],\n",
       "       [ 0.32772388],\n",
       "       [ 0.90882536],\n",
       "       [ 0.81553357],\n",
       "       [ 0.39904576],\n",
       "       [ 0.91280501],\n",
       "       [ 0.58100622],\n",
       "       [ 0.00913004],\n",
       "       [ 0.90802405],\n",
       "       [ 0.90893982],\n",
       "       [ 0.90717706],\n",
       "       [ 0.37512343],\n",
       "       [ 0.21219596],\n",
       "       [ 0.97056635],\n",
       "       [ 0.50114029],\n",
       "       [ 0.1164196 ],\n",
       "       [ 0.90990097],\n",
       "       [ 0.48260485],\n",
       "       [ 0.95328645],\n",
       "       [ 0.13978862],\n",
       "       [ 0.03596149],\n",
       "       [ 0.41106113],\n",
       "       [ 0.17883963],\n",
       "       [ 0.3256294 ],\n",
       "       [ 0.83209431],\n",
       "       [ 0.67597899],\n",
       "       [ 0.71450063],\n",
       "       [ 0.66264671],\n",
       "       [ 0.81186063],\n",
       "       [ 0.39183906],\n",
       "       [ 0.95551893],\n",
       "       [ 0.50461648],\n",
       "       [ 0.70145561],\n",
       "       [ 0.86481049],\n",
       "       [ 0.42424673],\n",
       "       [ 0.13067569],\n",
       "       [ 0.61442914],\n",
       "       [ 0.50245283],\n",
       "       [ 0.45332204],\n",
       "       [ 0.27748662],\n",
       "       [ 0.68298736],\n",
       "       [ 0.98802543],\n",
       "       [ 0.04217251],\n",
       "       [ 0.20451723],\n",
       "       [ 0.78577111],\n",
       "       [ 0.71573214],\n",
       "       [ 0.46462987],\n",
       "       [ 0.19531302],\n",
       "       [ 0.86290398],\n",
       "       [ 0.78425873],\n",
       "       [ 0.46115661],\n",
       "       [ 0.39791255],\n",
       "       [ 0.71748887],\n",
       "       [ 0.33739856],\n",
       "       [ 0.35866287],\n",
       "       [ 0.17196913],\n",
       "       [ 0.89870582],\n",
       "       [ 0.25436464],\n",
       "       [ 0.70896934],\n",
       "       [ 0.52438465],\n",
       "       [ 0.77827825],\n",
       "       [ 0.56270459],\n",
       "       [ 0.65526381],\n",
       "       [ 0.21961958]])"
      ]
     },
     "execution_count": 136,
     "metadata": {},
     "output_type": "execute_result"
    }
   ],
   "source": [
    "sample_xs.eval()"
   ]
  },
  {
   "cell_type": "code",
   "execution_count": 137,
   "metadata": {
    "collapsed": false
   },
   "outputs": [
    {
     "data": {
      "text/plain": [
       "<tf.Tensor 'add_9:0' shape=(100, 1) dtype=float64>"
      ]
     },
     "execution_count": 137,
     "metadata": {},
     "output_type": "execute_result"
    }
   ],
   "source": [
    "sample_noises = tf.constant(\n",
    "    value=np.random.normal(loc=0, scale=.5, size=n_samples),\n",
    "    shape=(n_samples, 1)\n",
    ")\n",
    "\n",
    "d = 2\n",
    "oracle_w = np.array([1., -2.]).reshape((d, 1))\n",
    "\n",
    "sample_ys = oracle_w[0] + oracle_w[1] * sample_xs + sample_noises\n",
    "sample_ys"
   ]
  },
  {
   "cell_type": "code",
   "execution_count": 138,
   "metadata": {
    "collapsed": false
   },
   "outputs": [
    {
     "data": {
      "text/plain": [
       "array([[  1.30131198e+00],\n",
       "       [ -2.46293601e-01],\n",
       "       [  2.82326197e-01],\n",
       "       [ -1.90964962e+00],\n",
       "       [ -4.43290812e-01],\n",
       "       [ -1.07726439e+00],\n",
       "       [  8.94162229e-01],\n",
       "       [ -1.24448408e+00],\n",
       "       [  2.17793804e-01],\n",
       "       [  6.73063105e-01],\n",
       "       [ -8.63946343e-01],\n",
       "       [  2.39156436e-01],\n",
       "       [  3.71270690e-01],\n",
       "       [  7.45745973e-02],\n",
       "       [  1.58981783e-01],\n",
       "       [ -6.33076779e-02],\n",
       "       [ -1.10729693e+00],\n",
       "       [  6.14207597e-01],\n",
       "       [  5.74188942e-01],\n",
       "       [ -1.04834740e-01],\n",
       "       [  2.79102609e-01],\n",
       "       [ -1.15946180e+00],\n",
       "       [  8.57730514e-01],\n",
       "       [ -1.08915452e+00],\n",
       "       [ -5.33598363e-01],\n",
       "       [ -5.42756207e-01],\n",
       "       [ -8.07005003e-01],\n",
       "       [ -3.07573377e-01],\n",
       "       [ -7.76135473e-01],\n",
       "       [ -1.63337787e+00],\n",
       "       [  6.56290579e-01],\n",
       "       [ -8.70105807e-01],\n",
       "       [ -1.28274642e+00],\n",
       "       [  1.10097784e-01],\n",
       "       [  3.53718817e-01],\n",
       "       [ -1.12264578e-01],\n",
       "       [ -5.74730818e-01],\n",
       "       [  5.40898055e-01],\n",
       "       [ -7.87176431e-01],\n",
       "       [ -1.40853543e+00],\n",
       "       [  2.97595618e-01],\n",
       "       [ -5.88793567e-01],\n",
       "       [ -1.58946923e-01],\n",
       "       [  1.23924427e+00],\n",
       "       [ -7.73514724e-01],\n",
       "       [ -9.25703548e-01],\n",
       "       [ -8.71554159e-01],\n",
       "       [  1.49846750e+00],\n",
       "       [ -2.11669164e-01],\n",
       "       [ -7.01955733e-01],\n",
       "       [  8.39943662e-01],\n",
       "       [ -3.83622860e-01],\n",
       "       [ -2.91286338e-01],\n",
       "       [  3.25776106e-01],\n",
       "       [ -1.69342587e+00],\n",
       "       [  4.16867385e-01],\n",
       "       [  1.26301633e+00],\n",
       "       [ -3.54444281e-02],\n",
       "       [  2.60560486e-01],\n",
       "       [ -2.63173638e-01],\n",
       "       [ -1.16143185e+00],\n",
       "       [ -6.19764656e-01],\n",
       "       [ -3.07578159e-02],\n",
       "       [ -4.46280517e-01],\n",
       "       [ -4.78308907e-01],\n",
       "       [  4.82786009e-01],\n",
       "       [ -1.33116804e+00],\n",
       "       [ -4.01636450e-01],\n",
       "       [ -3.73866516e-01],\n",
       "       [ -8.23224096e-01],\n",
       "       [  9.43150344e-01],\n",
       "       [  2.66139725e-01],\n",
       "       [ -1.22464668e+00],\n",
       "       [ -1.35216312e-01],\n",
       "       [  2.88194371e-01],\n",
       "       [  9.47758422e-01],\n",
       "       [ -5.49012104e-01],\n",
       "       [ -1.71225026e-01],\n",
       "       [  1.28929382e+00],\n",
       "       [  7.43848306e-01],\n",
       "       [ -6.03955079e-01],\n",
       "       [  5.83755656e-01],\n",
       "       [  3.62025071e-01],\n",
       "       [  8.99882403e-01],\n",
       "       [ -3.23453831e-01],\n",
       "       [ -1.06356128e+00],\n",
       "       [ -2.97000832e-01],\n",
       "       [ -7.20589636e-01],\n",
       "       [ -1.12698559e-03],\n",
       "       [  3.82493564e-01],\n",
       "       [  1.52791123e+00],\n",
       "       [  9.67567224e-02],\n",
       "       [ -3.35161413e-01],\n",
       "       [  1.33045893e+00],\n",
       "       [ -1.49765350e-01],\n",
       "       [ -1.12892608e-01],\n",
       "       [ -3.54022648e-01],\n",
       "       [ -4.86424495e-01],\n",
       "       [ -9.16325507e-01],\n",
       "       [  3.96886231e-01]])"
      ]
     },
     "execution_count": 138,
     "metadata": {},
     "output_type": "execute_result"
    }
   ],
   "source": [
    "sample_ys.eval()"
   ]
  },
  {
   "cell_type": "markdown",
   "metadata": {},
   "source": [
    "## Vectorized reformulation\n",
    "\n",
    "[Prof Ng](https://www.youtube.com/watch?v=v4kKgCiF1fo) to the rescue for a refresher about matrix-matrix multiplication :)\n",
    "$$ \\underbrace{\\mathbf{y}}_{n \\times 1} = \\underbrace{\\mathbf{X}}_{n \\times d} \\cdot \\underbrace{\\mathbf{w}}_{d \\times 1} $$"
   ]
  },
  {
   "cell_type": "code",
   "execution_count": 139,
   "metadata": {
    "collapsed": false
   },
   "outputs": [
    {
     "data": {
      "text/plain": [
       "array([[ 1.        ,  0.07222816],\n",
       "       [ 1.        ,  0.71631291],\n",
       "       [ 1.        ,  0.34911967],\n",
       "       [ 1.        ,  0.90780175],\n",
       "       [ 1.        ,  0.82704326],\n",
       "       [ 1.        ,  0.72326623],\n",
       "       [ 1.        ,  0.03081856],\n",
       "       [ 1.        ,  0.91892638],\n",
       "       [ 1.        ,  0.11516725],\n",
       "       [ 1.        ,  0.42016109],\n",
       "       [ 1.        ,  0.86744866],\n",
       "       [ 1.        ,  0.45653862],\n",
       "       [ 1.        ,  0.15303493],\n",
       "       [ 1.        ,  0.12769468],\n",
       "       [ 1.        ,  0.5008333 ],\n",
       "       [ 1.        ,  0.91191432],\n",
       "       [ 1.        ,  0.93349542],\n",
       "       [ 1.        ,  0.35697315],\n",
       "       [ 1.        ,  0.18834406],\n",
       "       [ 1.        ,  0.50651574],\n",
       "       [ 1.        ,  0.30195773],\n",
       "       [ 1.        ,  0.85149711],\n",
       "       [ 1.        ,  0.20996521],\n",
       "       [ 1.        ,  0.59740228],\n",
       "       [ 1.        ,  0.68605813],\n",
       "       [ 1.        ,  0.95276226],\n",
       "       [ 1.        ,  0.7679581 ],\n",
       "       [ 1.        ,  0.54698254],\n",
       "       [ 1.        ,  0.93978846],\n",
       "       [ 1.        ,  0.96219217],\n",
       "       [ 1.        ,  0.24774321],\n",
       "       [ 1.        ,  0.87083347],\n",
       "       [ 1.        ,  0.97369217],\n",
       "       [ 1.        ,  0.12624776],\n",
       "       [ 1.        ,  0.49108814],\n",
       "       [ 1.        ,  0.63071179],\n",
       "       [ 1.        ,  0.88318509],\n",
       "       [ 1.        ,  0.32772388],\n",
       "       [ 1.        ,  0.90882536],\n",
       "       [ 1.        ,  0.81553357],\n",
       "       [ 1.        ,  0.39904576],\n",
       "       [ 1.        ,  0.91280501],\n",
       "       [ 1.        ,  0.58100622],\n",
       "       [ 1.        ,  0.00913004],\n",
       "       [ 1.        ,  0.90802405],\n",
       "       [ 1.        ,  0.90893982],\n",
       "       [ 1.        ,  0.90717706],\n",
       "       [ 1.        ,  0.37512343],\n",
       "       [ 1.        ,  0.21219596],\n",
       "       [ 1.        ,  0.97056635],\n",
       "       [ 1.        ,  0.50114029],\n",
       "       [ 1.        ,  0.1164196 ],\n",
       "       [ 1.        ,  0.90990097],\n",
       "       [ 1.        ,  0.48260485],\n",
       "       [ 1.        ,  0.95328645],\n",
       "       [ 1.        ,  0.13978862],\n",
       "       [ 1.        ,  0.03596149],\n",
       "       [ 1.        ,  0.41106113],\n",
       "       [ 1.        ,  0.17883963],\n",
       "       [ 1.        ,  0.3256294 ],\n",
       "       [ 1.        ,  0.83209431],\n",
       "       [ 1.        ,  0.67597899],\n",
       "       [ 1.        ,  0.71450063],\n",
       "       [ 1.        ,  0.66264671],\n",
       "       [ 1.        ,  0.81186063],\n",
       "       [ 1.        ,  0.39183906],\n",
       "       [ 1.        ,  0.95551893],\n",
       "       [ 1.        ,  0.50461648],\n",
       "       [ 1.        ,  0.70145561],\n",
       "       [ 1.        ,  0.86481049],\n",
       "       [ 1.        ,  0.42424673],\n",
       "       [ 1.        ,  0.13067569],\n",
       "       [ 1.        ,  0.61442914],\n",
       "       [ 1.        ,  0.50245283],\n",
       "       [ 1.        ,  0.45332204],\n",
       "       [ 1.        ,  0.27748662],\n",
       "       [ 1.        ,  0.68298736],\n",
       "       [ 1.        ,  0.98802543],\n",
       "       [ 1.        ,  0.04217251],\n",
       "       [ 1.        ,  0.20451723],\n",
       "       [ 1.        ,  0.78577111],\n",
       "       [ 1.        ,  0.71573214],\n",
       "       [ 1.        ,  0.46462987],\n",
       "       [ 1.        ,  0.19531302],\n",
       "       [ 1.        ,  0.86290398],\n",
       "       [ 1.        ,  0.78425873],\n",
       "       [ 1.        ,  0.46115661],\n",
       "       [ 1.        ,  0.39791255],\n",
       "       [ 1.        ,  0.71748887],\n",
       "       [ 1.        ,  0.33739856],\n",
       "       [ 1.        ,  0.35866287],\n",
       "       [ 1.        ,  0.17196913],\n",
       "       [ 1.        ,  0.89870582],\n",
       "       [ 1.        ,  0.25436464],\n",
       "       [ 1.        ,  0.70896934],\n",
       "       [ 1.        ,  0.52438465],\n",
       "       [ 1.        ,  0.77827825],\n",
       "       [ 1.        ,  0.56270459],\n",
       "       [ 1.        ,  0.65526381],\n",
       "       [ 1.        ,  0.21961958]])"
      ]
     },
     "execution_count": 139,
     "metadata": {},
     "output_type": "execute_result"
    }
   ],
   "source": [
    "x0 = np.repeat(1.0, n_samples).reshape((n_samples, 1))\n",
    "x1 = sample_xs.eval()\n",
    "\n",
    "X = tf.constant(np.hstack([x0, x1]), name='X')\n",
    "X\n",
    "X.eval()"
   ]
  },
  {
   "cell_type": "code",
   "execution_count": 140,
   "metadata": {
    "collapsed": false
   },
   "outputs": [
    {
     "data": {
      "text/plain": [
       "<tf.Tensor 'y_4:0' shape=(100, 1) dtype=float64>"
      ]
     },
     "execution_count": 140,
     "metadata": {},
     "output_type": "execute_result"
    }
   ],
   "source": [
    "y = tf.add(tf.matmul(X, oracle_w), sample_noises, name='y')\n",
    "y"
   ]
  },
  {
   "cell_type": "code",
   "execution_count": 141,
   "metadata": {
    "collapsed": false
   },
   "outputs": [
    {
     "data": {
      "text/plain": [
       "array([[  1.30131198e+00],\n",
       "       [ -2.46293601e-01],\n",
       "       [  2.82326197e-01],\n",
       "       [ -1.90964962e+00],\n",
       "       [ -4.43290812e-01],\n",
       "       [ -1.07726439e+00],\n",
       "       [  8.94162229e-01],\n",
       "       [ -1.24448408e+00],\n",
       "       [  2.17793804e-01],\n",
       "       [  6.73063105e-01],\n",
       "       [ -8.63946343e-01],\n",
       "       [  2.39156436e-01],\n",
       "       [  3.71270690e-01],\n",
       "       [  7.45745973e-02],\n",
       "       [  1.58981783e-01],\n",
       "       [ -6.33076779e-02],\n",
       "       [ -1.10729693e+00],\n",
       "       [  6.14207597e-01],\n",
       "       [  5.74188942e-01],\n",
       "       [ -1.04834740e-01],\n",
       "       [  2.79102609e-01],\n",
       "       [ -1.15946180e+00],\n",
       "       [  8.57730514e-01],\n",
       "       [ -1.08915452e+00],\n",
       "       [ -5.33598363e-01],\n",
       "       [ -5.42756207e-01],\n",
       "       [ -8.07005003e-01],\n",
       "       [ -3.07573377e-01],\n",
       "       [ -7.76135473e-01],\n",
       "       [ -1.63337787e+00],\n",
       "       [  6.56290579e-01],\n",
       "       [ -8.70105807e-01],\n",
       "       [ -1.28274642e+00],\n",
       "       [  1.10097784e-01],\n",
       "       [  3.53718817e-01],\n",
       "       [ -1.12264578e-01],\n",
       "       [ -5.74730818e-01],\n",
       "       [  5.40898055e-01],\n",
       "       [ -7.87176431e-01],\n",
       "       [ -1.40853543e+00],\n",
       "       [  2.97595618e-01],\n",
       "       [ -5.88793567e-01],\n",
       "       [ -1.58946923e-01],\n",
       "       [  1.23924427e+00],\n",
       "       [ -7.73514724e-01],\n",
       "       [ -9.25703548e-01],\n",
       "       [ -8.71554159e-01],\n",
       "       [  1.49846750e+00],\n",
       "       [ -2.11669164e-01],\n",
       "       [ -7.01955733e-01],\n",
       "       [  8.39943662e-01],\n",
       "       [ -3.83622860e-01],\n",
       "       [ -2.91286338e-01],\n",
       "       [  3.25776106e-01],\n",
       "       [ -1.69342587e+00],\n",
       "       [  4.16867385e-01],\n",
       "       [  1.26301633e+00],\n",
       "       [ -3.54444281e-02],\n",
       "       [  2.60560486e-01],\n",
       "       [ -2.63173638e-01],\n",
       "       [ -1.16143185e+00],\n",
       "       [ -6.19764656e-01],\n",
       "       [ -3.07578159e-02],\n",
       "       [ -4.46280517e-01],\n",
       "       [ -4.78308907e-01],\n",
       "       [  4.82786009e-01],\n",
       "       [ -1.33116804e+00],\n",
       "       [ -4.01636450e-01],\n",
       "       [ -3.73866516e-01],\n",
       "       [ -8.23224096e-01],\n",
       "       [  9.43150344e-01],\n",
       "       [  2.66139725e-01],\n",
       "       [ -1.22464668e+00],\n",
       "       [ -1.35216312e-01],\n",
       "       [  2.88194371e-01],\n",
       "       [  9.47758422e-01],\n",
       "       [ -5.49012104e-01],\n",
       "       [ -1.71225026e-01],\n",
       "       [  1.28929382e+00],\n",
       "       [  7.43848306e-01],\n",
       "       [ -6.03955079e-01],\n",
       "       [  5.83755656e-01],\n",
       "       [  3.62025071e-01],\n",
       "       [  8.99882403e-01],\n",
       "       [ -3.23453831e-01],\n",
       "       [ -1.06356128e+00],\n",
       "       [ -2.97000832e-01],\n",
       "       [ -7.20589636e-01],\n",
       "       [ -1.12698559e-03],\n",
       "       [  3.82493564e-01],\n",
       "       [  1.52791123e+00],\n",
       "       [  9.67567224e-02],\n",
       "       [ -3.35161413e-01],\n",
       "       [  1.33045893e+00],\n",
       "       [ -1.49765350e-01],\n",
       "       [ -1.12892608e-01],\n",
       "       [ -3.54022648e-01],\n",
       "       [ -4.86424495e-01],\n",
       "       [ -9.16325507e-01],\n",
       "       [  3.96886231e-01]])"
      ]
     },
     "execution_count": 141,
     "metadata": {},
     "output_type": "execute_result"
    }
   ],
   "source": [
    "y.eval()"
   ]
  },
  {
   "cell_type": "markdown",
   "metadata": {},
   "source": [
    "## Visualisation"
   ]
  },
  {
   "cell_type": "code",
   "execution_count": 142,
   "metadata": {
    "collapsed": false
   },
   "outputs": [
    {
     "data": {
      "image/png": "[encoded data removed]",
      "text/plain": [
       "<matplotlib.figure.Figure at 0x1213a69e8>"
      ]
     },
     "metadata": {},
     "output_type": "display_data"
    }
   ],
   "source": [
    "def fitted_line(w, x_lim, **plot_args):\n",
    "    x_0, x_1 = x_lim\n",
    "    y_0, y_1 = w[0] + w[1] * np.array(x_lim)\n",
    "    plt.plot(x_lim, [y_0, y_1], **plot_args)\n",
    "    \n",
    "plt.plot(sample_xs.eval(), sample_ys.eval(), 'ko')\n",
    "fitted_line(oracle_w, plt.xlim(), label='$w_{oracle}$')\n",
    "plt.legend(); plt.xlabel('x'); plt.ylabel('y');"
   ]
  },
  {
   "cell_type": "markdown",
   "metadata": {},
   "source": [
    "# Exercise\n",
    "\n",
    "Write a procedure to return $\\hat{\\mathbf{w}}$ an estimator of $\\mathbf{w}$ from our model, and plot the fitted model on the graph.\n",
    "Many ways to achieve the results:\n",
    "\n",
    " * use a very high level wrapper from `sklearn` (look at LinearRegression or SgdRegressor)\n",
    " * use the numpy or tensorflow matrix inversion to solve analytically the OLS equation $ \\hat{\\mathbf{w}} = (\\mathbf{X}^{T} \\mathbf{X})^{-1} \\mathbf{X}^{T} \\mathbf{y}$\n",
    " * write a stochastic gradient procedure using tensorflow (https://github.com/aymericdamien/TensorFlow-Examples has a nice example)\n",
    " * For the brave, derive analytically the gradients and write you own SG or SGD "
   ]
  },
  {
   "cell_type": "code",
   "execution_count": 143,
   "metadata": {
    "collapsed": true
   },
   "outputs": [],
   "source": [
    "# Parameters\n",
    "\n",
    "learning_rate = 0.01\n",
    "training_epochs = 1000\n",
    "display_step = 50"
   ]
  },
  {
   "cell_type": "code",
   "execution_count": 144,
   "metadata": {
    "collapsed": false
   },
   "outputs": [],
   "source": [
    "rng = np.random\n",
    "# Launch the graph in a session."
   ]
  },
  {
   "cell_type": "code",
   "execution_count": 145,
   "metadata": {
    "collapsed": false
   },
   "outputs": [],
   "source": [
    "# tf Graph Input\n",
    "train_X = x1\n",
    "train_Y = sample_ys.eval()\n",
    "X = tf.placeholder(\"float\")\n",
    "Y = tf.placeholder(\"float\")\n",
    "\n",
    "# Set model weights\n",
    "W = tf.Variable(rng.randn(), name=\"weight\")\n",
    "b = tf.Variable(rng.randn(), name=\"bias\")\n",
    "sess.run(W.initializer)\n",
    "sess.run(b.initializer)"
   ]
  },
  {
   "cell_type": "code",
   "execution_count": 146,
   "metadata": {
    "collapsed": false
   },
   "outputs": [
    {
     "data": {
      "text/plain": [
       "100"
      ]
     },
     "execution_count": 146,
     "metadata": {},
     "output_type": "execute_result"
    }
   ],
   "source": [
    "# Construct a linear model\n",
    "pred = tf.add(tf.mul(X, W), b)\n",
    "n_samples"
   ]
  },
  {
   "cell_type": "code",
   "execution_count": 147,
   "metadata": {
    "collapsed": true
   },
   "outputs": [],
   "source": [
    "# Mean squared error\n",
    "cost = tf.reduce_sum(tf.pow(pred-Y, 2))/(2*n_samples)\n",
    "# Gradient descent\n",
    "optimizer = tf.train.GradientDescentOptimizer(learning_rate).minimize(cost)"
   ]
  },
  {
   "cell_type": "code",
   "execution_count": 148,
   "metadata": {
    "collapsed": false
   },
   "outputs": [],
   "source": [
    "# Initializing the variables\n",
    "init = tf.initialize_all_variables()"
   ]
  },
  {
   "cell_type": "code",
   "execution_count": 149,
   "metadata": {
    "collapsed": false
   },
   "outputs": [
    {
     "name": "stdout",
     "output_type": "stream",
     "text": [
      "Epoch:   50, cost=0.676100373 W=-0.9855477809906006 b=-0.6053057909011841\n",
      "Epoch:  100, cost=0.326752245 W=-0.8230841755867004 b=-0.2280891388654709\n",
      "Epoch:  150, cost=0.230715424 W=-0.7604296803474426 b=-0.021857166662812233\n",
      "Epoch:  200, cost=0.201783672 W=-0.748406171798706 b=0.09612257033586502\n",
      "Epoch:  250, cost=0.190783799 W=-0.7617677450180054 b=0.1683744341135025\n",
      "Epoch:  300, cost=0.184722021 W=-0.7875603437423706 b=0.21676364541053772\n",
      "Epoch:  350, cost=0.180157244 W=-0.8191452026367188 b=0.2525360584259033\n",
      "Epoch:  400, cost=0.176169813 W=-0.8531317114830017 b=0.28148287534713745\n",
      "Epoch:  450, cost=0.172506735 W=-0.887789249420166 b=0.3065890967845917\n",
      "Epoch:  500, cost=0.169090196 W=-0.922256350517273 b=0.3294004499912262\n",
      "Epoch:  550, cost=0.165890232 W=-0.9560998678207397 b=0.35072141885757446\n",
      "Epoch:  600, cost=0.162889436 W=-0.9891175627708435 b=0.37097451090812683\n",
      "Epoch:  650, cost=0.160074577 W=-1.0212198495864868 b=0.3903871178627014\n",
      "Epoch:  700, cost=0.157433718 W=-1.0523780584335327 b=0.409085214138031\n",
      "Epoch:  750, cost=0.154956251 W=-1.0825895071029663 b=0.42714187502861023\n",
      "Epoch:  800, cost=0.152632385 W=-1.111862063407898 b=0.4446040689945221\n",
      "Epoch:  850, cost=0.150452048 W=-1.1402276754379272 b=0.46150270104408264\n",
      "Epoch:  900, cost=0.148406759 W=-1.1677031517028809 b=0.4778640866279602\n",
      "Epoch:  950, cost=0.146488219 W=-1.1943150758743286 b=0.493704617023468\n",
      "Epoch: 1000, cost=0.144687876 W=-1.2200992107391357 b=0.5090484023094177\n",
      "Optimization Finished!\n",
      "Training cost= 0.144688 W= -1.2201 b= 0.509048 \n",
      "\n"
     ]
    },
    {
     "data": {
      "image/png": "[encoded data removed]",
      "text/plain": [
       "<matplotlib.figure.Figure at 0x1214addd8>"
      ]
     },
     "metadata": {},
     "output_type": "display_data"
    }
   ],
   "source": [
    "# Launch the graph\n",
    "# Fit all training data\n",
    "for epoch in range(training_epochs):\n",
    "    for (x, y) in zip(train_X, train_Y):\n",
    "        sess.run(optimizer, feed_dict={X: x, Y: y})\n",
    "\n",
    "    #Display logs per epoch step\n",
    "    if (epoch+1) % display_step == 0:\n",
    "        c = sess.run(cost, feed_dict={X: train_X, Y: train_Y})\n",
    "        print(\"Epoch: {:4d}, cost={:.9f} W={} b={}\".format(epoch+1, c, sess.run(W), sess.run(b)))\n",
    "\n",
    "print(\"Optimization Finished!\")\n",
    "training_cost = sess.run(cost, feed_dict={X: train_X, Y: train_Y})\n",
    "print(\"Training cost=\", training_cost, \"W=\", sess.run(W), \"b=\", sess.run(b), '\\n')\n",
    "\n",
    "#Graphic display\n",
    "plt.plot(train_X, train_Y, 'ro', label='Original data')\n",
    "plt.plot(train_X, sess.run(W) * train_X + sess.run(b), label='Fitted line')\n",
    "plt.legend()\n",
    "plt.show()"
   ]
  },
  {
   "cell_type": "code",
   "execution_count": null,
   "metadata": {
    "collapsed": true
   },
   "outputs": [],
   "source": []
  }
 ],
 "metadata": {
  "anaconda-cloud": {},
  "kernelspec": {
   "display_name": "Python [conda root]",
   "language": "python",
   "name": "conda-root-py"
  },
  "language_info": {
   "codemirror_mode": {
    "name": "ipython",
    "version": 3
   },
   "file_extension": ".py",
   "mimetype": "text/x-python",
   "name": "python",
   "nbconvert_exporter": "python",
   "pygments_lexer": "ipython3",
   "version": "3.5.2"
  }
 },
 "nbformat": 4,
 "nbformat_minor": 1
}
