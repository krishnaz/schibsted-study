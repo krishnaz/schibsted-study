{
 "cells": [
  {
   "cell_type": "markdown",
   "metadata": {
    "collapsed": true
   },
   "source": [
    "# Loading data"
   ]
  },
  {
   "cell_type": "code",
   "execution_count": null,
   "metadata": {
    "collapsed": false
   },
   "outputs": [],
   "source": [
    "! wget http://files.grouplens.org/datasets/movielens/ml-1m.zip\n",
    "! unzip ml-1m.zip -d .\n"
   ]
  },
  {
   "cell_type": "code",
   "execution_count": 1,
   "metadata": {
    "collapsed": true
   },
   "outputs": [],
   "source": [
    "import pandas as pd\n",
    "import numpy as np\n",
    "\n",
    "from matplotlib import pyplot as plt\n",
    "import seaborn as sns\n",
    "%matplotlib inline"
   ]
  },
  {
   "cell_type": "code",
   "execution_count": 2,
   "metadata": {
    "collapsed": false
   },
   "outputs": [],
   "source": [
    "ratings = (pd.read_csv('./ml-1m/ratings.dat', engine='python', sep='::', names=['user', 'item', 'rating', 'timestamp'])\n",
    "    .assign(timestamp=lambda df:pd.to_datetime(df.timestamp * 1000000000))\n",
    "          )\n",
    "\n",
    "movies = (pd.read_csv('./ml-1m/movies.dat', engine='python', sep='::', names=['item', 'title', 'genres'])\n",
    "          .assign(genres=lambda df:df.genres.str.split('|').values)\n",
    "          .set_index('item', drop=False))\n",
    "\n",
    "# See http://files.grouplens.org/datasets/movielens/ml-1m-README.txt for more details\n",
    "users = pd.read_csv('./ml-1m/users.dat', engine='python', sep='::', \n",
    "                    names=['user', 'gender', 'age', 'occupation', 'zipcode'])\\\n",
    "    .set_index('user', drop=False)"
   ]
  },
  {
   "cell_type": "markdown",
   "metadata": {},
   "source": [
    "## Train/test split\n",
    "\n",
    " * Ideally time based split\n",
    " * For the sake of simplicity, let's just sample ratings uniformly (breaking the time machine rule)"
   ]
  },
  {
   "cell_type": "code",
   "execution_count": 3,
   "metadata": {
    "collapsed": false
   },
   "outputs": [
    {
     "name": "stdout",
     "output_type": "stream",
     "text": [
      "(900209, 4)\n",
      "(100000, 4)\n"
     ]
    },
    {
     "data": {
      "text/html": [
       "<div>\n",
       "<table border=\"1\" class=\"dataframe\">\n",
       "  <thead>\n",
       "    <tr style=\"text-align: right;\">\n",
       "      <th></th>\n",
       "      <th>user</th>\n",
       "      <th>item</th>\n",
       "      <th>rating</th>\n",
       "      <th>timestamp</th>\n",
       "    </tr>\n",
       "  </thead>\n",
       "  <tbody>\n",
       "    <tr>\n",
       "      <th>324271</th>\n",
       "      <td>1922</td>\n",
       "      <td>2094</td>\n",
       "      <td>4</td>\n",
       "      <td>2000-11-20 04:34:27</td>\n",
       "    </tr>\n",
       "    <tr>\n",
       "      <th>818637</th>\n",
       "      <td>4918</td>\n",
       "      <td>2808</td>\n",
       "      <td>1</td>\n",
       "      <td>2000-07-08 19:29:05</td>\n",
       "    </tr>\n",
       "    <tr>\n",
       "      <th>148677</th>\n",
       "      <td>957</td>\n",
       "      <td>1660</td>\n",
       "      <td>4</td>\n",
       "      <td>2000-11-25 05:28:13</td>\n",
       "    </tr>\n",
       "    <tr>\n",
       "      <th>778790</th>\n",
       "      <td>4653</td>\n",
       "      <td>914</td>\n",
       "      <td>5</td>\n",
       "      <td>2000-11-29 21:22:43</td>\n",
       "    </tr>\n",
       "    <tr>\n",
       "      <th>525489</th>\n",
       "      <td>3245</td>\n",
       "      <td>3324</td>\n",
       "      <td>1</td>\n",
       "      <td>2000-09-07 06:33:31</td>\n",
       "    </tr>\n",
       "  </tbody>\n",
       "</table>\n",
       "</div>"
      ],
      "text/plain": [
       "        user  item  rating           timestamp\n",
       "324271  1922  2094       4 2000-11-20 04:34:27\n",
       "818637  4918  2808       1 2000-07-08 19:29:05\n",
       "148677   957  1660       4 2000-11-25 05:28:13\n",
       "778790  4653   914       5 2000-11-29 21:22:43\n",
       "525489  3245  3324       1 2000-09-07 06:33:31"
      ]
     },
     "execution_count": 3,
     "metadata": {},
     "output_type": "execute_result"
    }
   ],
   "source": [
    "test = ratings.sample(n=100000, random_state=0)\n",
    "train_ratings_mask = ~ratings.index.isin(test.index)\n",
    "train = ratings.loc[train_ratings_mask]\n",
    "\n",
    "test_user_items = test[['user', 'item']]\n",
    "\n",
    "print(train.shape)\n",
    "print(test.shape)\n",
    "\n",
    "test.head()"
   ]
  },
  {
   "cell_type": "markdown",
   "metadata": {},
   "source": [
    "## Biases + KNN"
   ]
  },
  {
   "cell_type": "code",
   "execution_count": 5,
   "metadata": {
    "collapsed": true
   },
   "outputs": [],
   "source": [
    "from scipy import sparse\n",
    "from sklearn.linear_model import LinearRegression\n",
    "\n",
    "# Re-using UserItemBiasModel from other notebook\n",
    "\n",
    "def to_coo(row_indexes, col_indexes, values, shape=None, dtype=np.float64):\n",
    "    return sparse.coo_matrix((values, (row_indexes, col_indexes)), shape=shape, dtype=dtype)\n",
    "\n",
    "def to_indicator_features(user_items):\n",
    "    n_samples, _ = user_items.shape\n",
    "    user_features = to_coo(\n",
    "        row_indexes=np.arange(n_samples), \n",
    "        col_indexes=user_items.user.values, \n",
    "        values=np.repeat(1, n_samples))\n",
    "\n",
    "    item_features = to_coo(\n",
    "        row_indexes=np.arange(n_samples), \n",
    "        col_indexes=user_items.item.values, \n",
    "        values=np.repeat(1, n_samples))\n",
    "\n",
    "    return sparse.hstack([user_features, item_features])\n",
    "\n",
    "\n",
    "class UserItemBiasModel:\n",
    "    \n",
    "    def __init__(self, fitted_model):\n",
    "        self.fitted_model = fitted_model\n",
    "\n",
    "    @classmethod\n",
    "    def train_model(cls, train):\n",
    "        \"\"\" Factory method\n",
    "        \"\"\"\n",
    "        m = LinearRegression(fit_intercept=True)\n",
    "        indicator_features_matrix = to_indicator_features(user_items=train)\n",
    "        m.fit(X=indicator_features_matrix, y=train.rating)\n",
    "        return cls(m)\n",
    "    \n",
    "    def predict(self, user_items, output_column='rating'):\n",
    "        input_features = to_indicator_features(user_items)\n",
    "        predicted_ratings = self.fitted_model.predict(X=input_features)\n",
    "        return user_items.assign(**{output_column: lambda _: predicted_ratings})"
   ]
  },
  {
   "cell_type": "code",
   "execution_count": 6,
   "metadata": {
    "collapsed": false
   },
   "outputs": [
    {
     "name": "stdout",
     "output_type": "stream",
     "text": [
      "<6041x3953 sparse matrix of type '<class 'numpy.float64'>'\n",
      "\twith 900209 stored elements in Compressed Sparse Row format>\n"
     ]
    },
    {
     "data": {
      "text/html": [
       "<div>\n",
       "<table border=\"1\" class=\"dataframe\">\n",
       "  <thead>\n",
       "    <tr style=\"text-align: right;\">\n",
       "      <th></th>\n",
       "      <th>user</th>\n",
       "      <th>item</th>\n",
       "      <th>rating</th>\n",
       "      <th>timestamp</th>\n",
       "      <th>predicted</th>\n",
       "      <th>debiased</th>\n",
       "    </tr>\n",
       "  </thead>\n",
       "  <tbody>\n",
       "    <tr>\n",
       "      <th>0</th>\n",
       "      <td>1</td>\n",
       "      <td>1193</td>\n",
       "      <td>5</td>\n",
       "      <td>2000-12-31 22:12:40</td>\n",
       "      <td>4.655787</td>\n",
       "      <td>0.344213</td>\n",
       "    </tr>\n",
       "    <tr>\n",
       "      <th>1</th>\n",
       "      <td>1</td>\n",
       "      <td>661</td>\n",
       "      <td>3</td>\n",
       "      <td>2000-12-31 22:35:09</td>\n",
       "      <td>3.693975</td>\n",
       "      <td>-0.693975</td>\n",
       "    </tr>\n",
       "    <tr>\n",
       "      <th>2</th>\n",
       "      <td>1</td>\n",
       "      <td>914</td>\n",
       "      <td>3</td>\n",
       "      <td>2000-12-31 22:32:48</td>\n",
       "      <td>4.398135</td>\n",
       "      <td>-1.398135</td>\n",
       "    </tr>\n",
       "    <tr>\n",
       "      <th>3</th>\n",
       "      <td>1</td>\n",
       "      <td>3408</td>\n",
       "      <td>4</td>\n",
       "      <td>2000-12-31 22:04:35</td>\n",
       "      <td>4.080587</td>\n",
       "      <td>-0.080587</td>\n",
       "    </tr>\n",
       "    <tr>\n",
       "      <th>4</th>\n",
       "      <td>1</td>\n",
       "      <td>2355</td>\n",
       "      <td>5</td>\n",
       "      <td>2001-01-06 23:38:11</td>\n",
       "      <td>4.056828</td>\n",
       "      <td>0.943172</td>\n",
       "    </tr>\n",
       "  </tbody>\n",
       "</table>\n",
       "</div>"
      ],
      "text/plain": [
       "   user  item  rating           timestamp  predicted  debiased\n",
       "0     1  1193       5 2000-12-31 22:12:40   4.655787  0.344213\n",
       "1     1   661       3 2000-12-31 22:35:09   3.693975 -0.693975\n",
       "2     1   914       3 2000-12-31 22:32:48   4.398135 -1.398135\n",
       "3     1  3408       4 2000-12-31 22:04:35   4.080587 -0.080587\n",
       "4     1  2355       5 2001-01-06 23:38:11   4.056828  0.943172"
      ]
     },
     "execution_count": 6,
     "metadata": {},
     "output_type": "execute_result"
    }
   ],
   "source": [
    "# Predicting for residuals, that is de-biased ratings \n",
    "biases_model = UserItemBiasModel.train_model(train)\n",
    "debiased_train = (biases_model.predict(train, output_column='predicted')\n",
    "    .assign(debiased=lambda df: df.rating - df.predicted))\n",
    "\n",
    "train_matrix = to_coo(\n",
    "    row_indexes=debiased_train.user,\n",
    "    col_indexes=debiased_train.item,\n",
    "    values=debiased_train.debiased\n",
    "    ).tocsr()\n",
    "\n",
    "print(train_matrix.__repr__())\n",
    "debiased_train.head()"
   ]
  },
  {
   "cell_type": "markdown",
   "metadata": {},
   "source": [
    "## Finding similar users/items to extrapolate ratings\n",
    "\n",
    "Using distances between users according to how they rated items (and vice-versa). https://en.wikipedia.org/wiki/Cosine_similarity is often used."
   ]
  },
  {
   "cell_type": "code",
   "execution_count": 16,
   "metadata": {
    "collapsed": false
   },
   "outputs": [
    {
     "data": {
      "text/plain": [
       "array([[ 0.01528445]])"
      ]
     },
     "execution_count": 16,
     "metadata": {},
     "output_type": "execute_result"
    }
   ],
   "source": [
    "user1 = train_matrix[1, :].toarray()\n",
    "user2 = train_matrix[2, :].toarray()\n",
    "\n",
    "cosine_sim = np.inner(user1, user2) / (np.linalg.norm(user1) * np.linalg.norm(user2))\n",
    "cosine_sim"
   ]
  },
  {
   "cell_type": "code",
   "execution_count": 17,
   "metadata": {
    "collapsed": false
   },
   "outputs": [
    {
     "data": {
      "text/plain": [
       "<3953x3953 sparse matrix of type '<class 'numpy.float64'>'\n",
       "\twith 197650 stored elements in Compressed Sparse Column format>"
      ]
     },
     "execution_count": 17,
     "metadata": {},
     "output_type": "execute_result"
    }
   ],
   "source": [
    "from sklearn.metrics.pairwise import cosine_similarity\n",
    "from sklearn.neighbors import kneighbors_graph, NearestNeighbors\n",
    "from sklearn.preprocessing import normalize\n",
    "\n",
    "# multiple approaches possible...\n",
    "user_distances = cosine_similarity(X=train_matrix, dense_output=False)\n",
    "user_normalized_distances = normalize(user_distances, norm='l1', axis=1)\n",
    "\n",
    "item_distances = cosine_similarity(X=train_matrix.T, dense_output=False)\n",
    "item_normalized_distances = normalize(item_distances, norm='l1', axis=0)\n",
    "\n",
    "# Just keeping the top n items for every item\n",
    "n_nearest = 50\n",
    "item_nn = NearestNeighbors(algorithm='brute', n_neighbors=n_nearest, metric='cosine').fit(train_matrix.T)\n",
    "item_to_nn_items = item_nn.kneighbors_graph()\n",
    "\n",
    "# Columns sum to 1\n",
    "normalized_item_to_nn_items = normalize(item_to_nn_items, norm='l1', axis=0)\n",
    "normalized_item_to_nn_items"
   ]
  },
  {
   "cell_type": "code",
   "execution_count": 21,
   "metadata": {
    "collapsed": false
   },
   "outputs": [
    {
     "data": {
      "text/plain": [
       "(6041, 3953)"
      ]
     },
     "execution_count": 21,
     "metadata": {},
     "output_type": "execute_result"
    }
   ],
   "source": [
    "# R_hat = R * S\n",
    "all_predicted_ratings = np.dot(train_matrix, normalized_item_to_nn_items).toarray()\n",
    "\n",
    "all_predicted_ratings.shape"
   ]
  },
  {
   "cell_type": "markdown",
   "metadata": {},
   "source": [
    "## Evaluation"
   ]
  },
  {
   "cell_type": "code",
   "execution_count": 18,
   "metadata": {
    "collapsed": false
   },
   "outputs": [],
   "source": [
    "def rmse(predicted_ratings, ground_truth_ratings=test):\n",
    "    # predicted rating will be nan if no prediction => returning nan as a result if not all test ratings provided\n",
    "    joined_ratings = pd.merge(\n",
    "        ground_truth_ratings,\n",
    "        predicted_ratings, \n",
    "        on=['user', 'item'], how='left', suffixes=['_ground_truth', '_predicted'])\n",
    "\n",
    "    squared_errors = np.power(joined_ratings.rating_ground_truth - joined_ratings.rating_predicted, 2)\n",
    "    \n",
    "    return np.sqrt(np.average(squared_errors))"
   ]
  },
  {
   "cell_type": "code",
   "execution_count": 19,
   "metadata": {
    "collapsed": false
   },
   "outputs": [
    {
     "name": "stdout",
     "output_type": "stream",
     "text": [
      "0.907260048537\n"
     ]
    }
   ],
   "source": [
    "bias_predicted_ratings = biases_model.predict(test_user_items)\n",
    "print(rmse(bias_predicted_ratings))"
   ]
  },
  {
   "cell_type": "code",
   "execution_count": 22,
   "metadata": {
    "collapsed": false
   },
   "outputs": [
    {
     "name": "stdout",
     "output_type": "stream",
     "text": [
      "0.879834784491\n"
     ]
    },
    {
     "data": {
      "text/html": [
       "<div>\n",
       "<table border=\"1\" class=\"dataframe\">\n",
       "  <thead>\n",
       "    <tr style=\"text-align: right;\">\n",
       "      <th></th>\n",
       "      <th>item</th>\n",
       "      <th>rating</th>\n",
       "      <th>user</th>\n",
       "    </tr>\n",
       "  </thead>\n",
       "  <tbody>\n",
       "    <tr>\n",
       "      <th>324271</th>\n",
       "      <td>2094</td>\n",
       "      <td>2.865728</td>\n",
       "      <td>1922</td>\n",
       "    </tr>\n",
       "    <tr>\n",
       "      <th>818637</th>\n",
       "      <td>2808</td>\n",
       "      <td>2.193225</td>\n",
       "      <td>4918</td>\n",
       "    </tr>\n",
       "    <tr>\n",
       "      <th>148677</th>\n",
       "      <td>1660</td>\n",
       "      <td>4.021869</td>\n",
       "      <td>957</td>\n",
       "    </tr>\n",
       "    <tr>\n",
       "      <th>778790</th>\n",
       "      <td>914</td>\n",
       "      <td>3.904955</td>\n",
       "      <td>4653</td>\n",
       "    </tr>\n",
       "    <tr>\n",
       "      <th>525489</th>\n",
       "      <td>3324</td>\n",
       "      <td>2.303556</td>\n",
       "      <td>3245</td>\n",
       "    </tr>\n",
       "  </tbody>\n",
       "</table>\n",
       "</div>"
      ],
      "text/plain": [
       "        item    rating  user\n",
       "324271  2094  2.865728  1922\n",
       "818637  2808  2.193225  4918\n",
       "148677  1660  4.021869   957\n",
       "778790   914  3.904955  4653\n",
       "525489  3324  2.303556  3245"
      ]
     },
     "execution_count": 22,
     "metadata": {},
     "output_type": "execute_result"
    }
   ],
   "source": [
    "predicted_ratings = pd.DataFrame.from_dict(\n",
    "    {'user': test_user_items.user,\n",
    "     'item': test_user_items.item,\n",
    "     'rating': bias_predicted_ratings.rating + all_predicted_ratings[test_user_items.user, test_user_items.item]\n",
    "    })\n",
    "\n",
    "print(rmse(predicted_ratings))\n",
    "predicted_ratings.head()"
   ]
  },
  {
   "cell_type": "code",
   "execution_count": 24,
   "metadata": {
    "collapsed": true
   },
   "outputs": [],
   "source": [
    "def plot_predicted_distribution(predicted_ratings, ground_truth_ratings=test):\n",
    "    bins = np.linspace(-.5, 7.5, 9)\n",
    "    plt.hist(predicted_ratings.rating, \n",
    "             bins=bins, normed=True, histtype='step', lw=2, label='predicted')\n",
    "    plt.hist(ground_truth_ratings.rating, \n",
    "             bins=bins, normed=True, histtype='step', lw=2, color='grey', label='ground truth')\n",
    "    plt.ylabel('rating proportion')\n",
    "    plt.xlabel('rating value')\n",
    "    plt.xlim([0, 6]); plt.ylim([0, 1.05])\n",
    "    plt.xticks(range(1, 6))\n",
    "    plt.legend(loc=2)"
   ]
  },
  {
   "cell_type": "code",
   "execution_count": 25,
   "metadata": {
    "collapsed": false
   },
   "outputs": [
    {
     "data": {
      "image/png": "[encoded data removed]",
      "text/plain": [
       "<matplotlib.figure.Figure at 0x110d2ba58>"
      ]
     },
     "metadata": {},
     "output_type": "display_data"
    }
   ],
   "source": [
    "plot_predicted_distribution(predicted_ratings)"
   ]
  },
  {
   "cell_type": "code",
   "execution_count": null,
   "metadata": {
    "collapsed": true
   },
   "outputs": [],
   "source": []
  }
 ],
 "metadata": {
  "anaconda-cloud": {},
  "kernelspec": {
   "display_name": "Python [default]",
   "language": "python",
   "name": "python3"
  },
  "language_info": {
   "codemirror_mode": {
    "name": "ipython",
    "version": 3
   },
   "file_extension": ".py",
   "mimetype": "text/x-python",
   "name": "python",
   "nbconvert_exporter": "python",
   "pygments_lexer": "ipython3",
   "version": "3.5.2"
  }
 },
 "nbformat": 4,
 "nbformat_minor": 0
}
