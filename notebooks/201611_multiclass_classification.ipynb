{
 "cells": [
  {
   "cell_type": "code",
   "execution_count": 2,
   "metadata": {
    "collapsed": false
   },
   "outputs": [],
   "source": [
    "import tensorflow as tf\n",
    "import numpy as np\n",
    "import matplotlib.pyplot as plt\n",
    "import pandas as pd\n",
    "\n",
    "tf.reset_default_graph()\n",
    "\n",
    "%matplotlib inline\n",
    "sess = tf.InteractiveSession()"
   ]
  },
  {
   "cell_type": "code",
   "execution_count": 18,
   "metadata": {
    "collapsed": false
   },
   "outputs": [
    {
     "name": "stdout",
     "output_type": "stream",
     "text": [
      "--2016-12-02 11:41:57--  http://archive.ics.uci.edu/ml/machine-learning-databases/iris/iris.data\n",
      "Resolving archive.ics.uci.edu... 128.195.10.249\n",
      "Connecting to archive.ics.uci.edu|128.195.10.249|:80... connected.\n",
      "HTTP request sent, awaiting response... 200 OK\n",
      "Length: 4551 (4.4K) [text/plain]\n",
      "Saving to: 'iris.data'\n",
      "\n",
      "iris.data           100%[=====================>]   4.44K  --.-KB/s   in 0s     \n",
      "\n",
      "2016-12-02 11:41:58 (94.4 MB/s) - 'iris.data' saved [4551/4551]\n",
      "\n"
     ]
    }
   ],
   "source": [
    "! wget http://archive.ics.uci.edu/ml/machine-learning-databases/iris/iris.data"
   ]
  },
  {
   "cell_type": "code",
   "execution_count": 19,
   "metadata": {
    "collapsed": false
   },
   "outputs": [
    {
     "data": {
      "text/plain": [
       "array([[ 0.49361515,  0.84896904,  0.77732914],\n",
       "       [ 0.71432765,  0.84064609,  0.88124988],\n",
       "       [ 0.40656273,  0.18140192,  0.77720301],\n",
       "       [ 0.61941587,  0.62690732,  0.33930245],\n",
       "       [ 0.35189826,  0.77599836,  0.21989444],\n",
       "       [ 0.70819756,  0.48117524,  0.81691833],\n",
       "       [ 0.14806668,  0.01072016,  0.91816271],\n",
       "       [ 0.86776951,  0.50700786,  0.51041501],\n",
       "       [ 0.40085747,  0.75255207,  0.06677052],\n",
       "       [ 0.11104268,  0.388782  ,  0.60232669]])"
      ]
     },
     "execution_count": 19,
     "metadata": {},
     "output_type": "execute_result"
    }
   ],
   "source": [
    "D = 3\n",
    "C = 3\n",
    "n_samples = 20\n",
    "\n",
    "train_X = np.random.uniform(low=0, high=1, size=(n_samples, D))\n",
    "train_Y = np.random.choice([0,1,2], size=(n_samples,1))\n",
    "\n",
    "train_Y\n",
    "train_X[:10, :]"
   ]
  },
  {
   "cell_type": "code",
   "execution_count": 20,
   "metadata": {
    "collapsed": false
   },
   "outputs": [
    {
     "data": {
      "text/plain": [
       "array([[0],\n",
       "       [0],\n",
       "       [2],\n",
       "       [2],\n",
       "       [1]])"
      ]
     },
     "execution_count": 20,
     "metadata": {},
     "output_type": "execute_result"
    }
   ],
   "source": [
    "train_Y[:5]"
   ]
  },
  {
   "cell_type": "code",
   "execution_count": 21,
   "metadata": {
    "collapsed": false
   },
   "outputs": [],
   "source": [
    "# number of input features + 1 constant term\n",
    "X = tf.placeholder(\"float\", shape = [None, D], name= \"X\")\n",
    "Y = tf.placeholder(\"int32\", shape = [None], name = \"Y\")\n",
    "\n",
    "W = tf.Variable(tf.random_normal(shape=(D, C)))\n",
    "sess.run(W.initializer)\n",
    "\n",
    "scores = tf.matmul(X, W)\n",
    "\n",
    "# Mean squared error\n",
    "probabilites = tf.nn.softmax(scores)"
   ]
  },
  {
   "cell_type": "code",
   "execution_count": 22,
   "metadata": {
    "collapsed": false
   },
   "outputs": [
    {
     "data": {
      "text/plain": [
       "<tf.Tensor 'Softmax_1:0' shape=(?, 3) dtype=float32>"
      ]
     },
     "execution_count": 22,
     "metadata": {},
     "output_type": "execute_result"
    }
   ],
   "source": [
    "probabilites"
   ]
  },
  {
   "cell_type": "code",
   "execution_count": 23,
   "metadata": {
    "collapsed": false
   },
   "outputs": [
    {
     "data": {
      "text/plain": [
       "array([[ 0.32040048,  0.35170019,  0.32789934],\n",
       "       [ 0.33798066,  0.35711661,  0.30490264],\n",
       "       [ 0.39574265,  0.25489682,  0.3493605 ],\n",
       "       [ 0.3057296 ,  0.43250039,  0.26176995],\n",
       "       [ 0.27185485,  0.44524518,  0.28290001],\n",
       "       [ 0.37628233,  0.31942514,  0.30429259],\n",
       "       [ 0.40720093,  0.18929537,  0.40350363],\n",
       "       [ 0.34374565,  0.40807787,  0.24817643],\n",
       "       [ 0.25916651,  0.4840624 ,  0.25677112],\n",
       "       [ 0.34271282,  0.27852061,  0.3787666 ],\n",
       "       [ 0.36702275,  0.38296926,  0.25000799],\n",
       "       [ 0.30663255,  0.31266662,  0.3807008 ],\n",
       "       [ 0.32715508,  0.30206785,  0.3707771 ],\n",
       "       [ 0.41756135,  0.29464519,  0.28779346],\n",
       "       [ 0.22948129,  0.47844538,  0.29207328],\n",
       "       [ 0.35852402,  0.23727727,  0.40419874],\n",
       "       [ 0.34597892,  0.39480054,  0.25922057],\n",
       "       [ 0.38289869,  0.31334698,  0.30375433],\n",
       "       [ 0.2838017 ,  0.47192523,  0.24427302],\n",
       "       [ 0.24834383,  0.4991737 ,  0.25248241]], dtype=float32)"
      ]
     },
     "execution_count": 23,
     "metadata": {},
     "output_type": "execute_result"
    }
   ],
   "source": [
    "sess.run(probabilites, feed_dict={X: train_X})"
   ]
  },
  {
   "cell_type": "code",
   "execution_count": 24,
   "metadata": {
    "collapsed": false
   },
   "outputs": [
    {
     "data": {
      "text/plain": [
       "<tf.Tensor 'SparseSoftmaxCrossEntropyWithLogits_1/SparseSoftmaxCrossEntropyWithLogits:0' shape=(?,) dtype=float32>"
      ]
     },
     "execution_count": 24,
     "metadata": {},
     "output_type": "execute_result"
    }
   ],
   "source": [
    "costs = tf.nn.sparse_softmax_cross_entropy_with_logits(\n",
    "logits = probabilites,\n",
    "    labels=Y\n",
    ")\n",
    "costs"
   ]
  },
  {
   "cell_type": "code",
   "execution_count": 25,
   "metadata": {
    "collapsed": false
   },
   "outputs": [
    {
     "data": {
      "text/plain": [
       "array([ 1.11163437,  1.09419703,  1.08428872,  1.17282605,  0.98989689], dtype=float32)"
      ]
     },
     "execution_count": 25,
     "metadata": {},
     "output_type": "execute_result"
    }
   ],
   "source": [
    "sess.run(costs, feed_dict={X: train_X[:5, :], Y: train_Y[:5, 0]})"
   ]
  },
  {
   "cell_type": "code",
   "execution_count": 26,
   "metadata": {
    "collapsed": false
   },
   "outputs": [
    {
     "data": {
      "text/plain": [
       "1.0905687"
      ]
     },
     "execution_count": 26,
     "metadata": {},
     "output_type": "execute_result"
    }
   ],
   "source": [
    "sess.run(tf.reduce_mean(costs), feed_dict={X: train_X[:5, :], Y: train_Y[:5, 0]})"
   ]
  },
  {
   "cell_type": "code",
   "execution_count": 33,
   "metadata": {
    "collapsed": false
   },
   "outputs": [
    {
     "name": "stdout",
     "output_type": "stream",
     "text": [
      "Epoch:    0, cost=0.6931 W=[ 0.05677099  0.06550214  0.06990841]\n",
      "Epoch:   10, cost=0.2109 W=[ 0.50919861  0.5927816   0.64077812]\n",
      "Epoch:   20, cost=-0.0332 W=[ 0.82724822  0.96905297  1.06027532]\n",
      "Epoch:   30, cost=-0.1860 W=[ 1.0770396   1.26624274  1.40077007]\n",
      "Epoch:   40, cost=-0.2970 W=[ 1.28894889  1.51812315  1.6961664 ]\n",
      "Epoch:   50, cost=-0.3856 W=[ 1.47782433  1.74163795  1.96343935]\n",
      "Epoch:   60, cost=-0.4608 W=[ 1.6517092   1.94619989  2.21200728]\n",
      "Epoch:   70, cost=-0.5273 W=[ 1.81534553  2.13749266  2.44754958]\n",
      "Epoch:   80, cost=-0.5881 W=[ 1.97171688  2.31917167  2.67371464]\n",
      "Epoch:   90, cost=-0.6446 W=[ 2.12279582  2.49370432  2.89295959]\n"
     ]
    }
   ],
   "source": [
    "D = 3\n",
    "X = tf.placeholder(\"float\", shape = [None, D])\n",
    "Y = tf.placeholder(\"float\", shape = [None, 1])\n",
    "\n",
    "W = tf.Variable(tf.zeros(shape=(D, 1)))\n",
    "sess.run(W.initializer)\n",
    "\n",
    "logits = tf.matmul(X, W)\n",
    "probabilities = tf.sigmoid(logits)\n",
    "logistic_loss = -tf.reduce_mean(Y * tf.log(probabilities) + (1 - Y) * tf.log(1 - probabilities))\n",
    "\n",
    "# Parameters\n",
    "learning_rate = .18\n",
    "n_epochs = 100\n",
    "display_step = 10\n",
    "\n",
    "optimizer = tf.train.GradientDescentOptimizer(learning_rate).minimize(logistic_loss)\n",
    "init = tf.initialize_all_variables()\n",
    "\n",
    "fitted_ws = np.zeros((n_epochs, D))\n",
    "\n",
    "for epoch in range(n_epochs):\n",
    "\n",
    "    _, fitted_w, loss_value, predicted_probs = sess.run(\n",
    "        fetches=[optimizer, W, logistic_loss, probabilities],\n",
    "        feed_dict={X: train_X, Y: train_Y})\n",
    "    #fitted_ws[epoch, :] = fitted_w.ravel()\n",
    "    if (epoch) % display_step == 0:\n",
    "        print(\"Epoch: {:4d}, cost={:.4f} W={}\".format(epoch, loss_value, fitted_w.ravel()))"
   ]
  },
  {
   "cell_type": "code",
   "execution_count": 34,
   "metadata": {
    "collapsed": false
   },
   "outputs": [
    {
     "name": "stdout",
     "output_type": "stream",
     "text": [
      "('n_correct_samples / n_samples =', 60, 20)\n"
     ]
    },
    {
     "name": "stderr",
     "output_type": "stream",
     "text": [
      "/opt/miniconda2/lib/python2.7/site-packages/ipykernel/__main__.py:14: VisibleDeprecationWarning: using a boolean instead of an integer will result in an error in the future\n"
     ]
    },
    {
     "data": {
      "image/png": "[encoded data removed]",
      "text/plain": [
       "<matplotlib.figure.Figure at 0x118fe7c90>"
      ]
     },
     "metadata": {},
     "output_type": "display_data"
    }
   ],
   "source": [
    "\n",
    "\n",
    "def plot_result(predicted_classes=None):\n",
    "\n",
    "    if predicted_classes is None:\n",
    "        plt.plot(train_X[:, 1], train_X[:, 2], 'o', ms=8, alpha=.3, color='grey');\n",
    "    else:\n",
    "        for c in range(C):\n",
    "            mask = predicted_classes == c\n",
    "            plt.plot(train_X[mask, 1], train_X[mask, 2], 'o', ms=8, alpha=.3, mec='none')\n",
    "    plt.gca().set_prop_cycle(None)\n",
    "    for c in range(C):\n",
    "        mask = c in [0,1,2]    \n",
    "        plt.plot(train_X[mask, 1], train_X[mask, 2], 'o', ms=4, mec='none', label='$y = {}$'.format(c));\n",
    "    plt.legend()\n",
    "\n",
    "predicted_probs = sess.run(probabilities, feed_dict={X: train_X})\n",
    "predicted_classes = predicted_probs.argmax(axis=1)\n",
    "# classify everyone to the same class :/\n",
    "n_correct_samples = np.sum(predicted_classes == train_Y)\n",
    "print('n_correct_samples / n_samples =', n_correct_samples, n_samples)\n",
    "\n",
    "plot_result(predicted_classes)"
   ]
  },
  {
   "cell_type": "code",
   "execution_count": null,
   "metadata": {
    "collapsed": true
   },
   "outputs": [],
   "source": []
  }
 ],
 "metadata": {
  "anaconda-cloud": {},
  "kernelspec": {
   "display_name": "Python [conda root]",
   "language": "python",
   "name": "conda-root-py"
  },
  "language_info": {
   "codemirror_mode": {
    "name": "ipython",
    "version": 2
   },
   "file_extension": ".py",
   "mimetype": "text/x-python",
   "name": "python",
   "nbconvert_exporter": "python",
   "pygments_lexer": "ipython2",
   "version": "2.7.12"
  }
 },
 "nbformat": 4,
 "nbformat_minor": 1
}
