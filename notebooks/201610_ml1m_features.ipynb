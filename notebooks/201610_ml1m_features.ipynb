{
 "cells": [
  {
   "cell_type": "markdown",
   "metadata": {},
   "source": [
    "# Loading data"
   ]
  },
  {
   "cell_type": "code",
   "execution_count": null,
   "metadata": {
    "collapsed": false
   },
   "outputs": [],
   "source": [
    "! wget http://files.grouplens.org/datasets/movielens/ml-1m.zip\n",
    "! unzip ml-1m.zip -d ."
   ]
  },
  {
   "cell_type": "code",
   "execution_count": 1,
   "metadata": {
    "collapsed": true
   },
   "outputs": [],
   "source": [
    "import pandas as pd\n",
    "import numpy as np"
   ]
  },
  {
   "cell_type": "code",
   "execution_count": 2,
   "metadata": {
    "collapsed": false
   },
   "outputs": [],
   "source": [
    "ratings = (pd.read_csv('./ml-1m/ratings.dat', engine='python', sep='::', names=['user', 'item', 'rating', 'timestamp'])\n",
    "    .assign(timestamp=lambda df:pd.to_datetime(df.timestamp * 1000000000))\n",
    "          )\n",
    "\n",
    "movies = (pd.read_csv('./ml-1m/movies.dat', engine='python', sep='::', names=['item', 'title', 'genres'])\n",
    "          .assign(genres=lambda df:df.genres.str.split('|').values)\n",
    "          .set_index('item', drop=False))\n",
    "\n",
    "# See http://files.grouplens.org/datasets/movielens/ml-1m-README.txt for more details\n",
    "users = pd.read_csv('./ml-1m/users.dat', engine='python', sep='::', \n",
    "                    names=['user', 'gender', 'age', 'occupation', 'zipcode'])\\\n",
    "    .set_index('user', drop=False)"
   ]
  },
  {
   "cell_type": "markdown",
   "metadata": {},
   "source": [
    "## User-item ratings to features"
   ]
  },
  {
   "cell_type": "code",
   "execution_count": 3,
   "metadata": {
    "collapsed": false
   },
   "outputs": [
    {
     "name": "stdout",
     "output_type": "stream",
     "text": [
      "(24160, 2)\n"
     ]
    },
    {
     "data": {
      "text/html": [
       "<div>\n",
       "<table border=\"1\" class=\"dataframe\">\n",
       "  <thead>\n",
       "    <tr style=\"text-align: right;\">\n",
       "      <th></th>\n",
       "      <th>user</th>\n",
       "      <th>feature</th>\n",
       "    </tr>\n",
       "  </thead>\n",
       "  <tbody>\n",
       "    <tr>\n",
       "      <th>0</th>\n",
       "      <td>1</td>\n",
       "      <td>user=1</td>\n",
       "    </tr>\n",
       "    <tr>\n",
       "      <th>1</th>\n",
       "      <td>1</td>\n",
       "      <td>gender=F</td>\n",
       "    </tr>\n",
       "    <tr>\n",
       "      <th>2</th>\n",
       "      <td>1</td>\n",
       "      <td>occupation=10</td>\n",
       "    </tr>\n",
       "    <tr>\n",
       "      <th>3</th>\n",
       "      <td>1</td>\n",
       "      <td>zipcode=48067</td>\n",
       "    </tr>\n",
       "    <tr>\n",
       "      <th>4</th>\n",
       "      <td>2</td>\n",
       "      <td>user=2</td>\n",
       "    </tr>\n",
       "    <tr>\n",
       "      <th>5</th>\n",
       "      <td>2</td>\n",
       "      <td>gender=M</td>\n",
       "    </tr>\n",
       "    <tr>\n",
       "      <th>6</th>\n",
       "      <td>2</td>\n",
       "      <td>occupation=16</td>\n",
       "    </tr>\n",
       "    <tr>\n",
       "      <th>7</th>\n",
       "      <td>2</td>\n",
       "      <td>zipcode=70072</td>\n",
       "    </tr>\n",
       "    <tr>\n",
       "      <th>8</th>\n",
       "      <td>3</td>\n",
       "      <td>user=3</td>\n",
       "    </tr>\n",
       "    <tr>\n",
       "      <th>9</th>\n",
       "      <td>3</td>\n",
       "      <td>gender=M</td>\n",
       "    </tr>\n",
       "  </tbody>\n",
       "</table>\n",
       "</div>"
      ],
      "text/plain": [
       "   user        feature\n",
       "0     1         user=1\n",
       "1     1       gender=F\n",
       "2     1  occupation=10\n",
       "3     1  zipcode=48067\n",
       "4     2         user=2\n",
       "5     2       gender=M\n",
       "6     2  occupation=16\n",
       "7     2  zipcode=70072\n",
       "8     3         user=3\n",
       "9     3       gender=M"
      ]
     },
     "execution_count": 3,
     "metadata": {},
     "output_type": "execute_result"
    }
   ],
   "source": [
    "from sklearn import preprocessing\n",
    "# flatmap equivalent\n",
    "from itertools import chain\n",
    "\n",
    "def columns_to_key_feature_pairs(row, key_column, feature_columns):\n",
    "    return [(row[key_column], '{}={}'.format(column, row[column])) for column in feature_columns]\n",
    "\n",
    "def array_column_to_key_feature_pairs(row, key_column, array_column):\n",
    "    return [(row[key_column], u'{}={}'.format(array_column, value)) for value in row[array_column]]\n",
    "\n",
    "feature_columns=['user', 'gender', 'occupation', 'zipcode']\n",
    "\n",
    "user_features = pd.DataFrame.from_records(\n",
    "    data=chain.from_iterable(\n",
    "        columns_to_key_feature_pairs(row, key_column='user', feature_columns=feature_columns)\n",
    "        for _, row in users.iterrows()),\n",
    "    columns=['user', 'feature'])\n",
    "\n",
    "print(user_features.shape)\n",
    "user_features.head(10)"
   ]
  },
  {
   "cell_type": "code",
   "execution_count": 4,
   "metadata": {
    "collapsed": false
   },
   "outputs": [
    {
     "name": "stdout",
     "output_type": "stream",
     "text": [
      "(10291, 2)\n"
     ]
    },
    {
     "data": {
      "text/html": [
       "<div>\n",
       "<table border=\"1\" class=\"dataframe\">\n",
       "  <thead>\n",
       "    <tr style=\"text-align: right;\">\n",
       "      <th></th>\n",
       "      <th>item</th>\n",
       "      <th>feature</th>\n",
       "    </tr>\n",
       "  </thead>\n",
       "  <tbody>\n",
       "    <tr>\n",
       "      <th>0</th>\n",
       "      <td>1</td>\n",
       "      <td>item=1</td>\n",
       "    </tr>\n",
       "    <tr>\n",
       "      <th>1</th>\n",
       "      <td>1</td>\n",
       "      <td>genres=Animation</td>\n",
       "    </tr>\n",
       "    <tr>\n",
       "      <th>2</th>\n",
       "      <td>1</td>\n",
       "      <td>genres=Children's</td>\n",
       "    </tr>\n",
       "    <tr>\n",
       "      <th>3</th>\n",
       "      <td>1</td>\n",
       "      <td>genres=Comedy</td>\n",
       "    </tr>\n",
       "    <tr>\n",
       "      <th>4</th>\n",
       "      <td>2</td>\n",
       "      <td>item=2</td>\n",
       "    </tr>\n",
       "  </tbody>\n",
       "</table>\n",
       "</div>"
      ],
      "text/plain": [
       "   item            feature\n",
       "0     1             item=1\n",
       "1     1   genres=Animation\n",
       "2     1  genres=Children's\n",
       "3     1      genres=Comedy\n",
       "4     2             item=2"
      ]
     },
     "execution_count": 4,
     "metadata": {},
     "output_type": "execute_result"
    }
   ],
   "source": [
    "item_features = pd.DataFrame.from_records(\n",
    "    data=chain.from_iterable(\n",
    "        columns_to_key_feature_pairs(row, key_column='item', feature_columns=['item']) +\\\n",
    "            array_column_to_key_feature_pairs(row, key_column='item', array_column='genres')\n",
    "        for _, row in movies.iterrows()), columns=['item', 'feature'])\n",
    "\n",
    "print(item_features.shape)\n",
    "item_features.head()"
   ]
  },
  {
   "cell_type": "code",
   "execution_count": 5,
   "metadata": {
    "collapsed": false
   },
   "outputs": [],
   "source": [
    "from sklearn import preprocessing\n",
    "\n",
    "features_encoder = preprocessing.LabelEncoder()\n",
    "features_encoder.fit(np.concatenate([user_features.feature.values, item_features.feature.values]))\n",
    "\n",
    "item_features = item_features.assign(encoded_feature=lambda df: features_encoder.transform(df.feature))\n",
    "user_features = user_features.assign(encoded_feature=lambda df: features_encoder.transform(df.feature))"
   ]
  },
  {
   "cell_type": "code",
   "execution_count": 6,
   "metadata": {
    "collapsed": false
   },
   "outputs": [
    {
     "data": {
      "text/html": [
       "<div>\n",
       "<table border=\"1\" class=\"dataframe\">\n",
       "  <thead>\n",
       "    <tr style=\"text-align: right;\">\n",
       "      <th></th>\n",
       "      <th>user</th>\n",
       "      <th>feature</th>\n",
       "      <th>encoded_feature</th>\n",
       "    </tr>\n",
       "  </thead>\n",
       "  <tbody>\n",
       "    <tr>\n",
       "      <th>0</th>\n",
       "      <td>1</td>\n",
       "      <td>user=1</td>\n",
       "      <td>3924</td>\n",
       "    </tr>\n",
       "    <tr>\n",
       "      <th>1</th>\n",
       "      <td>1</td>\n",
       "      <td>gender=F</td>\n",
       "      <td>0</td>\n",
       "    </tr>\n",
       "    <tr>\n",
       "      <th>2</th>\n",
       "      <td>1</td>\n",
       "      <td>occupation=10</td>\n",
       "      <td>3905</td>\n",
       "    </tr>\n",
       "    <tr>\n",
       "      <th>3</th>\n",
       "      <td>1</td>\n",
       "      <td>zipcode=48067</td>\n",
       "      <td>11552</td>\n",
       "    </tr>\n",
       "    <tr>\n",
       "      <th>4</th>\n",
       "      <td>2</td>\n",
       "      <td>user=2</td>\n",
       "      <td>5035</td>\n",
       "    </tr>\n",
       "  </tbody>\n",
       "</table>\n",
       "</div>"
      ],
      "text/plain": [
       "   user        feature  encoded_feature\n",
       "0     1         user=1             3924\n",
       "1     1       gender=F                0\n",
       "2     1  occupation=10             3905\n",
       "3     1  zipcode=48067            11552\n",
       "4     2         user=2             5035"
      ]
     },
     "execution_count": 6,
     "metadata": {},
     "output_type": "execute_result"
    }
   ],
   "source": [
    "user_features.head()"
   ]
  },
  {
   "cell_type": "code",
   "execution_count": 7,
   "metadata": {
    "collapsed": false
   },
   "outputs": [
    {
     "name": "stdout",
     "output_type": "stream",
     "text": [
      "(7102860, 7)\n"
     ]
    },
    {
     "data": {
      "text/html": [
       "<div>\n",
       "<table border=\"1\" class=\"dataframe\">\n",
       "  <thead>\n",
       "    <tr style=\"text-align: right;\">\n",
       "      <th></th>\n",
       "      <th>user</th>\n",
       "      <th>item</th>\n",
       "      <th>rating</th>\n",
       "      <th>timestamp</th>\n",
       "      <th>sample_id</th>\n",
       "      <th>feature</th>\n",
       "      <th>encoded_feature</th>\n",
       "    </tr>\n",
       "  </thead>\n",
       "  <tbody>\n",
       "    <tr>\n",
       "      <th>0</th>\n",
       "      <td>1</td>\n",
       "      <td>1193</td>\n",
       "      <td>5</td>\n",
       "      <td>2000-12-31 22:12:40</td>\n",
       "      <td>0</td>\n",
       "      <td>user=1</td>\n",
       "      <td>3924</td>\n",
       "    </tr>\n",
       "    <tr>\n",
       "      <th>1</th>\n",
       "      <td>1</td>\n",
       "      <td>1193</td>\n",
       "      <td>5</td>\n",
       "      <td>2000-12-31 22:12:40</td>\n",
       "      <td>0</td>\n",
       "      <td>gender=F</td>\n",
       "      <td>0</td>\n",
       "    </tr>\n",
       "    <tr>\n",
       "      <th>2</th>\n",
       "      <td>1</td>\n",
       "      <td>1193</td>\n",
       "      <td>5</td>\n",
       "      <td>2000-12-31 22:12:40</td>\n",
       "      <td>0</td>\n",
       "      <td>occupation=10</td>\n",
       "      <td>3905</td>\n",
       "    </tr>\n",
       "    <tr>\n",
       "      <th>3</th>\n",
       "      <td>1</td>\n",
       "      <td>1193</td>\n",
       "      <td>5</td>\n",
       "      <td>2000-12-31 22:12:40</td>\n",
       "      <td>0</td>\n",
       "      <td>zipcode=48067</td>\n",
       "      <td>11552</td>\n",
       "    </tr>\n",
       "    <tr>\n",
       "      <th>1</th>\n",
       "      <td>1</td>\n",
       "      <td>1193</td>\n",
       "      <td>5</td>\n",
       "      <td>2000-12-31 22:12:40</td>\n",
       "      <td>0</td>\n",
       "      <td>genres=Drama</td>\n",
       "      <td>9</td>\n",
       "    </tr>\n",
       "    <tr>\n",
       "      <th>0</th>\n",
       "      <td>1</td>\n",
       "      <td>1193</td>\n",
       "      <td>5</td>\n",
       "      <td>2000-12-31 22:12:40</td>\n",
       "      <td>0</td>\n",
       "      <td>item=1193</td>\n",
       "      <td>232</td>\n",
       "    </tr>\n",
       "    <tr>\n",
       "      <th>3452</th>\n",
       "      <td>1</td>\n",
       "      <td>661</td>\n",
       "      <td>3</td>\n",
       "      <td>2000-12-31 22:35:09</td>\n",
       "      <td>1</td>\n",
       "      <td>genres=Children's</td>\n",
       "      <td>5</td>\n",
       "    </tr>\n",
       "    <tr>\n",
       "      <th>3453</th>\n",
       "      <td>1</td>\n",
       "      <td>661</td>\n",
       "      <td>3</td>\n",
       "      <td>2000-12-31 22:35:09</td>\n",
       "      <td>1</td>\n",
       "      <td>genres=Musical</td>\n",
       "      <td>13</td>\n",
       "    </tr>\n",
       "    <tr>\n",
       "      <th>3451</th>\n",
       "      <td>1</td>\n",
       "      <td>661</td>\n",
       "      <td>3</td>\n",
       "      <td>2000-12-31 22:35:09</td>\n",
       "      <td>1</td>\n",
       "      <td>genres=Animation</td>\n",
       "      <td>4</td>\n",
       "    </tr>\n",
       "    <tr>\n",
       "      <th>3450</th>\n",
       "      <td>1</td>\n",
       "      <td>661</td>\n",
       "      <td>3</td>\n",
       "      <td>2000-12-31 22:35:09</td>\n",
       "      <td>1</td>\n",
       "      <td>item=661</td>\n",
       "      <td>3536</td>\n",
       "    </tr>\n",
       "  </tbody>\n",
       "</table>\n",
       "</div>"
      ],
      "text/plain": [
       "      user  item  rating           timestamp  sample_id            feature  \\\n",
       "0        1  1193       5 2000-12-31 22:12:40          0             user=1   \n",
       "1        1  1193       5 2000-12-31 22:12:40          0           gender=F   \n",
       "2        1  1193       5 2000-12-31 22:12:40          0      occupation=10   \n",
       "3        1  1193       5 2000-12-31 22:12:40          0      zipcode=48067   \n",
       "1        1  1193       5 2000-12-31 22:12:40          0       genres=Drama   \n",
       "0        1  1193       5 2000-12-31 22:12:40          0          item=1193   \n",
       "3452     1   661       3 2000-12-31 22:35:09          1  genres=Children's   \n",
       "3453     1   661       3 2000-12-31 22:35:09          1     genres=Musical   \n",
       "3451     1   661       3 2000-12-31 22:35:09          1   genres=Animation   \n",
       "3450     1   661       3 2000-12-31 22:35:09          1           item=661   \n",
       "\n",
       "      encoded_feature  \n",
       "0                3924  \n",
       "1                   0  \n",
       "2                3905  \n",
       "3               11552  \n",
       "1                   9  \n",
       "0                 232  \n",
       "3452                5  \n",
       "3453               13  \n",
       "3451                4  \n",
       "3450             3536  "
      ]
     },
     "execution_count": 7,
     "metadata": {},
     "output_type": "execute_result"
    }
   ],
   "source": [
    "keyed_ratings = ratings.assign(sample_id=lambda df: np.arange(df.shape[0]))\n",
    "\n",
    "augmented_ratings = (pd.concat([\n",
    "    pd.merge(keyed_ratings, user_features, on='user', how='inner'),\n",
    "    pd.merge(keyed_ratings, item_features, on='item', how='inner')],\n",
    "    axis=0).sort_values('sample_id'))\n",
    "\n",
    "print(augmented_ratings.shape)\n",
    "augmented_ratings.head(10)"
   ]
  },
  {
   "cell_type": "code",
   "execution_count": 8,
   "metadata": {
    "collapsed": false
   },
   "outputs": [
    {
     "data": {
      "text/plain": [
       "sample_id\n",
       "0            [3924, 0, 3905, 11552, 9, 232]\n",
       "1    [5, 13, 4, 3536, 3905, 3924, 0, 11552]\n",
       "2      [3905, 11552, 3810, 3924, 13, 15, 0]\n",
       "3           [2639, 11552, 3905, 0, 3924, 9]\n",
       "4     [1470, 4, 6, 5, 3924, 0, 3905, 11552]\n",
       "Name: encoded_feature, dtype: object"
      ]
     },
     "execution_count": 8,
     "metadata": {},
     "output_type": "execute_result"
    }
   ],
   "source": [
    "augmented_ratings.head(100).groupby('sample_id').encoded_feature.apply(list).head()"
   ]
  },
  {
   "cell_type": "code",
   "execution_count": null,
   "metadata": {
    "collapsed": true
   },
   "outputs": [],
   "source": [
    "augmented_ratings = (pd.concat([\n",
    "    pd.merge(keyed_ratings, user_features, on='user', how='inner'),\n",
    "    pd.merge(keyed_ratings, item_features, on='item', how='inner')],\n",
    "    axis=0).sort_values('sample_id'))\n",
    "\n",
    "print(augmented_ratings.shape)\n",
    "augmented_ratings.head(10)"
   ]
  },
  {
   "cell_type": "markdown",
   "metadata": {},
   "source": [
    "## Train/test split\n",
    "\n",
    " * Ideally time based split\n",
    " * For the sake of simplicity, let's just sample ratings uniformly (breaking the time machine rule)"
   ]
  },
  {
   "cell_type": "code",
   "execution_count": 10,
   "metadata": {
    "collapsed": false
   },
   "outputs": [
    {
     "name": "stdout",
     "output_type": "stream",
     "text": [
      "(900209, 4)\n",
      "(100000, 4)\n"
     ]
    },
    {
     "data": {
      "text/html": [
       "<div>\n",
       "<table border=\"1\" class=\"dataframe\">\n",
       "  <thead>\n",
       "    <tr style=\"text-align: right;\">\n",
       "      <th></th>\n",
       "      <th>user</th>\n",
       "      <th>item</th>\n",
       "      <th>rating</th>\n",
       "      <th>timestamp</th>\n",
       "    </tr>\n",
       "  </thead>\n",
       "  <tbody>\n",
       "    <tr>\n",
       "      <th>324271</th>\n",
       "      <td>1922</td>\n",
       "      <td>2094</td>\n",
       "      <td>4</td>\n",
       "      <td>2000-11-20 04:34:27</td>\n",
       "    </tr>\n",
       "    <tr>\n",
       "      <th>818637</th>\n",
       "      <td>4918</td>\n",
       "      <td>2808</td>\n",
       "      <td>1</td>\n",
       "      <td>2000-07-08 19:29:05</td>\n",
       "    </tr>\n",
       "    <tr>\n",
       "      <th>148677</th>\n",
       "      <td>957</td>\n",
       "      <td>1660</td>\n",
       "      <td>4</td>\n",
       "      <td>2000-11-25 05:28:13</td>\n",
       "    </tr>\n",
       "    <tr>\n",
       "      <th>778790</th>\n",
       "      <td>4653</td>\n",
       "      <td>914</td>\n",
       "      <td>5</td>\n",
       "      <td>2000-11-29 21:22:43</td>\n",
       "    </tr>\n",
       "    <tr>\n",
       "      <th>525489</th>\n",
       "      <td>3245</td>\n",
       "      <td>3324</td>\n",
       "      <td>1</td>\n",
       "      <td>2000-09-07 06:33:31</td>\n",
       "    </tr>\n",
       "  </tbody>\n",
       "</table>\n",
       "</div>"
      ],
      "text/plain": [
       "        user  item  rating           timestamp\n",
       "324271  1922  2094       4 2000-11-20 04:34:27\n",
       "818637  4918  2808       1 2000-07-08 19:29:05\n",
       "148677   957  1660       4 2000-11-25 05:28:13\n",
       "778790  4653   914       5 2000-11-29 21:22:43\n",
       "525489  3245  3324       1 2000-09-07 06:33:31"
      ]
     },
     "execution_count": 10,
     "metadata": {},
     "output_type": "execute_result"
    }
   ],
   "source": [
    "test = ratings.sample(n=100000, random_state=0)\n",
    "train_ratings_mask = ~ratings.index.isin(test.index)\n",
    "train = ratings.loc[train_ratings_mask]\n",
    "\n",
    "test_user_items = test[['user', 'item']]\n",
    "\n",
    "print(train.shape)\n",
    "print(test.shape)\n",
    "\n",
    "test.head()"
   ]
  },
  {
   "cell_type": "markdown",
   "metadata": {},
   "source": [
    "## Evaluation function"
   ]
  },
  {
   "cell_type": "code",
   "execution_count": 11,
   "metadata": {
    "collapsed": false
   },
   "outputs": [],
   "source": [
    "def rmse(predicted_ratings, ground_truth_ratings=test):\n",
    "\n",
    "    # predicted rating will be nan if no prediction => returning nan as a result if not all test ratings provided\n",
    "    joined_ratings = pd.merge(\n",
    "        ground_truth_ratings,\n",
    "        predicted_ratings, \n",
    "        on=['user', 'item'], how='left', suffixes=['_ground_truth', '_predicted'])\n",
    "\n",
    "    squared_errors = np.power(joined_ratings.rating_ground_truth - joined_ratings.rating_predicted, 2)\n",
    "    \n",
    "    return np.sqrt(np.average(squared_errors))"
   ]
  },
  {
   "cell_type": "markdown",
   "metadata": {},
   "source": [
    "## Linear model based on featurized user-item ratings"
   ]
  },
  {
   "cell_type": "code",
   "execution_count": 159,
   "metadata": {
    "collapsed": false
   },
   "outputs": [
    {
     "data": {
      "text/plain": [
       "<900209x9964 sparse matrix of type '<class 'numpy.float64'>'\n",
       "\twith 3692342 stored elements in COOrdinate format>"
      ]
     },
     "execution_count": 159,
     "metadata": {},
     "output_type": "execute_result"
    }
   ],
   "source": [
    "from scipy import sparse\n",
    "\n",
    "\n",
    "augmented_ratings_in_train = augmented_ratings.sample_id.isin(train.index).values\n",
    "# features\n",
    "features_mask = np.ones_like(augmented_ratings_in_train)\n",
    "features_mask = augmented_ratings.feature.str.split('=').str[0].isin(['user', 'item', 'genres']).values\n",
    "augmented_train = augmented_ratings[augmented_ratings_in_train & features_mask]\n",
    "\n",
    "def to_coo(row_indexes, col_indexes, values, shape=None, dtype=np.float64):\n",
    "    return sparse.coo_matrix((values, (row_indexes, col_indexes)), shape=shape, dtype=dtype)\n",
    "\n",
    "condensed_sample_ids = preprocessing.LabelEncoder().fit_transform(augmented_train.sample_id)\n",
    "train_features_matrix = to_coo(\n",
    "    row_indexes=condensed_sample_ids, \n",
    "    col_indexes=augmented_train.encoded_feature.values, \n",
    "    values=np.ones_like(augmented_train.sample_id))\n",
    "\n",
    "train_features_matrix"
   ]
  },
  {
   "cell_type": "code",
   "execution_count": 166,
   "metadata": {
    "collapsed": false
   },
   "outputs": [
    {
     "name": "stdout",
     "output_type": "stream",
     "text": [
      "-- Epoch 1\n",
      "Norm: 10.87, NNZs: 9750, Bias: 1.171217, T: 900209, Avg. loss: 0.882533\n",
      "Total training time: 0.18 seconds.\n",
      "-- Epoch 2\n",
      "Norm: 13.83, NNZs: 9750, Bias: 1.565152, T: 1800418, Avg. loss: 0.755815\n",
      "Total training time: 0.38 seconds.\n",
      "-- Epoch 3\n",
      "Norm: 15.62, NNZs: 9750, Bias: 1.795024, T: 2700627, Avg. loss: 0.688794\n",
      "Total training time: 0.64 seconds.\n",
      "-- Epoch 4\n",
      "Norm: 16.83, NNZs: 9750, Bias: 1.946182, T: 3600836, Avg. loss: 0.646610\n",
      "Total training time: 0.86 seconds.\n",
      "-- Epoch 5\n",
      "Norm: 17.71, NNZs: 9750, Bias: 2.053743, T: 4501045, Avg. loss: 0.617357\n",
      "Total training time: 1.10 seconds.\n",
      "-- Epoch 6\n",
      "Norm: 18.38, NNZs: 9750, Bias: 2.134022, T: 5401254, Avg. loss: 0.595730\n",
      "Total training time: 1.32 seconds.\n",
      "-- Epoch 7\n",
      "Norm: 18.93, NNZs: 9750, Bias: 2.197272, T: 6301463, Avg. loss: 0.579000\n",
      "Total training time: 1.55 seconds.\n",
      "-- Epoch 8\n",
      "Norm: 19.39, NNZs: 9750, Bias: 2.248241, T: 7201672, Avg. loss: 0.565612\n",
      "Total training time: 1.82 seconds.\n",
      "-- Epoch 9\n",
      "Norm: 19.77, NNZs: 9750, Bias: 2.290607, T: 8101881, Avg. loss: 0.554613\n",
      "Total training time: 2.10 seconds.\n",
      "-- Epoch 10\n",
      "Norm: 20.10, NNZs: 9750, Bias: 2.326762, T: 9002090, Avg. loss: 0.545384\n",
      "Total training time: 2.38 seconds.\n"
     ]
    },
    {
     "data": {
      "text/plain": [
       "SGDRegressor(alpha=0.0001, average=False, epsilon=0.1, eta0=0.01,\n",
       "       fit_intercept=True, l1_ratio=0, learning_rate='invscaling',\n",
       "       loss='squared_loss', n_iter=10, penalty='elasticnet', power_t=0.25,\n",
       "       random_state=None, shuffle=True, verbose=True, warm_start=False)"
      ]
     },
     "execution_count": 166,
     "metadata": {},
     "output_type": "execute_result"
    }
   ],
   "source": [
    "from sklearn.linear_model import SGDRegressor, LinearRegression\n",
    "\n",
    "# m = SGDRegressor(fit_intercept=True, n_iter=5, alpha=1.0, penalty='elasticnet', l1_ratio=.5, verbose=True)\n",
    "# m = LinearRegression(fit_intercept=True)\n",
    "m = SGDRegressor(fit_intercept=True, n_iter=10, alpha=.0001, penalty='elasticnet', l1_ratio=0, verbose=True)\n",
    "m.fit(X=train_features_matrix, y=train.rating)"
   ]
  },
  {
   "cell_type": "code",
   "execution_count": 167,
   "metadata": {
    "collapsed": false
   },
   "outputs": [
    {
     "data": {
      "text/plain": [
       "0.96128110463891214"
      ]
     },
     "execution_count": 167,
     "metadata": {},
     "output_type": "execute_result"
    }
   ],
   "source": [
    "augmented_ratings_in_test = augmented_ratings.sample_id.isin(test.index)\n",
    "\n",
    "sample_id_encoder = preprocessing.LabelEncoder()\n",
    "augmented_test = augmented_ratings[augmented_ratings_in_test & features_mask]\\\n",
    "    .assign(condensed_sample_id=lambda df: sample_id_encoder.fit_transform(df.sample_id))\n",
    "\n",
    "test_features_matrix = to_coo(\n",
    "    row_indexes=augmented_test.condensed_sample_id, \n",
    "    col_indexes=augmented_test.encoded_feature.values, \n",
    "    values=np.ones_like(augmented_test.sample_id))\n",
    "\n",
    "sampled_predicted_ratings = pd.Series(\n",
    "    index=sample_id_encoder.classes_,\n",
    "    data=m.predict(X=test_features_matrix)).to_frame('rating')\n",
    "\n",
    "user_item_predicted_ratings = sampled_predicted_ratings.join(test_user_items)\n",
    "\n",
    "rmse(user_item_predicted_ratings)"
   ]
  },
  {
   "cell_type": "markdown",
   "metadata": {},
   "source": [
    "## Model inspection"
   ]
  },
  {
   "cell_type": "code",
   "execution_count": 130,
   "metadata": {
    "collapsed": false
   },
   "outputs": [
    {
     "data": {
      "text/plain": [
       "3.5818259981848661"
      ]
     },
     "execution_count": 130,
     "metadata": {},
     "output_type": "execute_result"
    }
   ],
   "source": [
    "m.intercept_"
   ]
  },
  {
   "cell_type": "code",
   "execution_count": 107,
   "metadata": {
    "collapsed": false
   },
   "outputs": [
    {
     "data": {
      "text/plain": [
       "array([ 0.10665691])"
      ]
     },
     "execution_count": 107,
     "metadata": {},
     "output_type": "execute_result"
    }
   ],
   "source": [
    "m.coef_[features_encoder.transform(['user=1'])]"
   ]
  },
  {
   "cell_type": "code",
   "execution_count": 128,
   "metadata": {
    "collapsed": false
   },
   "outputs": [
    {
     "data": {
      "text/plain": [
       "array(['item=2503', 'item=3233', 'item=3382', 'item=557', 'item=578',\n",
       "       'item=787', 'item=989', 'user=2155', 'user=3902', 'user=46'], dtype=object)"
      ]
     },
     "execution_count": 128,
     "metadata": {},
     "output_type": "execute_result"
    }
   ],
   "source": [
    "from scipy.stats import rankdata\n",
    "\n",
    "coefficient_ranks = rankdata(-m.coef_, method='max')\n",
    "top_coefficients_indexes = np.where(coefficient_ranks <=10)[0]\n",
    "features_encoder.inverse_transform(top_coefficients_indexes)"
   ]
  },
  {
   "cell_type": "code",
   "execution_count": 125,
   "metadata": {
    "collapsed": false
   },
   "outputs": [
    {
     "data": {
      "text/html": [
       "<div>\n",
       "<table border=\"1\" class=\"dataframe\">\n",
       "  <thead>\n",
       "    <tr style=\"text-align: right;\">\n",
       "      <th></th>\n",
       "      <th>user</th>\n",
       "      <th>item</th>\n",
       "      <th>rating</th>\n",
       "      <th>timestamp</th>\n",
       "    </tr>\n",
       "  </thead>\n",
       "  <tbody>\n",
       "    <tr>\n",
       "      <th>883623</th>\n",
       "      <td>5334</td>\n",
       "      <td>3382</td>\n",
       "      <td>5</td>\n",
       "      <td>2000-06-12 07:49:19</td>\n",
       "    </tr>\n",
       "  </tbody>\n",
       "</table>\n",
       "</div>"
      ],
      "text/plain": [
       "        user  item  rating           timestamp\n",
       "883623  5334  3382       5 2000-06-12 07:49:19"
      ]
     },
     "execution_count": 125,
     "metadata": {},
     "output_type": "execute_result"
    }
   ],
   "source": [
    "train.query('item == 3382')"
   ]
  },
  {
   "cell_type": "code",
   "execution_count": 123,
   "metadata": {
    "collapsed": false
   },
   "outputs": [
    {
     "data": {
      "text/html": [
       "<div>\n",
       "<table border=\"1\" class=\"dataframe\">\n",
       "  <thead>\n",
       "    <tr style=\"text-align: right;\">\n",
       "      <th></th>\n",
       "      <th>item</th>\n",
       "      <th>title</th>\n",
       "      <th>genres</th>\n",
       "    </tr>\n",
       "    <tr>\n",
       "      <th>item</th>\n",
       "      <th></th>\n",
       "      <th></th>\n",
       "      <th></th>\n",
       "    </tr>\n",
       "  </thead>\n",
       "  <tbody>\n",
       "    <tr>\n",
       "      <th>318</th>\n",
       "      <td>318</td>\n",
       "      <td>Shawshank Redemption, The (1994)</td>\n",
       "      <td>[Drama]</td>\n",
       "    </tr>\n",
       "  </tbody>\n",
       "</table>\n",
       "</div>"
      ],
      "text/plain": [
       "      item                             title   genres\n",
       "item                                                 \n",
       "318    318  Shawshank Redemption, The (1994)  [Drama]"
      ]
     },
     "execution_count": 123,
     "metadata": {},
     "output_type": "execute_result"
    }
   ],
   "source": [
    "movies[movies.title.str.startswith('Shawshank')]"
   ]
  },
  {
   "cell_type": "code",
   "execution_count": 127,
   "metadata": {
    "collapsed": false
   },
   "outputs": [
    {
     "data": {
      "text/plain": [
       "user      3048.568227\n",
       "item       318.000000\n",
       "rating       4.551793\n",
       "dtype: float64"
      ]
     },
     "execution_count": 127,
     "metadata": {},
     "output_type": "execute_result"
    }
   ],
   "source": [
    "train.query('item == 318').mean()"
   ]
  },
  {
   "cell_type": "code",
   "execution_count": 129,
   "metadata": {
    "collapsed": false
   },
   "outputs": [
    {
     "data": {
      "text/plain": [
       "array([ 1.09760585])"
      ]
     },
     "execution_count": 129,
     "metadata": {},
     "output_type": "execute_result"
    }
   ],
   "source": [
    "m.coef_[features_encoder.transform(['item=318'])]"
   ]
  }
 ],
 "metadata": {
  "anaconda-cloud": {},
  "kernelspec": {
   "display_name": "Python [default]",
   "language": "python",
   "name": "python3"
  },
  "language_info": {
   "codemirror_mode": {
    "name": "ipython",
    "version": 3
   },
   "file_extension": ".py",
   "mimetype": "text/x-python",
   "name": "python",
   "nbconvert_exporter": "python",
   "pygments_lexer": "ipython3",
   "version": "3.5.2"
  }
 },
 "nbformat": 4,
 "nbformat_minor": 0
}
