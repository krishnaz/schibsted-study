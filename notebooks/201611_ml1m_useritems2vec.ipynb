{
 "cells": [
  {
   "cell_type": "markdown",
   "metadata": {
    "collapsed": true
   },
   "source": [
    "# Loading data"
   ]
  },
  {
   "cell_type": "code",
   "execution_count": null,
   "metadata": {
    "collapsed": false
   },
   "outputs": [],
   "source": [
    "! wget http://files.grouplens.org/datasets/movielens/ml-1m.zip\n",
    "! unzip ml-1m.zip -d ."
   ]
  },
  {
   "cell_type": "code",
   "execution_count": 1,
   "metadata": {
    "collapsed": true
   },
   "outputs": [],
   "source": [
    "import pandas as pd\n",
    "import numpy as np\n",
    "import tensorflow\n",
    "\n",
    "import matplotlib.pyplot as plt\n",
    "%matplotlib inline"
   ]
  },
  {
   "cell_type": "code",
   "execution_count": 2,
   "metadata": {
    "collapsed": false
   },
   "outputs": [],
   "source": [
    "ratings = (pd.read_csv('./ml-1m/ratings.dat', engine='python', sep='::', names=['user', 'item', 'rating', 'timestamp'])\n",
    "    .assign(timestamp=lambda df:pd.to_datetime(df.timestamp * 1000000000))\n",
    "          )\n",
    "\n",
    "movies = (pd.read_csv('./ml-1m/movies.dat', engine='python', sep='::', names=['item', 'title', 'genres'])\n",
    "          .assign(genres=lambda df:df.genres.str.split('|').values)\n",
    "          .set_index('item', drop=False))\n",
    "\n",
    "# See http://files.grouplens.org/datasets/movielens/ml-1m-README.txt for more details\n",
    "users = pd.read_csv('./ml-1m/users.dat', engine='python', sep='::', \n",
    "                    names=['user', 'gender', 'age', 'occupation', 'zipcode'])\\\n",
    "    .set_index('user', drop=False)"
   ]
  },
  {
   "cell_type": "code",
   "execution_count": 3,
   "metadata": {
    "collapsed": false
   },
   "outputs": [
    {
     "data": {
      "text/html": [
       "<div>\n",
       "<table border=\"1\" class=\"dataframe\">\n",
       "  <thead>\n",
       "    <tr style=\"text-align: right;\">\n",
       "      <th></th>\n",
       "      <th>user</th>\n",
       "      <th>item</th>\n",
       "      <th>rating</th>\n",
       "      <th>timestamp</th>\n",
       "      <th>feedback</th>\n",
       "    </tr>\n",
       "  </thead>\n",
       "  <tbody>\n",
       "    <tr>\n",
       "      <th>0</th>\n",
       "      <td>1</td>\n",
       "      <td>1193</td>\n",
       "      <td>5</td>\n",
       "      <td>2000-12-31 22:12:40</td>\n",
       "      <td>1</td>\n",
       "    </tr>\n",
       "    <tr>\n",
       "      <th>1</th>\n",
       "      <td>1</td>\n",
       "      <td>661</td>\n",
       "      <td>3</td>\n",
       "      <td>2000-12-31 22:35:09</td>\n",
       "      <td>-1</td>\n",
       "    </tr>\n",
       "    <tr>\n",
       "      <th>2</th>\n",
       "      <td>1</td>\n",
       "      <td>914</td>\n",
       "      <td>3</td>\n",
       "      <td>2000-12-31 22:32:48</td>\n",
       "      <td>-1</td>\n",
       "    </tr>\n",
       "    <tr>\n",
       "      <th>3</th>\n",
       "      <td>1</td>\n",
       "      <td>3408</td>\n",
       "      <td>4</td>\n",
       "      <td>2000-12-31 22:04:35</td>\n",
       "      <td>1</td>\n",
       "    </tr>\n",
       "    <tr>\n",
       "      <th>4</th>\n",
       "      <td>1</td>\n",
       "      <td>2355</td>\n",
       "      <td>5</td>\n",
       "      <td>2001-01-06 23:38:11</td>\n",
       "      <td>1</td>\n",
       "    </tr>\n",
       "  </tbody>\n",
       "</table>\n",
       "</div>"
      ],
      "text/plain": [
       "   user  item  rating           timestamp  feedback\n",
       "0     1  1193       5 2000-12-31 22:12:40         1\n",
       "1     1   661       3 2000-12-31 22:35:09        -1\n",
       "2     1   914       3 2000-12-31 22:32:48        -1\n",
       "3     1  3408       4 2000-12-31 22:04:35         1\n",
       "4     1  2355       5 2001-01-06 23:38:11         1"
      ]
     },
     "execution_count": 3,
     "metadata": {},
     "output_type": "execute_result"
    }
   ],
   "source": [
    "ratings = ratings.assign(feedback=lambda df: 2 * (df.rating >= 4) - 1)\n",
    "\n",
    "ratings.head()"
   ]
  },
  {
   "cell_type": "markdown",
   "metadata": {},
   "source": [
    "## Train/test split\n",
    "\n",
    " * Ideally time based split\n",
    " * For the sake of simplicity, let's just sample ratings uniformly (breaking the time machine rule)"
   ]
  },
  {
   "cell_type": "code",
   "execution_count": 4,
   "metadata": {
    "collapsed": false
   },
   "outputs": [
    {
     "name": "stdout",
     "output_type": "stream",
     "text": [
      "(900209, 5)\n",
      "(100000, 5)\n"
     ]
    },
    {
     "data": {
      "text/html": [
       "<div>\n",
       "<table border=\"1\" class=\"dataframe\">\n",
       "  <thead>\n",
       "    <tr style=\"text-align: right;\">\n",
       "      <th></th>\n",
       "      <th>user</th>\n",
       "      <th>item</th>\n",
       "      <th>rating</th>\n",
       "      <th>timestamp</th>\n",
       "      <th>feedback</th>\n",
       "    </tr>\n",
       "  </thead>\n",
       "  <tbody>\n",
       "    <tr>\n",
       "      <th>324271</th>\n",
       "      <td>1922</td>\n",
       "      <td>2094</td>\n",
       "      <td>4</td>\n",
       "      <td>2000-11-20 04:34:27</td>\n",
       "      <td>1</td>\n",
       "    </tr>\n",
       "    <tr>\n",
       "      <th>818637</th>\n",
       "      <td>4918</td>\n",
       "      <td>2808</td>\n",
       "      <td>1</td>\n",
       "      <td>2000-07-08 19:29:05</td>\n",
       "      <td>-1</td>\n",
       "    </tr>\n",
       "    <tr>\n",
       "      <th>148677</th>\n",
       "      <td>957</td>\n",
       "      <td>1660</td>\n",
       "      <td>4</td>\n",
       "      <td>2000-11-25 05:28:13</td>\n",
       "      <td>1</td>\n",
       "    </tr>\n",
       "    <tr>\n",
       "      <th>778790</th>\n",
       "      <td>4653</td>\n",
       "      <td>914</td>\n",
       "      <td>5</td>\n",
       "      <td>2000-11-29 21:22:43</td>\n",
       "      <td>1</td>\n",
       "    </tr>\n",
       "    <tr>\n",
       "      <th>525489</th>\n",
       "      <td>3245</td>\n",
       "      <td>3324</td>\n",
       "      <td>1</td>\n",
       "      <td>2000-09-07 06:33:31</td>\n",
       "      <td>-1</td>\n",
       "    </tr>\n",
       "  </tbody>\n",
       "</table>\n",
       "</div>"
      ],
      "text/plain": [
       "        user  item  rating           timestamp  feedback\n",
       "324271  1922  2094       4 2000-11-20 04:34:27         1\n",
       "818637  4918  2808       1 2000-07-08 19:29:05        -1\n",
       "148677   957  1660       4 2000-11-25 05:28:13         1\n",
       "778790  4653   914       5 2000-11-29 21:22:43         1\n",
       "525489  3245  3324       1 2000-09-07 06:33:31        -1"
      ]
     },
     "execution_count": 4,
     "metadata": {},
     "output_type": "execute_result"
    }
   ],
   "source": [
    "test = ratings.sample(n=100000, random_state=0)\n",
    "train_ratings_mask = ~ratings.index.isin(test.index)\n",
    "train = ratings.loc[train_ratings_mask]\n",
    "\n",
    "test_user_items = test[['user', 'item']]\n",
    "\n",
    "print(train.shape)\n",
    "print(test.shape)\n",
    "\n",
    "test.head()"
   ]
  },
  {
   "cell_type": "markdown",
   "metadata": {},
   "source": [
    "## Refresher on cross entropy loss"
   ]
  },
  {
   "cell_type": "code",
   "execution_count": 5,
   "metadata": {
    "collapsed": true
   },
   "outputs": [],
   "source": [
    "import tensorflow as tf\n",
    "sess = tf.InteractiveSession()"
   ]
  },
  {
   "cell_type": "markdown",
   "metadata": {},
   "source": [
    "For the binary case, $\\hat{p}$\n",
    "\n",
    "$$ LL(y, \\hat{p}) = - \\log p \\text{ if $y = 1$ and } - log(1 - p) \\text{ if $y = 0$}\n",
    "$$\n",
    "\n",
    "For the $K$ multi-classes case, $\\hat{\\mathbf{p}}$ is a vector\n",
    "\n",
    "$$ LL(y, \\mathbf{p}) = - \\log \\mathbf{p}_y\n",
    "$$\n"
   ]
  },
  {
   "cell_type": "code",
   "execution_count": 6,
   "metadata": {
    "collapsed": false
   },
   "outputs": [
    {
     "data": {
      "image/png": "[encoded data removed]",
      "text/plain": [
       "<matplotlib.figure.Figure at 0x116091780>"
      ]
     },
     "metadata": {},
     "output_type": "display_data"
    }
   ],
   "source": [
    "grid_ps = np.linspace(0, 1, num=1000)[1:-1]\n",
    "plt.plot(grid_ps, -np.log(grid_ps), label='$y = 1$')\n",
    "plt.plot(grid_ps, -np.log(1 - grid_ps), label='$y = 0$')\n",
    "plt.legend(); plt.xlabel('p[x]'); plt.xlabel('cost function');"
   ]
  },
  {
   "cell_type": "code",
   "execution_count": 7,
   "metadata": {
    "collapsed": false
   },
   "outputs": [
    {
     "data": {
      "text/plain": [
       "array([[ 10.,   1.,   1.],\n",
       "       [ 10.,   1.,   1.],\n",
       "       [  1.,   2.,   1.],\n",
       "       [  1.,   2.,   1.]])"
      ]
     },
     "execution_count": 7,
     "metadata": {},
     "output_type": "execute_result"
    }
   ],
   "source": [
    "BATCH_SIZE = 4\n",
    "N_CLASSES = 3\n",
    "\n",
    "logits_values = np.array([[10, 1, 1], [10, 1, 1], [1, 2, 1], [1, 2, 1]], dtype=float)\n",
    "logits = tf.constant(logits_values, shape=(BATCH_SIZE, N_CLASSES))\n",
    "\n",
    "logits.eval()"
   ]
  },
  {
   "cell_type": "code",
   "execution_count": 11,
   "metadata": {
    "collapsed": false
   },
   "outputs": [
    {
     "name": "stdout",
     "output_type": "stream",
     "text": [
      "class labels:\n",
      "[[0]\n",
      " [1]\n",
      " [1]\n",
      " [2]]\n",
      "one-hot encoded class labels:\n",
      "[[ 1.  0.  0.]\n",
      " [ 0.  1.  0.]\n",
      " [ 0.  1.  0.]\n",
      " [ 0.  0.  1.]]\n"
     ]
    }
   ],
   "source": [
    "labels_values = np.array([0, 1, 1, 2])\n",
    "labels = tf.constant(labels_values)\n",
    "\n",
    "one_hot_values = np.array([[1, 0, 0], [0, 1, 0], [0, 1, 0], [0, 0, 1]], dtype=np.float)\n",
    "one_hot_labels = tf.constant(one_hot_values)\n",
    "\n",
    "print('class labels:')\n",
    "print(tf.reshape(labels, (-1, 1)).eval())\n",
    "\n",
    "print('one-hot encoded class labels:')\n",
    "print(one_hot_labels.eval())"
   ]
  },
  {
   "cell_type": "code",
   "execution_count": 12,
   "metadata": {
    "collapsed": false
   },
   "outputs": [
    {
     "data": {
      "text/plain": [
       "array([  2.46789153e-04,   9.00024679e+00,   5.51444714e-01,\n",
       "         1.55144471e+00])"
      ]
     },
     "execution_count": 12,
     "metadata": {},
     "output_type": "execute_result"
    }
   ],
   "source": [
    "# tf.nn.sparse_softmax_cross_entropy_with_logits (a la word2vec)\n",
    "# Measures the probability error in discrete classification tasks in which the\n",
    "# classes are mutually exclusive (each entry is in exactly one class).\n",
    "\n",
    "loss = tf.nn.sparse_softmax_cross_entropy_with_logits(logits, labels)\n",
    "loss.eval()"
   ]
  },
  {
   "cell_type": "code",
   "execution_count": 13,
   "metadata": {
    "collapsed": false
   },
   "outputs": [
    {
     "data": {
      "text/plain": [
       "array([[  9.99753241e-01,   1.23379352e-04,   1.23379352e-04],\n",
       "       [  9.99753241e-01,   1.23379352e-04,   1.23379352e-04],\n",
       "       [  2.11941558e-01,   5.76116885e-01,   2.11941558e-01],\n",
       "       [  2.11941558e-01,   5.76116885e-01,   2.11941558e-01]])"
      ]
     },
     "execution_count": 13,
     "metadata": {},
     "output_type": "execute_result"
    }
   ],
   "source": [
    "# step by step numpy equivalent\n",
    "raw_softmax_values = np.exp(logits_values)\n",
    "probabilities = (raw_softmax_values.T / np.sum(raw_softmax_values, axis=1)).T\n",
    "probabilities"
   ]
  },
  {
   "cell_type": "code",
   "execution_count": 15,
   "metadata": {
    "collapsed": false
   },
   "outputs": [
    {
     "data": {
      "text/plain": [
       "array([  2.46789153e-04,   9.00024679e+00,   5.51444714e-01,\n",
       "         1.55144471e+00])"
      ]
     },
     "execution_count": 15,
     "metadata": {},
     "output_type": "execute_result"
    }
   ],
   "source": [
    "cross_entropy_losses = -np.log(probabilities)[[0, 1, 2, 3], label_values]\n",
    "cross_entropy_losses"
   ]
  },
  {
   "cell_type": "code",
   "execution_count": 16,
   "metadata": {
    "collapsed": false
   },
   "outputs": [
    {
     "data": {
      "text/plain": [
       "array([[  4.53988992e-05,   1.31326169e+00,   1.31326169e+00],\n",
       "       [  1.00000454e+01,   3.13261688e-01,   1.31326169e+00],\n",
       "       [  1.31326169e+00,   1.26928011e-01,   1.31326169e+00],\n",
       "       [  1.31326169e+00,   2.12692801e+00,   3.13261688e-01]])"
      ]
     },
     "execution_count": 16,
     "metadata": {},
     "output_type": "execute_result"
    }
   ],
   "source": [
    "# tf.nn.sigmoid_cross_entropy_with_logits (like in the CF auto-encoder article)\n",
    "# Measures the probability error in discrete classification tasks in which each\n",
    "# class is independent and not mutually exclusive.\n",
    "tf.nn.sigmoid_cross_entropy_with_logits(logits, targets=one_hot_labels).eval()"
   ]
  },
  {
   "cell_type": "markdown",
   "metadata": {},
   "source": [
    "## TensorFlow multi-class classification\n",
    "\n",
    "http://stackoverflow.com/questions/37671974/tensorflow-negative-sampling\n",
    "\n",
    "Can use:\n",
    " * `sparse_softmax_cross_entropy_with_logits` or `tf.nn.sampled_softmax_loss` (multi-class classsification a la word2vec)\n",
    " * but we could try [`tf.nn.sigmoid_cross_entropy_with_logits`](https://www.tensorflow.org/versions/r0.11/api_docs/python/nn.html#sigmoid_cross_entropy_with_logits) like in [Collaborative Denoising Auto-Encoders for Top-N Recommender Systems](http://yaowu.co/docs/wsdm16cdae.pdf)\n",
    " \n",
    "Evaluating on a topn metric"
   ]
  },
  {
   "cell_type": "code",
   "execution_count": 17,
   "metadata": {
    "collapsed": false
   },
   "outputs": [],
   "source": [
    "def recall_at_k(logits_values, test, topk = 5):\n",
    "    user_item_predicted_ranks = np.argsort(np.argsort(-logits_values, axis=1)) + 1\n",
    "    user_item_topk_predictions = set(zip(*np.where(user_item_predicted_ranks <= topk)))\n",
    "    test_ground_truths = set(zip(test[test.feedback > 0].user.values, test[test.feedback > 0].item.values))\n",
    "    return len(test_ground_truths.intersection(user_item_topk_predictions)) / len(test_ground_truths)"
   ]
  },
  {
   "cell_type": "code",
   "execution_count": 18,
   "metadata": {
    "collapsed": false
   },
   "outputs": [
    {
     "data": {
      "text/plain": [
       "(6041, 3953)"
      ]
     },
     "execution_count": 18,
     "metadata": {},
     "output_type": "execute_result"
    }
   ],
   "source": [
    "import tensorflow as tf\n",
    "\n",
    "import datetime as dt\n",
    "\n",
    "BATCH_SIZE = 1024\n",
    "N_ITER = 100\n",
    "LOG_DIR = '/tmp/tflearn_logs'\n",
    "\n",
    "N_ITEMS = ratings.item.max() + 1\n",
    "N_USERS = ratings.user.max() + 1\n",
    "\n",
    "N_USERS, N_ITEMS"
   ]
  },
  {
   "cell_type": "code",
   "execution_count": 20,
   "metadata": {
    "collapsed": false
   },
   "outputs": [
    {
     "name": "stdout",
     "output_type": "stream",
     "text": [
      "Step  0: batch/test cross-entropy loss = 8.28/8.27\n",
      "         batch/test recall@5 = 0.0026/0.0026\n",
      "Step 10: batch/test cross-entropy loss = 8.19/8.18\n",
      "         batch/test recall@5 = 0.0152/0.0117\n",
      "Step 20: batch/test cross-entropy loss = 8.02/7.99\n",
      "         batch/test recall@5 = 0.0182/0.0149\n",
      "Step 30: batch/test cross-entropy loss = 7.70/7.67\n",
      "         batch/test recall@5 = 0.0201/0.0178\n",
      "Step 40: batch/test cross-entropy loss = 7.44/7.43\n",
      "         batch/test recall@5 = 0.0207/0.0189\n",
      "Step 50: batch/test cross-entropy loss = 7.32/7.37\n",
      "         batch/test recall@5 = 0.0213/0.0196\n",
      "Step 60: batch/test cross-entropy loss = 7.31/7.34\n",
      "         batch/test recall@5 = 0.0211/0.0201\n",
      "Step 70: batch/test cross-entropy loss = 7.26/7.31\n",
      "         batch/test recall@5 = 0.0206/0.0198\n",
      "Step 80: batch/test cross-entropy loss = 7.32/7.30\n",
      "         batch/test recall@5 = 0.0200/0.0183\n",
      "Step 90: batch/test cross-entropy loss = 7.24/7.29\n",
      "         batch/test recall@5 = 0.0199/0.0184\n"
     ]
    }
   ],
   "source": [
    "class UserAndItem2Vec:\n",
    "    def __init__(self, dimensionality=50, batch_size=None):\n",
    "        \n",
    "        with tf.name_scope('user_embeddings'):\n",
    "            user_embeddings = tf.Variable(tf.random_normal([N_USERS, dimensionality], \n",
    "                                                           stddev=0.01, mean=0), name='users')\n",
    "            tf.histogram_summary('user_embeddings', user_embeddings)\n",
    "\n",
    "        with tf.name_scope('item_biases'):\n",
    "            item_biases = tf.Variable(tf.random_normal([N_ITEMS], stddev=0.01, mean=0), name='items')\n",
    "\n",
    "        with tf.name_scope('item_embeddings'):\n",
    "            item_embeddings = tf.Variable(tf.random_normal([N_ITEMS, dimensionality], stddev=0.01, mean=0), name='items')\n",
    "            tf.histogram_summary('item_embeddings', item_embeddings)\n",
    "\n",
    "        self.user_embeddings = user_embeddings\n",
    "        self.item_embeddings = item_embeddings\n",
    "        self.item_biases = item_biases\n",
    "    \n",
    "        self.input_user_ids = tf.placeholder(\n",
    "            tf.int32, shape=[batch_size], name='user_ids')\n",
    "        self.input_positive_item_ids = tf.placeholder(\n",
    "            tf.int32, shape=[batch_size], name='positive_item_ids')\n",
    "\n",
    "    def user_to_all_item_logits(self):\n",
    "        \"\"\" This is the model described at equation (22) from http://yaowu.co/docs/wsdm16cdae.pdf\n",
    "        y_ui = \\sigma{W_i^t V_u + b_i}\n",
    "        The architecture is made of:\n",
    "         * input nodes for the user_id, and associated weights or embeddings V_u\n",
    "         * internal weights W_i and biases b_i for each items\n",
    "        \"\"\"\n",
    "        return tf.add(\n",
    "            self.item_biases, \n",
    "            tf.matmul(\n",
    "                tf.nn.embedding_lookup(self.user_embeddings, self.input_user_ids),\n",
    "                tf.transpose(self.item_embeddings)),\n",
    "            name='user_to_all_item_logits')\n",
    "\n",
    "    def sampled_loss(self):\n",
    "        with tf.name_scope('loss'):\n",
    "            sample_losses = tf.nn.sampled_softmax_loss(\n",
    "                biases=self.item_biases,\n",
    "                inputs=tf.nn.embedding_lookup(self.user_embeddings, self.input_user_ids),\n",
    "                labels=tf.reshape(self.input_positive_item_ids, (-1, 1)),\n",
    "                weights=self.item_embeddings,\n",
    "                num_classes=N_ITEMS,\n",
    "                num_sampled=10, num_true=1)\n",
    "            return tf.reduce_mean(sample_losses)\n",
    "        \n",
    "    def exact_loss(self):\n",
    "        with tf.name_scope('loss'):\n",
    "            cross_entropy_sum = tf.reduce_mean(\n",
    "                tf.nn.sparse_softmax_cross_entropy_with_logits(\n",
    "                    logits=self.user_to_all_item_logits(),\n",
    "                    labels=self.input_positive_item_ids))\n",
    "            \n",
    "        return cross_entropy_sum\n",
    "\n",
    "def training(loss, learning_rate=0.01):\n",
    "    train_step = tf.train.AdamOptimizer(learning_rate).minimize(loss)\n",
    "    return train_step\n",
    "\n",
    "with tf.Graph().as_default():\n",
    "    model = UserAndItem2Vec()\n",
    "    loss = model.exact_loss()    #.sampled_loss()\n",
    "    \n",
    "    tf.scalar_summary('batch_ll', loss)\n",
    "    summary = tf.merge_all_summaries()\n",
    "    test_summary = tf.scalar_summary('test_ll', loss)\n",
    "    train_step = training(loss)\n",
    "    \n",
    "    def perform_step(step, train, test, summary_writer):\n",
    "        positive_sample_ratings = train.query('feedback == 1').sample(BATCH_SIZE)\n",
    "        _, loss_value, summary_value = sess.run(\n",
    "            fetches=[train_step, loss, summary], \n",
    "            feed_dict={\n",
    "                model.input_user_ids: positive_sample_ratings.user.values,\n",
    "                model.input_positive_item_ids: positive_sample_ratings.item.values\n",
    "            })\n",
    "        summary_writer.add_summary(summary_value, global_step=step)\n",
    "\n",
    "        if step % 10 == 0:\n",
    "            test_loss_value, test_summary_value = sess.run(\n",
    "                fetches=[loss, test_summary],\n",
    "                feed_dict={\n",
    "                    model.input_user_ids: test.query('feedback == 1').user.values,\n",
    "                    model.input_positive_item_ids: test.query('feedback == 1').item.values\n",
    "                })\n",
    "\n",
    "            all_users_item_logits = model.user_to_all_item_logits().eval(\n",
    "                feed_dict={model.input_user_ids: np.arange(N_USERS)})\n",
    "\n",
    "            print('Step {:2d}: batch/test cross-entropy loss = {:.2f}/{:.2f}'.format(step, loss_value, test_loss_value))\n",
    "            print('         batch/test recall@5 = {:.4f}/{:.4f}'.format(\n",
    "                    recall_at_k(all_users_item_logits, train, topk=5), \n",
    "                    recall_at_k(all_users_item_logits, test, topk=5)))\n",
    "            summary_writer.add_summary(test_summary_value, global_step=step)\n",
    "\n",
    "        summary_writer.flush()\n",
    "        \n",
    "    with tf.Session() as sess:\n",
    "\n",
    "        summary_writer = tf.train.SummaryWriter(LOG_DIR + '/{:%Y%m%d%H%M%S}'.format(dt.datetime.now()), sess.graph)\n",
    "\n",
    "        sess.run(tf.initialize_all_variables())\n",
    "        \n",
    "        for step in range(N_ITER):\n",
    "            perform_step(step, train, test, summary_writer)"
   ]
  }
 ],
 "metadata": {
  "anaconda-cloud": {},
  "kernelspec": {
   "display_name": "Python [default]",
   "language": "python",
   "name": "python3"
  },
  "language_info": {
   "codemirror_mode": {
    "name": "ipython",
    "version": 3
   },
   "file_extension": ".py",
   "mimetype": "text/x-python",
   "name": "python",
   "nbconvert_exporter": "python",
   "pygments_lexer": "ipython3",
   "version": "3.5.2"
  }
 },
 "nbformat": 4,
 "nbformat_minor": 0
}
